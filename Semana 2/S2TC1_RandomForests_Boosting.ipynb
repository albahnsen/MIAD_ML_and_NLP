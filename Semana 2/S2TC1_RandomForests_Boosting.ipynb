{
 "cells": [
  {
   "cell_type": "markdown",
   "metadata": {},
   "source": [
    "![image info](https://raw.githubusercontent.com/albahnsen/MIAD_ML_and_NLP/main/images/banner_1.png)"
   ]
  },
  {
   "cell_type": "markdown",
   "metadata": {},
   "source": [
    "# Taller: Construcción e implementación de modelos Bagging, Random Forest y XGBoost\n",
    "\n",
    "En este taller podrán poner en práctica sus conocimientos sobre la construcción e implementación de modelos de Bagging, Random Forest y XGBoost. El taller está constituido por 8 puntos, en los cuales deberan seguir las intrucciones de cada numeral para su desarrollo."
   ]
  },
  {
   "cell_type": "markdown",
   "metadata": {},
   "source": [
    "## Datos predicción precio de automóviles\n",
    "\n",
    "En este taller se usará el conjunto de datos de Car Listings de Kaggle donde cada observación representa el precio de un automóvil teniendo en cuenta distintas variables como año, marca, modelo, entre otras. El objetivo es predecir si el precio del automóvil es alto o no. Para más detalles puede visitar el siguiente enlace: [datos](https://www.kaggle.com/jpayne/852k-used-car-listings)."
   ]
  },
  {
   "cell_type": "code",
   "execution_count": 1,
   "metadata": {},
   "outputs": [],
   "source": [
    "import warnings\n",
    "warnings.filterwarnings('ignore')"
   ]
  },
  {
   "cell_type": "code",
   "execution_count": 2,
   "metadata": {},
   "outputs": [
    {
     "data": {
      "text/html": [
       "<div>\n",
       "<style scoped>\n",
       "    .dataframe tbody tr th:only-of-type {\n",
       "        vertical-align: middle;\n",
       "    }\n",
       "\n",
       "    .dataframe tbody tr th {\n",
       "        vertical-align: top;\n",
       "    }\n",
       "\n",
       "    .dataframe thead th {\n",
       "        text-align: right;\n",
       "    }\n",
       "</style>\n",
       "<table border=\"1\" class=\"dataframe\">\n",
       "  <thead>\n",
       "    <tr style=\"text-align: right;\">\n",
       "      <th></th>\n",
       "      <th>Year</th>\n",
       "      <th>Mileage</th>\n",
       "      <th>M_Camry</th>\n",
       "      <th>M_Camry4dr</th>\n",
       "      <th>M_CamryBase</th>\n",
       "      <th>M_CamryL</th>\n",
       "      <th>M_CamryLE</th>\n",
       "      <th>M_CamrySE</th>\n",
       "      <th>M_CamryXLE</th>\n",
       "      <th>HighPrice</th>\n",
       "    </tr>\n",
       "  </thead>\n",
       "  <tbody>\n",
       "    <tr>\n",
       "      <th>7</th>\n",
       "      <td>2014</td>\n",
       "      <td>6480</td>\n",
       "      <td>0</td>\n",
       "      <td>0</td>\n",
       "      <td>0</td>\n",
       "      <td>1</td>\n",
       "      <td>0</td>\n",
       "      <td>0</td>\n",
       "      <td>0</td>\n",
       "      <td>1</td>\n",
       "    </tr>\n",
       "    <tr>\n",
       "      <th>11</th>\n",
       "      <td>2014</td>\n",
       "      <td>39972</td>\n",
       "      <td>0</td>\n",
       "      <td>0</td>\n",
       "      <td>0</td>\n",
       "      <td>0</td>\n",
       "      <td>1</td>\n",
       "      <td>0</td>\n",
       "      <td>0</td>\n",
       "      <td>0</td>\n",
       "    </tr>\n",
       "    <tr>\n",
       "      <th>167</th>\n",
       "      <td>2016</td>\n",
       "      <td>18989</td>\n",
       "      <td>0</td>\n",
       "      <td>0</td>\n",
       "      <td>0</td>\n",
       "      <td>0</td>\n",
       "      <td>0</td>\n",
       "      <td>1</td>\n",
       "      <td>0</td>\n",
       "      <td>1</td>\n",
       "    </tr>\n",
       "    <tr>\n",
       "      <th>225</th>\n",
       "      <td>2014</td>\n",
       "      <td>51330</td>\n",
       "      <td>0</td>\n",
       "      <td>0</td>\n",
       "      <td>0</td>\n",
       "      <td>1</td>\n",
       "      <td>0</td>\n",
       "      <td>0</td>\n",
       "      <td>0</td>\n",
       "      <td>0</td>\n",
       "    </tr>\n",
       "    <tr>\n",
       "      <th>270</th>\n",
       "      <td>2007</td>\n",
       "      <td>116065</td>\n",
       "      <td>0</td>\n",
       "      <td>1</td>\n",
       "      <td>0</td>\n",
       "      <td>0</td>\n",
       "      <td>0</td>\n",
       "      <td>0</td>\n",
       "      <td>0</td>\n",
       "      <td>0</td>\n",
       "    </tr>\n",
       "  </tbody>\n",
       "</table>\n",
       "</div>"
      ],
      "text/plain": [
       "     Year  Mileage  M_Camry  M_Camry4dr  M_CamryBase  M_CamryL  M_CamryLE  \\\n",
       "7    2014     6480        0           0            0         1          0   \n",
       "11   2014    39972        0           0            0         0          1   \n",
       "167  2016    18989        0           0            0         0          0   \n",
       "225  2014    51330        0           0            0         1          0   \n",
       "270  2007   116065        0           1            0         0          0   \n",
       "\n",
       "     M_CamrySE  M_CamryXLE  HighPrice  \n",
       "7            0           0          1  \n",
       "11           0           0          0  \n",
       "167          1           0          1  \n",
       "225          0           0          0  \n",
       "270          0           0          0  "
      ]
     },
     "execution_count": 2,
     "metadata": {},
     "output_type": "execute_result"
    }
   ],
   "source": [
    "# Importación de librerías\n",
    "%matplotlib inline\n",
    "import numpy as np\n",
    "import pandas as pd\n",
    "import matplotlib.pyplot as plt\n",
    "\n",
    "# Lectura de la información de archivo .csv\n",
    "data = pd.read_csv('https://raw.githubusercontent.com/albahnsen/MIAD_ML_and_NLP/main/datasets/dataTrain_carListings.zip')\n",
    "\n",
    "# Preprocesamiento de datos para el taller\n",
    "data = data.loc[data['Model'].str.contains('Camry')].drop(['Make', 'State'], axis=1)\n",
    "data = data.join(pd.get_dummies(data['Model'], prefix='M'))\n",
    "data['HighPrice'] = (data['Price'] > data['Price'].mean()).astype(int)\n",
    "data = data.drop(['Model', 'Price'], axis=1)\n",
    "\n",
    "# Visualización dataset\n",
    "data.head()"
   ]
  },
  {
   "cell_type": "code",
   "execution_count": 3,
   "metadata": {},
   "outputs": [],
   "source": [
    "# Separación de variables predictoras (X) y variable de interés (y)\n",
    "y = data['HighPrice']\n",
    "X = data.drop(['HighPrice'], axis=1)"
   ]
  },
  {
   "cell_type": "code",
   "execution_count": 4,
   "metadata": {},
   "outputs": [],
   "source": [
    "# Separación de datos en set de entrenamiento y test\n",
    "from sklearn.model_selection import train_test_split\n",
    "X_train, X_test, y_train, y_test = train_test_split(X, y, test_size=0.33, random_state=42)"
   ]
  },
  {
   "cell_type": "markdown",
   "metadata": {},
   "source": [
    "### Punto 1 - Árbol de decisión manual\n",
    "\n",
    "En la celda 1 creen un árbol de decisión **manualmente**  que considere los set de entrenamiento y test definidos anteriormente y presenten el acurracy del modelo en el set de test."
   ]
  },
  {
   "cell_type": "code",
   "execution_count": 5,
   "metadata": {},
   "outputs": [
    {
     "name": "stdout",
     "output_type": "stream",
     "text": [
      "Accuracy:  0.8599884526558892\n"
     ]
    }
   ],
   "source": [
    "# Celda 1\n",
    "from sklearn import metrics\n",
    "\n",
    "# Definición de la función que calcula el gini index\n",
    "def gini(y):\n",
    "    if y.shape[0] == 0:\n",
    "        return 0\n",
    "    else:\n",
    "        return 1 - (y.mean()**2 + (1 - y.mean())**2)\n",
    "    \n",
    "# Definición de la función gini_imputiry para calular la ganancia de una variable predictora j dado el punto de corte k\n",
    "def gini_impurity(X_col, y, split):\n",
    "    \n",
    "    filter_l = X_col < split\n",
    "    y_l = y.loc[filter_l]\n",
    "    y_r = y.loc[~filter_l]\n",
    "    \n",
    "    n_l = y_l.shape[0]\n",
    "    n_r = y_r.shape[0]\n",
    "    \n",
    "    gini_y = gini(y)\n",
    "    gini_l = gini(y_l)\n",
    "    gini_r = gini(y_r)\n",
    "    \n",
    "    gini_impurity_ = gini_y - (n_l / (n_l + n_r) * gini_l + n_r / (n_l + n_r) * gini_r)\n",
    "    \n",
    "    return gini_impurity_\n",
    "\n",
    "# Definición de la función best_split para calcular cuál es la mejor variable y punto de cortepara hacer la bifurcación del árbol\n",
    "def best_split(X, y, num_pct=10):\n",
    "    \n",
    "    features = range(X.shape[1])\n",
    "    \n",
    "    best_split = [0, 0, 0]  # j, split, gain\n",
    "    \n",
    "    # Para todas las varibles \n",
    "    for j in features:\n",
    "        \n",
    "        splits = np.percentile(X.iloc[:, j], np.arange(0, 100, 100.0 / (num_pct+1)).tolist())\n",
    "        splits = np.unique(splits)[1:]\n",
    "        \n",
    "        # Para cada partición\n",
    "        for split in splits:\n",
    "            gain = gini_impurity(X.iloc[:, j], y, split)\n",
    "                        \n",
    "            if gain > best_split[2]:\n",
    "                best_split = [j, split, gain]\n",
    "    \n",
    "    return best_split\n",
    "\n",
    "# Definición de la función tree_grow para hacer un crecimiento recursivo del árbol\n",
    "def tree_grow(X, y, level=0, min_gain=0.001, max_depth=None, num_pct=10):\n",
    "    \n",
    "    # Si solo es una observación\n",
    "    if X.shape[0] == 1:\n",
    "        tree = dict(y_pred=y.iloc[:1].values[0], y_prob=0.5, level=level, split=-1, n_samples=1, gain=0)\n",
    "        return tree\n",
    "    \n",
    "    # Calcular la mejor división\n",
    "    j, split, gain = best_split(X, y, num_pct)\n",
    "    \n",
    "    # Guardar el árbol y estimar la predicción\n",
    "    y_pred = int(y.mean() >= 0.5) \n",
    "    y_prob = (y.sum() + 1.0) / (y.shape[0] + 2.0)  # Corrección Laplace \n",
    "    \n",
    "    tree = dict(y_pred=y_pred, y_prob=y_prob, level=level, split=-1, n_samples=X.shape[0], gain=gain)\n",
    "    # Revisar el criterio de parada \n",
    "    if gain < min_gain:\n",
    "        return tree\n",
    "    if max_depth is not None:\n",
    "        if level >= max_depth:\n",
    "            return tree   \n",
    "    \n",
    "    # Continuar creando la partición\n",
    "    filter_l = X.iloc[:, j] < split\n",
    "    X_l, y_l = X.loc[filter_l], y.loc[filter_l]\n",
    "    X_r, y_r = X.loc[~filter_l], y.loc[~filter_l]\n",
    "    tree['split'] = [j, split]\n",
    "\n",
    "    # Siguiente iteración para cada partición\n",
    "    tree['sl'] = tree_grow(X_l, y_l, level + 1, min_gain=min_gain, max_depth=max_depth, num_pct=num_pct)\n",
    "    tree['sr'] = tree_grow(X_r, y_r, level + 1, min_gain=min_gain, max_depth=max_depth, num_pct=num_pct)\n",
    "    \n",
    "    return tree\n",
    "\n",
    "# Definición de la función tree_predict para hacer predicciones según las variables 'X' y el árbol 'tree'\n",
    "def tree_predict(X, tree, proba=False):\n",
    "    \n",
    "    predicted = np.ones(X.shape[0])\n",
    "\n",
    "    # Revisar si es el nodo final\n",
    "    if tree['split'] == -1:\n",
    "        if not proba:\n",
    "            predicted = predicted * tree['y_pred']\n",
    "        else:\n",
    "            predicted = predicted * tree['y_prob']\n",
    "            \n",
    "    else:\n",
    "        \n",
    "        j, split = tree['split']\n",
    "        filter_l = (X.iloc[:, j] < split)\n",
    "        X_l = X.loc[filter_l]\n",
    "        X_r = X.loc[~filter_l]\n",
    "\n",
    "        if X_l.shape[0] == 0:  # Si el nodo izquierdo está vacio solo continua con el derecho \n",
    "            predicted[~filter_l] = tree_predict(X_r, tree['sr'], proba)\n",
    "        elif X_r.shape[0] == 0:  #  Si el nodo derecho está vacio solo continua con el izquierdo\n",
    "            predicted[filter_l] = tree_predict(X_l, tree['sl'], proba)\n",
    "        else:\n",
    "            predicted[filter_l] = tree_predict(X_l, tree['sl'], proba)\n",
    "            predicted[~filter_l] = tree_predict(X_r, tree['sr'], proba)\n",
    "\n",
    "    return predicted\n",
    "\n",
    "# Aplicación de la función tree_grow\n",
    "tree = tree_grow(X_train, y_train)\n",
    "\n",
    "# Predicciones \n",
    "y_pred_dt = tree_predict(X_test, tree)\n",
    "\n",
    "print('Accuracy: ', metrics.accuracy_score(y_test, y_pred_dt))"
   ]
  },
  {
   "cell_type": "markdown",
   "metadata": {},
   "source": [
    "### Punto 2 - Bagging manual\n",
    "\n",
    "En la celda 2 creen un modelo bagging **manualmente** con 10 árboles de clasificación y comenten sobre el desempeño del modelo."
   ]
  },
  {
   "cell_type": "code",
   "execution_count": 6,
   "metadata": {},
   "outputs": [
    {
     "name": "stdout",
     "output_type": "stream",
     "text": [
      "Accuracy:  0.8530600461893765\n"
     ]
    }
   ],
   "source": [
    "# Celda 2\n",
    "np.random.seed(12)\n",
    "\n",
    "n_samples = X_train.shape[0]\n",
    "n_B = 10\n",
    "\n",
    "samples = [np.random.choice(a=n_samples, size=n_samples, replace=True) for _ in range(1, n_B +1 )]\n",
    "\n",
    "# Construcción un árbol de decisión para cada muestra boostrap\n",
    "from sklearn.tree import DecisionTreeClassifier\n",
    "\n",
    "# Definición del modelo usando DecisionTreeRegressor de sklearn\n",
    "treecla = DecisionTreeClassifier(max_depth=None, random_state=123)\n",
    "\n",
    "# DataFrame para guardar las predicciones de cada árbol\n",
    "y_pred_bag = pd.DataFrame(index=X_test.index, columns=[list(range(n_B))])\n",
    "\n",
    "# Entrenamiento de un árbol sobre cada muestra boostrap y predicción sobre los datos de test\n",
    "for i, sample in enumerate(samples):\n",
    "    X = X_train.iloc[sample]\n",
    "    y = y_train.iloc[sample]\n",
    "    mcla = treecla.fit(X, y)\n",
    "    y_pred_bag.iloc[:,i] = mcla.predict(X_test)\n",
    "    #print('Árbol ', i, 'tiene un error: ', metrics.accuracy_score(y_pred_bag.iloc[:,i], y_test))\n",
    "\n",
    "\n",
    "# Predicciones mayoritaria para cada observación del set de test\n",
    "y_pred_bag = (y_pred_bag.sum(axis=1) >= (n_B / 2)).astype(np.int)\n",
    "\n",
    "from sklearn import metrics\n",
    "print('Accuracy: ', metrics.accuracy_score(y_pred_bag, y_test))"
   ]
  },
  {
   "cell_type": "code",
   "execution_count": 7,
   "metadata": {},
   "outputs": [
    {
     "name": "stdout",
     "output_type": "stream",
     "text": [
      "Accuracy:  0.8807736720554272\n"
     ]
    }
   ],
   "source": [
    "# Definición del modelo usando DecisionTreeRegressor de sklearn\n",
    "treecla = DecisionTreeClassifier(max_depth=10, random_state=123)\n",
    "\n",
    "# DataFrame para guardar las predicciones de cada árbol\n",
    "y_pred_bag = pd.DataFrame(index=X_test.index, columns=[list(range(n_B))])\n",
    "\n",
    "# Entrenamiento de un árbol sobre cada muestra boostrap y predicción sobre los datos de test\n",
    "for i, sample in enumerate(samples):\n",
    "    X = X_train.iloc[sample]\n",
    "    y = y_train.iloc[sample]\n",
    "    mcla = treecla.fit(X, y)\n",
    "    y_pred_bag.iloc[:,i] = mcla.predict(X_test)\n",
    "    #print('Árbol ', i, 'tiene un error: ', metrics.accuracy_score(y_pred_bag.iloc[:,i], y_test))\n",
    "\n",
    "\n",
    "# Predicciones mayoritaria para cada observación del set de test\n",
    "y_pred_bag = (y_pred_bag.sum(axis=1) >= (n_B / 2)).astype(np.int)\n",
    "\n",
    "from sklearn import metrics\n",
    "print('Accuracy: ', metrics.accuracy_score(y_pred_bag, y_test))"
   ]
  },
  {
   "cell_type": "markdown",
   "metadata": {},
   "source": [
    "El bagging, con metodologia de votacion mayoritaria, tiene un buen desempeño, al obtener un 85% de precision. Para obtener un mejor desempeño, se podria hacer una calibracion de los parametros, por ejemplo al declarar max_depth=10, se obtiene una preciison del 88%."
   ]
  },
  {
   "cell_type": "markdown",
   "metadata": {},
   "source": [
    "### Punto 3 - Bagging con librería\n",
    "\n",
    "En la celda 3, con la librería sklearn, entrenen un modelo bagging con 10 árboles de clasificación y el parámetro `max_features` igual a `log(n_features)`. Presenten el acurracy del modelo en el set de test y comenten sus resultados."
   ]
  },
  {
   "cell_type": "code",
   "execution_count": 8,
   "metadata": {},
   "outputs": [
    {
     "name": "stdout",
     "output_type": "stream",
     "text": [
      "Accuracy:  0.851039260969977\n"
     ]
    }
   ],
   "source": [
    "# Celda 3\n",
    "# Uso de BaggingRegressor de la libreria (sklearn) donde se usa el modelo BaggingClassifier como estimador\n",
    "from sklearn.ensemble import BaggingClassifier\n",
    "\n",
    "max_fea = int(np.log(X_train.shape[1]))\n",
    "bagclas = BaggingClassifier(DecisionTreeClassifier(max_depth=10), n_estimators=10, max_features = max_fea,\n",
    "                           bootstrap=True, oob_score=True, random_state=1)\n",
    "\n",
    "bagclas.fit(X_train, y_train)\n",
    "y_pred_bagclas = bagclas.predict(X_test)\n",
    "\n",
    "# Cálculo del  Accuracy y F1-Score del modelo\n",
    "print('Accuracy: ', metrics.accuracy_score(y_test,y_pred_bagclas))"
   ]
  },
  {
   "cell_type": "markdown",
   "metadata": {},
   "source": [
    "Usando la libreria de sklearn, al bagging, con metodologia de votacion mayoritaria y max_depth=10, tiene un buen desempeño, al obtener un 85% de precision."
   ]
  },
  {
   "cell_type": "markdown",
   "metadata": {},
   "source": [
    "### Punto 4 - Random forest con librería\n",
    "\n",
    "En la celda 4, usando la librería sklearn entrenen un modelo de Randon Forest para clasificación y presenten el acurracy del modelo en el set de test y comenten sus resultados."
   ]
  },
  {
   "cell_type": "code",
   "execution_count": 9,
   "metadata": {},
   "outputs": [
    {
     "data": {
      "text/plain": [
       "count    10.000000\n",
       "mean      0.836444\n",
       "std       0.019918\n",
       "min       0.796875\n",
       "25%       0.829303\n",
       "50%       0.836415\n",
       "75%       0.842105\n",
       "max       0.871977\n",
       "dtype: float64"
      ]
     },
     "metadata": {},
     "output_type": "display_data"
    },
    {
     "name": "stdout",
     "output_type": "stream",
     "text": [
      "Accuracy TEST:  0.8360171101125047\n",
      "Accuracy TRAIN:  0.8429561200923787\n"
     ]
    }
   ],
   "source": [
    "# Celda 4\n",
    "from sklearn.ensemble import RandomForestClassifier\n",
    "from sklearn.model_selection import cross_val_score\n",
    "\n",
    "# Definición de modelo Random Forest para un problema de clasificación\n",
    "clf = RandomForestClassifier()\n",
    "clf.fit(X_train,y_train)\n",
    "\n",
    "#Impresión de desempeño del modelo usando la función cross_val_score  \n",
    "display(pd.Series(cross_val_score(clf, X_train, y_train, cv=10, scoring='accuracy')).describe())\n",
    "print('Accuracy TEST: ', pd.Series(cross_val_score(clf, X_train, y_train, cv=10, scoring='accuracy')).mean())\n",
    "\n",
    "\n",
    "\n",
    "\n",
    "\n",
    "\n",
    "\n",
    "\n",
    "\n",
    "\n",
    "\n",
    "\n",
    "\n",
    "\n",
    "\n",
    "clf = RandomForestClassifier(random_state=1, n_jobs=-1)\n",
    "clf.fit(X_train,y_train)\n",
    "y_predclf = clf.predict(X_test)\n",
    "\n",
    "rf_sincali = metrics.accuracy_score(y_test, y_predclf)\n",
    "print('Accuracy TRAIN: ', rf_sincali)"
   ]
  },
  {
   "cell_type": "markdown",
   "metadata": {},
   "source": [
    "Se observa un buen ajuste del modelo, una mejoria en la presicion entre la muestra de entrenamiento y la de prueba. Sin embargo, se ve un menor desempeño respecto a los modelos de bagging ajustados en los puntos anteriores. "
   ]
  },
  {
   "cell_type": "markdown",
   "metadata": {},
   "source": [
    "### Punto 5 - Calibración de parámetros Random forest\n",
    "\n",
    "En la celda 5, calibren los parámetros max_depth, max_features y n_estimators del modelo de Randon Forest para clasificación. Presenten el acurracy del modelo en el set de test, comenten sus resultados y análicen cómo cada parámetro afecta el modelo."
   ]
  },
  {
   "cell_type": "code",
   "execution_count": 10,
   "metadata": {},
   "outputs": [
    {
     "data": {
      "text/plain": [
       "(0.8506659769817665, 271)"
      ]
     },
     "execution_count": 10,
     "metadata": {},
     "output_type": "execute_result"
    },
    {
     "data": {
      "image/png": "[encoded data removed]",
      "text/plain": [
       "<Figure size 720x360 with 1 Axes>"
      ]
     },
     "metadata": {
      "needs_background": "light"
     },
     "output_type": "display_data"
    }
   ],
   "source": [
    "# Celda 5\n",
    "\n",
    "###### Calibracion de n_estimators\n",
    "# Creación de lista de valores para iterar sobre diferentes valores de n_estimators\n",
    "estimator_range = range(1, 310, 10)\n",
    "\n",
    "# Definición de lista para almacenar la exactitud (accuracy) promedio para cada valor de n_estimators\n",
    "accuracy_scores = []\n",
    "\n",
    "# Uso de un 10-fold cross-validation para cada valor de n_estimators\n",
    "for estimator in estimator_range:\n",
    "    clf = RandomForestClassifier(n_estimators=estimator, max_features=None, max_depth=None, random_state=1, n_jobs=-1)\n",
    "    accuracy_scores.append(cross_val_score(clf, X_train, y_train, cv=10, scoring='accuracy').mean())\n",
    "    \n",
    "# Gráfica del desempeño del modelo vs la cantidad de n_estimators\n",
    "plt.figure(figsize=(10,5))\n",
    "plt.plot(estimator_range, accuracy_scores)\n",
    "plt.xlabel('n_estimators')\n",
    "plt.ylabel('Accuracy')\n",
    "\n",
    "# Mejor accuracy (desempeño del modelo) y su correspondiente numero de estiamdosres\n",
    "acc_opt_n_estimators, opt_n_estimators = sorted(zip(accuracy_scores, estimator_range))[::-1][0]\n",
    "acc_opt_n_estimators, opt_n_estimators"
   ]
  },
  {
   "cell_type": "code",
   "execution_count": 11,
   "metadata": {},
   "outputs": [
    {
     "name": "stdout",
     "output_type": "stream",
     "text": [
      "0.8539260969976905\n"
     ]
    }
   ],
   "source": [
    "clf = RandomForestClassifier(n_estimators=opt_n_estimators, max_features=None, max_depth=None, random_state=1, n_jobs=-1)\n",
    "clf.fit(X_train, y_train)\n",
    "y_pred = clf.predict(X_test)\n",
    "\n",
    "acc_n_estimators = metrics.accuracy_score(y_test, y_pred)\n",
    "print(acc_n_estimators)"
   ]
  },
  {
   "cell_type": "code",
   "execution_count": 12,
   "metadata": {},
   "outputs": [
    {
     "data": {
      "text/plain": [
       "(0.8506659769817665, 9)"
      ]
     },
     "execution_count": 12,
     "metadata": {},
     "output_type": "execute_result"
    },
    {
     "data": {
      "image/png": "[encoded data removed]",
      "text/plain": [
       "<Figure size 720x360 with 1 Axes>"
      ]
     },
     "metadata": {
      "needs_background": "light"
     },
     "output_type": "display_data"
    }
   ],
   "source": [
    "###### Calibracion de max_features\n",
    "# Creación de lista de valores para iterar sobre diferentes valores de max_features\n",
    "feature_range = range(1, X_train.shape[1]+1)\n",
    "\n",
    "# Definición de lista para almacenar la exactitud (accuracy) promedio para cada valor de max_features\n",
    "accuracy_scores = []\n",
    "\n",
    "# Uso de un 10-fold cross-validation para cada valor de max_features\n",
    "for feature in feature_range:\n",
    "    #clf = RandomForestClassifier(n_estimators=opt_n_estimators, max_features=feature, random_state=1, n_jobs=-1)\n",
    "    clf = RandomForestClassifier(max_features=feature, n_estimators=opt_n_estimators, max_depth=None, random_state=1, n_jobs=-1)\n",
    "    accuracy_scores.append(cross_val_score(clf, X_train, y_train, cv=10, scoring='accuracy').mean())\n",
    "    \n",
    "# Gráfica del desempeño del modelo vs la cantidad de max_features\n",
    "plt.figure(figsize=(10,5))\n",
    "plt.plot(feature_range, accuracy_scores)\n",
    "plt.xlabel('max_features')\n",
    "plt.ylabel('Accuracy')\n",
    "\n",
    "# Mejor accuracy (desempeño del modelo) y su correspondiente numero de features\n",
    "acc_opt_n_features, opt_n_features = sorted(zip(accuracy_scores, feature_range))[::-1][0]\n",
    "acc_opt_n_features, opt_n_features"
   ]
  },
  {
   "cell_type": "code",
   "execution_count": 13,
   "metadata": {},
   "outputs": [
    {
     "data": {
      "text/plain": [
       "0.8539260969976905"
      ]
     },
     "execution_count": 13,
     "metadata": {},
     "output_type": "execute_result"
    }
   ],
   "source": [
    "clf = RandomForestClassifier(n_estimators=opt_n_estimators, max_features=opt_n_features, max_depth=None, random_state=1, n_jobs=-1)\n",
    "clf.fit(X_train, y_train)\n",
    "y_pred = clf.predict(X_test)\n",
    "\n",
    "acc_opt_n_features = metrics.accuracy_score(y_test, y_pred)\n",
    "acc_opt_n_features"
   ]
  },
  {
   "cell_type": "code",
   "execution_count": 14,
   "metadata": {},
   "outputs": [
    {
     "data": {
      "text/plain": [
       "(0.8815284333376437, 7)"
      ]
     },
     "execution_count": 14,
     "metadata": {},
     "output_type": "execute_result"
    },
    {
     "data": {
      "image/png": "[encoded data removed]",
      "text/plain": [
       "<Figure size 720x360 with 1 Axes>"
      ]
     },
     "metadata": {
      "needs_background": "light"
     },
     "output_type": "display_data"
    }
   ],
   "source": [
    "###### Calibracion de max_depth\n",
    "# Lista de valores para calibrar el criterio de parada de máxima profundidad (max_depth)\n",
    "max_depth_range = range(1, 51)\n",
    "\n",
    "# Definición de lista para almacenar la exactitud (accuracy) promedio para cada valor de máxima profundidad (max_depth)\n",
    "accuracy_scores = []\n",
    "\n",
    "# Loop para obtener el desempeño del modelo de acuerdo con la máxima profundidad\n",
    "for depth in max_depth_range:\n",
    "    # Definición del árbol de decisión usando DecisionTreeClassifier de la libreria sklearn\n",
    "    #clf = RandomForestClassifier(max_features=opt_n_features, n_estimators=opt_n_estimators, max_depth=depth, random_state=1, n_jobs=-1)\n",
    "    clf = RandomForestClassifier(max_features=None, n_estimators=opt_n_estimators, max_depth=depth, random_state=1, n_jobs=-1)\n",
    "    accuracy_scores.append(cross_val_score(clf, X_train, y_train, cv=10, scoring='accuracy').mean())\n",
    "    \n",
    "# Gráfica el desempeño del modelo vs max_depth\n",
    "plt.figure(figsize=(10,5))\n",
    "plt.plot(max_depth_range, accuracy_scores)\n",
    "plt.xlabel('max_depth')\n",
    "plt.ylabel('Accuracy')\n",
    "\n",
    "# Mejor accuracy (desempeño del modelo) y su correspondiente max_depth\n",
    "acc_opt_max_depth, opt_max_depth = sorted(zip(accuracy_scores, max_depth_range))[::-1][0]\n",
    "acc_opt_max_depth, opt_max_depth"
   ]
  },
  {
   "cell_type": "code",
   "execution_count": 15,
   "metadata": {},
   "outputs": [
    {
     "data": {
      "text/plain": [
       "0.8839491916859122"
      ]
     },
     "execution_count": 15,
     "metadata": {},
     "output_type": "execute_result"
    }
   ],
   "source": [
    "clf = RandomForestClassifier(n_estimators=opt_n_estimators, max_features=None, max_depth=opt_max_depth, random_state=1, n_jobs=-1)\n",
    "clf.fit(X_train, y_train)\n",
    "y_pred = clf.predict(X_test)\n",
    "\n",
    "acc_opt_max_depth = metrics.accuracy_score(y_test, y_pred)\n",
    "acc_opt_max_depth"
   ]
  },
  {
   "cell_type": "code",
   "execution_count": 16,
   "metadata": {},
   "outputs": [
    {
     "data": {
      "text/plain": [
       "(0.897880813540037, 0.8839491916859122)"
      ]
     },
     "execution_count": 16,
     "metadata": {},
     "output_type": "execute_result"
    }
   ],
   "source": [
    "clf = RandomForestClassifier(n_estimators=opt_n_estimators, max_features=opt_n_features, max_depth=opt_max_depth, random_state=1, n_jobs=-1)\n",
    "clf.fit(X_train, y_train)\n",
    "y_pred_tr = clf.predict(X_train)\n",
    "y_pred = clf.predict(X_test)\n",
    "\n",
    "metrics.accuracy_score(y_train, y_pred_tr), metrics.accuracy_score(y_test, y_pred)"
   ]
  },
  {
   "cell_type": "code",
   "execution_count": 17,
   "metadata": {},
   "outputs": [
    {
     "data": {
      "text/plain": [
       "(0.8947518133978097, 0.8868360277136259)"
      ]
     },
     "execution_count": 17,
     "metadata": {},
     "output_type": "execute_result"
    }
   ],
   "source": [
    "clf = RandomForestClassifier(n_estimators=opt_n_estimators, max_features=3, max_depth=opt_max_depth, random_state=1, n_jobs=-1)\n",
    "clf.fit(X_train, y_train)\n",
    "y_pred_tr = clf.predict(X_train)\n",
    "y_pred = clf.predict(X_test)\n",
    "\n",
    "rf_calibrado = metrics.accuracy_score(y_test, y_pred)\n",
    "\n",
    "metrics.accuracy_score(y_train, y_pred_tr), metrics.accuracy_score(y_test, y_pred)"
   ]
  },
  {
   "cell_type": "markdown",
   "metadata": {},
   "source": [
    "Se obtinene que para los parametro calibrados se deberia ajustar un modelo con n_estimators = 271, max_features = 9 y max_depth = 7, para un modelo con un desempeño del 88% evaluado en la muestra de prueba. Sin embargo, se observa que al cambiar max_features por la raiz cuadrada del numero de variable predictoras, existe una mejoria en la precisión sobre la muestra de prueba."
   ]
  },
  {
   "cell_type": "markdown",
   "metadata": {},
   "source": [
    "### Punto 6 - XGBoost con librería\n",
    "\n",
    "En la celda 6 implementen un modelo XGBoost de clasificación con la librería sklearn, presenten el acurracy del modelo en el set de test y comenten sus resultados."
   ]
  },
  {
   "cell_type": "code",
   "execution_count": 18,
   "metadata": {},
   "outputs": [
    {
     "name": "stdout",
     "output_type": "stream",
     "text": [
      "Requirement already satisfied: xgboost in c:\\programdata\\anaconda3\\lib\\site-packages (1.6.0)\n",
      "Requirement already satisfied: numpy in c:\\programdata\\anaconda3\\lib\\site-packages (from xgboost) (1.18.1)\n",
      "Requirement already satisfied: scipy in c:\\programdata\\anaconda3\\lib\\site-packages (from xgboost) (1.4.1)\n"
     ]
    }
   ],
   "source": [
    "!pip install xgboost"
   ]
  },
  {
   "cell_type": "code",
   "execution_count": 19,
   "metadata": {},
   "outputs": [
    {
     "name": "stdout",
     "output_type": "stream",
     "text": [
      "0.8856812933025404\n"
     ]
    }
   ],
   "source": [
    "# Celda 6\n",
    "from xgboost import XGBClassifier\n",
    "from sklearn.tree import DecisionTreeClassifier\n",
    "from sklearn import metrics\n",
    "xgb = XGBClassifier(eval_metric = \"error\")\n",
    "xgb\n",
    "\n",
    "xgb.fit(X_train, y_train)\n",
    "y_pred = xgb.predict(X_test)\n",
    "print(metrics.accuracy_score(y_pred, y_test.values))"
   ]
  },
  {
   "cell_type": "markdown",
   "metadata": {},
   "source": [
    "Se observa un buen desempeño del modelo XGBoost, aun cuando no se hace una calibracion de los parametros, se obtiene una precision del 88.5%."
   ]
  },
  {
   "cell_type": "markdown",
   "metadata": {},
   "source": [
    "### Punto 7 - Calibración de parámetros XGBoost\n",
    "\n",
    "En la celda 7 calibren los parámetros learning rate, gamma y colsample_bytree del modelo XGBoost para clasificación. Presenten el acurracy del modelo en el set de test, comenten sus resultados y análicen cómo cada parámetro afecta el modelo."
   ]
  },
  {
   "cell_type": "code",
   "execution_count": 20,
   "metadata": {},
   "outputs": [
    {
     "data": {
      "text/plain": [
       "(0.8822382564981248, 0.060000000000000005)"
      ]
     },
     "execution_count": 20,
     "metadata": {},
     "output_type": "execute_result"
    },
    {
     "data": {
      "image/png": "[encoded data removed]",
      "text/plain": [
       "<Figure size 720x360 with 1 Axes>"
      ]
     },
     "metadata": {
      "needs_background": "light"
     },
     "output_type": "display_data"
    }
   ],
   "source": [
    "# Celda 7\n",
    "\n",
    "### Calibracióm learning_rate (eta)\n",
    "# Lista de valores para calibrar el criterio de Tasa de aprendizaje (Learning Rate)\n",
    "learning_rate_range = np.arange(0.01, 0.3, 0.01)\n",
    "\n",
    "# Definición de lista para almacenar la exactitud (accuracy) promedio para cada valor de tasa de aprendizaje (Learning Rate)\n",
    "accuracy_scores = []\n",
    "\n",
    "# Loop para obtener el desempeño del modelo de acuerdo con la  tasa de aprendizaje\n",
    "for learning_rate in learning_rate_range:\n",
    "    clf = XGBClassifier(eval_metric = \"error\", eta=learning_rate)\n",
    "    accuracy_scores.append(cross_val_score(clf, X_train, y_train, cv=10, scoring='accuracy').mean())\n",
    "    \n",
    "# Gráfica el desempeño del modelo vs learning_rate\n",
    "plt.figure(figsize=(10,5))\n",
    "plt.plot(learning_rate_range, accuracy_scores)\n",
    "plt.xlabel('learning_rate')\n",
    "plt.ylabel('Accuracy')\n",
    "\n",
    "# Mejor accuracy (desempeño del modelo) y su correspondiente learning_rate\n",
    "acc_opt_learning_rate, opt_learning_rate = sorted(zip(accuracy_scores, learning_rate_range))[::-1][0]\n",
    "acc_opt_learning_rate, opt_learning_rate"
   ]
  },
  {
   "cell_type": "code",
   "execution_count": 21,
   "metadata": {},
   "outputs": [
    {
     "data": {
      "text/plain": [
       "0.8853926096997691"
      ]
     },
     "execution_count": 21,
     "metadata": {},
     "output_type": "execute_result"
    }
   ],
   "source": [
    "clf = XGBClassifier(eval_metric = \"error\", eta=opt_learning_rate)\n",
    "clf.fit(X_train, y_train)\n",
    "y_pred = clf.predict(X_test)\n",
    "\n",
    "acc_opt_learning_rate = metrics.accuracy_score(y_test, y_pred)\n",
    "acc_opt_learning_rate"
   ]
  },
  {
   "cell_type": "code",
   "execution_count": 22,
   "metadata": {},
   "outputs": [
    {
     "data": {
      "text/plain": [
       "(0.884657272403983, 16.799999999999986)"
      ]
     },
     "execution_count": 22,
     "metadata": {},
     "output_type": "execute_result"
    },
    {
     "data": {
      "image/png": "[encoded data removed]",
      "text/plain": [
       "<Figure size 720x360 with 1 Axes>"
      ]
     },
     "metadata": {
      "needs_background": "light"
     },
     "output_type": "display_data"
    }
   ],
   "source": [
    "### Calibración min_split_loss (Gamma)\n",
    "\n",
    "# Lista de valores para calibrar el criterio de Tasa de aprendizaje (Gamma)\n",
    "min_split_loss_range = np.arange(13, 18, 0.1)\n",
    "min_split_loss_range\n",
    "\n",
    "# Definición de lista para almacenar la exactitud (accuracy) promedio para cada valor de min_split_loss\n",
    "accuracy_scores = []\n",
    "\n",
    "# Loop para obtener el desempeño del modelo de acuerdo con la  tasa de aprendizaje\n",
    "for min_split_loss in min_split_loss_range:\n",
    "    clf = XGBClassifier(eval_metric = \"error\", eta=opt_learning_rate, gamma=min_split_loss)\n",
    "    accuracy_scores.append(cross_val_score(clf, X_train, y_train, cv=10, scoring='accuracy').mean())\n",
    "    \n",
    "# Gráfica el desempeño del modelo vs learning_rate\n",
    "plt.figure(figsize=(10,5))\n",
    "plt.plot(min_split_loss_range, accuracy_scores)\n",
    "plt.xlabel('min_split_loss')\n",
    "plt.ylabel('Accuracy')\n",
    "\n",
    "# Mejor accuracy (desempeño del modelo) y su correspondiente learning_rate\n",
    "acc_opt_min_split_loss, opt_min_split_loss = sorted(zip(accuracy_scores, min_split_loss_range))[::-1][0]\n",
    "acc_opt_min_split_loss, opt_min_split_loss"
   ]
  },
  {
   "cell_type": "code",
   "execution_count": 23,
   "metadata": {},
   "outputs": [
    {
     "data": {
      "text/plain": [
       "0.8877020785219399"
      ]
     },
     "execution_count": 23,
     "metadata": {},
     "output_type": "execute_result"
    }
   ],
   "source": [
    "clf = XGBClassifier(eval_metric = \"error\", eta=opt_learning_rate, gamma=opt_min_split_loss)\n",
    "clf.fit(X_train, y_train)\n",
    "y_pred = clf.predict(X_test)\n",
    "\n",
    "acc_opt_min_split_loss = metrics.accuracy_score(y_test, y_pred)\n",
    "acc_opt_min_split_loss"
   ]
  },
  {
   "cell_type": "code",
   "execution_count": 24,
   "metadata": {},
   "outputs": [
    {
     "data": {
      "text/plain": [
       "(0.884657272403983, 1.0)"
      ]
     },
     "execution_count": 24,
     "metadata": {},
     "output_type": "execute_result"
    },
    {
     "data": {
      "image/png": "[encoded data removed]",
      "text/plain": [
       "<Figure size 720x360 with 1 Axes>"
      ]
     },
     "metadata": {
      "needs_background": "light"
     },
     "output_type": "display_data"
    }
   ],
   "source": [
    "### Calibración colsample_bytree\n",
    "\n",
    "# Lista de valores para calibrar el criterio de número de predictores considerados a en cada división (colsample_bytree)\n",
    "colsample_by_tree_range = np.arange(0, 1.1, 0.1)\n",
    "colsample_by_tree_range\n",
    "\n",
    "# Definición de lista para almacenar la exactitud (accuracy) promedio para cada valor del número de predictores considerados a en cada división.\n",
    "accuracy_scores = []\n",
    "\n",
    "# Loop para obtener el desempeño del modelo de acuerdo con la  tasa de aprendizaje\n",
    "for colsample_by_tree in colsample_by_tree_range:\n",
    "    clf = XGBClassifier(eval_metric = \"error\", eta=opt_learning_rate, gamma=opt_min_split_loss, colsample_bytree=colsample_by_tree)\n",
    "    accuracy_scores.append(cross_val_score(clf, X_train, y_train, cv=10, scoring='accuracy').mean())\n",
    "    \n",
    "# Gráfica el desempeño del modelo vs número de predictores considerados a en cada división.\n",
    "plt.figure(figsize=(10,5))\n",
    "plt.plot(colsample_by_tree_range, accuracy_scores)\n",
    "plt.xlabel('colsample_by_tree')\n",
    "plt.ylabel('Accuracy')\n",
    "\n",
    "# Mejor accuracy (desempeño del modelo) y su correspondiente número de predictores considerados a en cada división.\n",
    "acc_opt_colsample_by_tree, opt_colsample_by_tree = sorted(zip(accuracy_scores, colsample_by_tree_range))[::-1][0]\n",
    "acc_opt_colsample_by_tree, opt_colsample_by_tree"
   ]
  },
  {
   "cell_type": "code",
   "execution_count": 25,
   "metadata": {},
   "outputs": [
    {
     "data": {
      "text/plain": [
       "0.8877020785219399"
      ]
     },
     "execution_count": 25,
     "metadata": {},
     "output_type": "execute_result"
    }
   ],
   "source": [
    "clf = XGBClassifier(eval_metric = \"error\", eta=opt_learning_rate, gamma=opt_min_split_loss, colsample_bytree=opt_colsample_by_tree)\n",
    "clf.fit(X_train, y_train)\n",
    "y_pred = clf.predict(X_test)\n",
    "\n",
    "acc_opt_colsample_by_tree = metrics.accuracy_score(y_test, y_pred)\n",
    "acc_opt_colsample_by_tree"
   ]
  },
  {
   "cell_type": "markdown",
   "metadata": {},
   "source": [
    "### Punto 8 - Comparación y análisis de resultados\n",
    "En la celda 8 comparen los resultados obtenidos de los diferentes modelos (random forest y XGBoost) y comenten las ventajas del mejor modelo y las desventajas del modelo con el menor desempeño."
   ]
  },
  {
   "cell_type": "code",
   "execution_count": 26,
   "metadata": {},
   "outputs": [
    {
     "data": {
      "image/png": "[encoded data removed]",
      "text/plain": [
       "<Figure size 432x288 with 1 Axes>"
      ]
     },
     "metadata": {
      "needs_background": "light"
     },
     "output_type": "display_data"
    }
   ],
   "source": [
    "# Celda 8\n",
    "\n",
    "fig = plt.figure()\n",
    "ax = fig.add_axes([0,0,1,1])\n",
    "ax.set_title(\"ACCURACY\")\n",
    "XGBoost=0.8856812933025404\n",
    "XGBoost_Calibrado=0.8862586605080831\n",
    "ejeX = ['RF sin Calibrar', 'RF Calibrado', 'XGBoost sin Calibrar','XGBoost Calibrado']\n",
    "ejeY = [ rf_sincali,  rf_calibrado, rf_sincali, acc_opt_colsample_by_tree]\n",
    "ax.bar(ejeX,ejeY)\n",
    "def addlabels(x,y,plotP):\n",
    "    for i in range(len(x)):\n",
    "        plotP.text(i,round(y[i], 4), round(y[i], 4), ha=\"center\")\n",
    "addlabels(ejeX,ejeY,plt)\n",
    "plt.show()"
   ]
  },
  {
   "cell_type": "markdown",
   "metadata": {},
   "source": [
    "Al comprar el Accuracy de los modelos realizados observamos que el modelo XGBoost Calibrado es el que mejor Accuracy presenta con un 88.77% superando todos los modelos construidos en este ejercicio, sin embargo al comparar el mejor modelo de XGBoost con el Random Forest Calibrado es posible entrar en la discusion si el ajuste ganado por XGBoost compensa el mayor esfuerzo computacional con respecto al Random Forest.\n",
    "\n",
    "Sin duda la discusion sobre cual es el mejor modelo para mi problema dependera sobre el peso que le damos a un mejor nivel de ajuste vs un mayor costo en tiempo y recursos. "
   ]
  },
  {
   "cell_type": "code",
   "execution_count": null,
   "metadata": {},
   "outputs": [],
   "source": []
  }
 ],
 "metadata": {
  "kernelspec": {
   "display_name": "Python 3",
   "language": "python",
   "name": "python3"
  },
  "language_info": {
   "codemirror_mode": {
    "name": "ipython",
    "version": 3
   },
   "file_extension": ".py",
   "mimetype": "text/x-python",
   "name": "python",
   "nbconvert_exporter": "python",
   "pygments_lexer": "ipython3",
   "version": "3.7.6"
  }
 },
 "nbformat": 4,
 "nbformat_minor": 4
}
