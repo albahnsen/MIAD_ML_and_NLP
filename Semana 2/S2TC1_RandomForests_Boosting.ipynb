{
 "cells": [
  {
   "cell_type": "markdown",
   "metadata": {},
   "source": [
    "![image info](https://raw.githubusercontent.com/albahnsen/MIAD_ML_and_NLP/main/images/banner_1.png)"
   ]
  },
  {
   "cell_type": "markdown",
   "metadata": {},
   "source": [
    "# Taller: Construcción e implementación de modelos Bagging, Random Forest y XGBoost\n",
    "\n",
    "En este taller podrán poner en práctica sus conocimientos sobre la construcción e implementación de modelos de Bagging, Random Forest y XGBoost. El taller está constituido por 8 puntos, en los cuales deberan seguir las intrucciones de cada numeral para su desarrollo."
   ]
  },
  {
   "cell_type": "markdown",
   "metadata": {},
   "source": [
    "## Datos predicción precio de automóviles\n",
    "\n",
    "En este taller se usará el conjunto de datos de Car Listings de Kaggle donde cada observación representa el precio de un automóvil teniendo en cuenta distintas variables como año, marca, modelo, entre otras. El objetivo es predecir si el precio del automóvil es alto o no. Para más detalles puede visitar el siguiente enlace: [datos](https://www.kaggle.com/jpayne/852k-used-car-listings)."
   ]
  },
  {
   "cell_type": "code",
   "execution_count": 1,
   "metadata": {},
   "outputs": [],
   "source": [
    "import warnings\n",
    "warnings.filterwarnings('ignore')"
   ]
  },
  {
   "cell_type": "code",
   "execution_count": 2,
   "metadata": {},
   "outputs": [
    {
     "data": {
      "text/html": [
       "<div>\n",
       "<style scoped>\n",
       "    .dataframe tbody tr th:only-of-type {\n",
       "        vertical-align: middle;\n",
       "    }\n",
       "\n",
       "    .dataframe tbody tr th {\n",
       "        vertical-align: top;\n",
       "    }\n",
       "\n",
       "    .dataframe thead th {\n",
       "        text-align: right;\n",
       "    }\n",
       "</style>\n",
       "<table border=\"1\" class=\"dataframe\">\n",
       "  <thead>\n",
       "    <tr style=\"text-align: right;\">\n",
       "      <th></th>\n",
       "      <th>Year</th>\n",
       "      <th>Mileage</th>\n",
       "      <th>M_Camry</th>\n",
       "      <th>M_Camry4dr</th>\n",
       "      <th>M_CamryBase</th>\n",
       "      <th>M_CamryL</th>\n",
       "      <th>M_CamryLE</th>\n",
       "      <th>M_CamrySE</th>\n",
       "      <th>M_CamryXLE</th>\n",
       "      <th>HighPrice</th>\n",
       "    </tr>\n",
       "  </thead>\n",
       "  <tbody>\n",
       "    <tr>\n",
       "      <th>7</th>\n",
       "      <td>2014</td>\n",
       "      <td>6480</td>\n",
       "      <td>0</td>\n",
       "      <td>0</td>\n",
       "      <td>0</td>\n",
       "      <td>1</td>\n",
       "      <td>0</td>\n",
       "      <td>0</td>\n",
       "      <td>0</td>\n",
       "      <td>1</td>\n",
       "    </tr>\n",
       "    <tr>\n",
       "      <th>11</th>\n",
       "      <td>2014</td>\n",
       "      <td>39972</td>\n",
       "      <td>0</td>\n",
       "      <td>0</td>\n",
       "      <td>0</td>\n",
       "      <td>0</td>\n",
       "      <td>1</td>\n",
       "      <td>0</td>\n",
       "      <td>0</td>\n",
       "      <td>0</td>\n",
       "    </tr>\n",
       "    <tr>\n",
       "      <th>167</th>\n",
       "      <td>2016</td>\n",
       "      <td>18989</td>\n",
       "      <td>0</td>\n",
       "      <td>0</td>\n",
       "      <td>0</td>\n",
       "      <td>0</td>\n",
       "      <td>0</td>\n",
       "      <td>1</td>\n",
       "      <td>0</td>\n",
       "      <td>1</td>\n",
       "    </tr>\n",
       "    <tr>\n",
       "      <th>225</th>\n",
       "      <td>2014</td>\n",
       "      <td>51330</td>\n",
       "      <td>0</td>\n",
       "      <td>0</td>\n",
       "      <td>0</td>\n",
       "      <td>1</td>\n",
       "      <td>0</td>\n",
       "      <td>0</td>\n",
       "      <td>0</td>\n",
       "      <td>0</td>\n",
       "    </tr>\n",
       "    <tr>\n",
       "      <th>270</th>\n",
       "      <td>2007</td>\n",
       "      <td>116065</td>\n",
       "      <td>0</td>\n",
       "      <td>1</td>\n",
       "      <td>0</td>\n",
       "      <td>0</td>\n",
       "      <td>0</td>\n",
       "      <td>0</td>\n",
       "      <td>0</td>\n",
       "      <td>0</td>\n",
       "    </tr>\n",
       "  </tbody>\n",
       "</table>\n",
       "</div>"
      ],
      "text/plain": [
       "     Year  Mileage  M_Camry  M_Camry4dr  M_CamryBase  M_CamryL  M_CamryLE  \\\n",
       "7    2014     6480        0           0            0         1          0   \n",
       "11   2014    39972        0           0            0         0          1   \n",
       "167  2016    18989        0           0            0         0          0   \n",
       "225  2014    51330        0           0            0         1          0   \n",
       "270  2007   116065        0           1            0         0          0   \n",
       "\n",
       "     M_CamrySE  M_CamryXLE  HighPrice  \n",
       "7            0           0          1  \n",
       "11           0           0          0  \n",
       "167          1           0          1  \n",
       "225          0           0          0  \n",
       "270          0           0          0  "
      ]
     },
     "execution_count": 2,
     "metadata": {},
     "output_type": "execute_result"
    }
   ],
   "source": [
    "# Importación de librerías\n",
    "%matplotlib inline\n",
    "import pandas as pd\n",
    "import numpy as np\n",
    "import matplotlib.pyplot as plt\n",
    "from sklearn.tree import DecisionTreeClassifier\n",
    "from sklearn.ensemble import BaggingClassifier\n",
    "from sklearn.ensemble import RandomForestClassifier\n",
    "from sklearn.model_selection import cross_val_score\n",
    "from xgboost import XGBClassifier\n",
    "\n",
    "\n",
    "from sklearn import metrics\n",
    "from sklearn.metrics import accuracy_score\n",
    "from sklearn.metrics import precision_score\n",
    "from sklearn.metrics import confusion_matrix\n",
    "\n",
    "# Lectura de la información de archivo .csv\n",
    "data = pd.read_csv('https://raw.githubusercontent.com/albahnsen/MIAD_ML_and_NLP/main/datasets/dataTrain_carListings.zip')\n",
    "\n",
    "# Preprocesamiento de datos para el taller\n",
    "data = data.loc[data['Model'].str.contains('Camry')].drop(['Make', 'State'], axis=1)\n",
    "data = data.join(pd.get_dummies(data['Model'], prefix='M'))\n",
    "data['HighPrice'] = (data['Price'] > data['Price'].mean()).astype(int)\n",
    "data = data.drop(['Model', 'Price'], axis=1)\n",
    "\n",
    "# Visualización dataset\n",
    "data.head()"
   ]
  },
  {
   "cell_type": "code",
   "execution_count": 3,
   "metadata": {},
   "outputs": [],
   "source": [
    "# Separación de variables predictoras (X) y variable de interés (y)\n",
    "y = data['HighPrice']\n",
    "X = data.drop(['HighPrice'], axis=1)"
   ]
  },
  {
   "cell_type": "code",
   "execution_count": 4,
   "metadata": {},
   "outputs": [],
   "source": [
    "# Separación de datos en set de entrenamiento y test\n",
    "from sklearn.model_selection import train_test_split\n",
    "X_train, X_test, y_train, y_test = train_test_split(X, y, test_size=0.33, random_state=42)"
   ]
  },
  {
   "cell_type": "markdown",
   "metadata": {},
   "source": [
    "### Punto 1 - Árbol de decisión manual\n",
    "\n",
    "En la celda 1 creen un árbol de decisión **manualmente**  que considere los set de entrenamiento y test definidos anteriormente y presenten el acurracy del modelo en el set de test."
   ]
  },
  {
   "cell_type": "code",
   "execution_count": 5,
   "metadata": {},
   "outputs": [],
   "source": [
    "# Celda 1\n",
    "# Definición de parámetros y criterios de parada\n",
    "max_depth = 6\n",
    "num_pct = 10\n",
    "max_features = None\n",
    "min_gain=0.001\n",
    "\n",
    "# Definición de la función que calcula el gini index\n",
    "def gini(y):\n",
    "    if y.shape[0] == 0:\n",
    "        return 0\n",
    "    else:\n",
    "        return 1 - (y.mean()**2 + (1 - y.mean())**2)\n",
    "\n",
    "# Definición de la función gini_imputiry para calular la ganancia de una variable predictora j dado el punto de corte k\n",
    "def gini_impurity(X_col, y, split):\n",
    "    \n",
    "    filter_l = X_col < split\n",
    "    y_l = y.loc[filter_l]\n",
    "    y_r = y.loc[~filter_l]\n",
    "    \n",
    "    n_l = y_l.shape[0]\n",
    "    n_r = y_r.shape[0]\n",
    "    \n",
    "    gini_y = gini(y)\n",
    "    gini_l = gini(y_l)\n",
    "    gini_r = gini(y_r)\n",
    "    \n",
    "    gini_impurity_ = gini_y - (n_l / (n_l + n_r) * gini_l + n_r / (n_l + n_r) * gini_r)\n",
    "    \n",
    "    return gini_impurity_\n",
    "\n",
    "# Definición de la función best_split para calcular cuál es la mejor variable y punto de cortepara hacer la bifurcación del árbol\n",
    "def best_split(X, y, num_pct=10):\n",
    "    \n",
    "    features = range(X.shape[1])\n",
    "    \n",
    "    best_split = [0, 0, 0]  # j, split, gain\n",
    "    \n",
    "    # Para todas las varibles \n",
    "    for j in features:\n",
    "        \n",
    "        splits = np.percentile(X.iloc[:, j], np.arange(0, 100, 100.0 / (num_pct+1)).tolist())\n",
    "        splits = np.unique(splits)[1:]\n",
    "        \n",
    "        # Para cada partición\n",
    "        for split in splits:\n",
    "            gain = gini_impurity(X.iloc[:, j], y, split)\n",
    "                        \n",
    "            if gain > best_split[2]:\n",
    "                best_split = [j, split, gain]\n",
    "    \n",
    "    return best_split\n",
    "\n",
    "\n",
    "# Definición de la función tree_grow para hacer un crecimiento recursivo del árbol\n",
    "def tree_grow(X, y, level=0, min_gain=0.001, max_depth=None, num_pct=10):\n",
    "    \n",
    "    # Si solo es una observación\n",
    "    if X.shape[0] == 1:\n",
    "        tree = dict(y_pred=y.iloc[:1].values[0], y_prob=0.5, level=level, split=-1, n_samples=1, gain=0)\n",
    "        return tree\n",
    "    \n",
    "    # Calcular la mejor división\n",
    "    j, split, gain = best_split(X, y, num_pct)\n",
    "    \n",
    "    # Guardar el árbol y estimar la predicción\n",
    "    y_pred = int(y.mean() >= 0.5) \n",
    "    y_prob = (y.sum() + 1.0) / (y.shape[0] + 2.0)  # Corrección Laplace \n",
    "    \n",
    "    tree = dict(y_pred=y_pred, y_prob=y_prob, level=level, split=-1, n_samples=X.shape[0], gain=gain)\n",
    "    # Revisar el criterio de parada \n",
    "    if gain < min_gain:\n",
    "        return tree\n",
    "    if max_depth is not None:\n",
    "        if level >= max_depth:\n",
    "            return tree   \n",
    "    \n",
    "    # Continuar creando la partición\n",
    "    filter_l = X.iloc[:, j] < split\n",
    "    X_l, y_l = X.loc[filter_l], y.loc[filter_l]\n",
    "    X_r, y_r = X.loc[~filter_l], y.loc[~filter_l]\n",
    "    tree['split'] = [j, split]\n",
    "\n",
    "    # Siguiente iteración para cada partición\n",
    "    \n",
    "    tree['sl'] = tree_grow(X_l, y_l, level + 1, min_gain=min_gain, max_depth=max_depth, num_pct=num_pct)\n",
    "    tree['sr'] = tree_grow(X_r, y_r, level + 1, min_gain=min_gain, max_depth=max_depth, num_pct=num_pct)\n",
    "    \n",
    "    return tree"
   ]
  },
  {
   "cell_type": "code",
   "execution_count": 6,
   "metadata": {},
   "outputs": [],
   "source": [
    "# Definición de la función tree_predict para hacer predicciones según las variables 'X' y el árbol 'tree'\n",
    "\n",
    "def tree_predict(X, tree, proba=False):\n",
    "    \n",
    "    predicted = np.ones(X.shape[0])\n",
    "\n",
    "    # Revisar si es el nodo final\n",
    "    if tree['split'] == -1:\n",
    "        if not proba:\n",
    "            predicted = predicted * tree['y_pred']\n",
    "        else:\n",
    "            predicted = predicted * tree['y_prob']\n",
    "            \n",
    "    else:\n",
    "        \n",
    "        j, split = tree['split']\n",
    "        filter_l = (X.iloc[:, j] < split)\n",
    "        X_l = X.loc[filter_l]\n",
    "        X_r = X.loc[~filter_l]\n",
    "\n",
    "        if X_l.shape[0] == 0:  # Si el nodo izquierdo está vacio solo continua con el derecho \n",
    "            predicted[~filter_l] = tree_predict(X_r, tree['sr'], proba)\n",
    "        elif X_r.shape[0] == 0:  #  Si el nodo derecho está vacio solo continua con el izquierdo\n",
    "            predicted[filter_l] = tree_predict(X_l, tree['sl'], proba)\n",
    "        else:\n",
    "            predicted[filter_l] = tree_predict(X_l, tree['sl'], proba)\n",
    "            predicted[~filter_l] = tree_predict(X_r, tree['sr'], proba)\n",
    "\n",
    "    return predicted"
   ]
  },
  {
   "cell_type": "code",
   "execution_count": 7,
   "metadata": {},
   "outputs": [
    {
     "name": "stdout",
     "output_type": "stream",
     "text": [
      "Accuracy para modelo con profundidad de 5 es de: 0.8879907621247113\n"
     ]
    },
    {
     "data": {
      "image/png": "[encoded data removed]",
      "text/plain": [
       "<Figure size 504x360 with 1 Axes>"
      ]
     },
     "metadata": {
      "needs_background": "light"
     },
     "output_type": "display_data"
    }
   ],
   "source": [
    "\n",
    "\n",
    "\n",
    "# Creación de lista de valores para iterar sobre diferentes valores de n_estimators\n",
    "profundidad_range = range(10)\n",
    "\n",
    "# Definición de lista para almacenar la exactitud (accuracy) promedio para cada valor de n_estimators\n",
    "tree_accuracy_scores = []\n",
    "\n",
    "# Uso de un 5-fold cross-validation para cada valor de n_estimators\n",
    "for profundidad in profundidad_range:\n",
    "    tree=tree_grow(X_train, y_train, level=0, min_gain=0.001, max_depth=profundidad, num_pct=10)\n",
    "    # Ejecución de función tree_predict\n",
    "    predicion_arbol=tree_predict(X_test, tree)\n",
    "    tree_accuracy_scores.append(accuracy_score(y_test, predicion_arbol))\n",
    "\n",
    "plt.figure(figsize=(7,5))\n",
    "plt.plot(profundidad_range, tree_accuracy_scores)\n",
    "plt.xlabel('Profundidad Árbol')\n",
    "plt.ylabel('Accuracy')\n",
    "\n",
    "max_value = max(tree_accuracy_scores)\n",
    "td_acc=max_value\n",
    "max_index = tree_accuracy_scores.index(max_value)\n",
    "print('Accuracy para modelo con profundidad de', profundidad_range[max_index], 'es de:',max_value)"
   ]
  },
  {
   "cell_type": "markdown",
   "metadata": {},
   "source": [
    "### Punto 2 - Bagging manual\n",
    "\n",
    "En la celda 2 creen un modelo bagging **manualmente** con 10 árboles de clasificación y comenten sobre el desempeño del modelo."
   ]
  },
  {
   "cell_type": "code",
   "execution_count": 40,
   "metadata": {},
   "outputs": [
    {
     "name": "stdout",
     "output_type": "stream",
     "text": [
      "El Accuracy para el modelo Bagging manual con 10 árboles, votacion ponderada es de: \n",
      " 0.8432448036951501\n",
      "El Accuracy para el modelo Bagging manual con 10 árboles, votacion mayoritaria es de: \n",
      " 0.8432448036951501\n"
     ]
    }
   ],
   "source": [
    "# Celda 2\n",
    "# Creación de 10 muestras de bootstrap \n",
    "np.random.seed(100)\n",
    "\n",
    "n_samples = X_train.shape[0]\n",
    "n_B = 10\n",
    "\n",
    "samples = [np.random.choice(a=n_samples, size=n_samples, replace=True) for _ in range(1, n_B +1 )]\n",
    "\n",
    "# Visualización muestra boostrap #1 para entremiento\n",
    "X_train.iloc[samples[0], :]\n",
    "\n",
    "# Tree classifier\n",
    "treeclf=DecisionTreeClassifier(max_depth=None, random_state=6)\n",
    "y_pred = pd.DataFrame(index=y_test.index, columns=[list(range(n_B))])\n",
    "\n",
    "# Entrenamiento de un árbol sobre cada muestra boostrap y predicción sobre los datos de test\n",
    "for i, sample in enumerate(samples):\n",
    "    X_train_i = X_train.iloc[sample, 0:]\n",
    "    y_train_i = y_train.iloc[sample]\n",
    "    treeclf.fit(X_train, y_train)\n",
    "    y_pred.iloc[:,i] = treeclf.predict(X_test)\n",
    "    \n",
    "# Votación mayoritaria\n",
    "y_pred_votacion_mayoritaria = (y_pred.sum(axis=1) >= (n_B / 2)).astype(np.int)\n",
    "bagging_accuracy_scores=(accuracy_score(y_test, y_pred_votacion_mayoritaria))\n",
    "\n",
    "# Creación de 100 muestras de bootstrap\n",
    "n_estimators = 10\n",
    "# Estimación de los errores OOB para cada clasificador\n",
    "errors = np.zeros(n_estimators)\n",
    "# Obtención de los pesos alpha de cada modelo de acuerdo al error OOB\n",
    "alpha = (1 - errors) / (1 - errors).sum()\n",
    "# Ponderación de las predicciones con los pesos alpha\n",
    "weighted_sum_1 = ((y_pred) * alpha).sum(axis=1)\n",
    "# Desempeño al hacer votación ponderada\n",
    "y_pred_ponderada = (weighted_sum_1 >= 0.5).astype(np.int)\n",
    "bagging_accuracy_scores_p=(accuracy_score(y_test, y_pred_ponderada))\n",
    "\n",
    "print('El Accuracy para el modelo Bagging manual con 10 árboles, votacion ponderada es de: \\n', bagging_accuracy_scores_p)\n",
    "print('El Accuracy para el modelo Bagging manual con 10 árboles, votacion mayoritaria es de: \\n', bagging_accuracy_scores)"
   ]
  },
  {
   "cell_type": "markdown",
   "metadata": {},
   "source": [
    "### Analísis\n",
    "Entrenamos dos modelos de Bagging de 10 árboles de forma manual, uno para el método de votación ponderada y otro para el método de votación mayoritaria. El accuracy para los dos métodos fue de 0.8432448036951501."
   ]
  },
  {
   "cell_type": "markdown",
   "metadata": {},
   "source": [
    "### Punto 3 - Bagging con librería\n",
    "\n",
    "En la celda 3, con la librería sklearn, entrenen un modelo bagging con 10 árboles de clasificación y el parámetro `max_features` igual a `log(n_features)`. Presenten el acurracy del modelo en el set de test y comenten sus resultados."
   ]
  },
  {
   "cell_type": "code",
   "execution_count": 41,
   "metadata": {},
   "outputs": [
    {
     "name": "stdout",
     "output_type": "stream",
     "text": [
      "La matriz de predicciones para el arbol de decision es: \n",
      "\n",
      "[[1185  253]\n",
      " [ 282 1744]]\n",
      "Precision de la prediccion es: \n",
      " 0.8733099649474211\n",
      "F1_Score: \n",
      " 0.8670146656723838 \n",
      " Accuracy: \n",
      " 0.8455542725173211\n"
     ]
    }
   ],
   "source": [
    "# Celda 3\n",
    "# Uso de Baggingclfressor de la libreria (sklearn) donde se usa el modelo DecisionTreeRegressor como estimador\n",
    "n_features=X_train.shape[1]\n",
    "bagclf = BaggingClassifier(DecisionTreeClassifier(max_features=\"log2\"), n_estimators=10, \n",
    "                          bootstrap=True, oob_score=True, random_state=42)\n",
    "# Entrenemiento del modelo con set de entrenamiento y predicción en el set de test\n",
    "bagclf.fit(X_train, y_train)\n",
    "prediccionesbagging = bagclf.predict(X_test)\n",
    "\n",
    "# Matriz de prediccion correspondiente a la prediccion en test\n",
    "pred_matrix_bagging=confusion_matrix(y_true=y_test, y_pred=prediccionesbagging)\n",
    "print('La matriz de predicciones para el arbol de decision es: \\n')\n",
    "print(pred_matrix_bagging)\n",
    "\n",
    "# Precision: la precision de la prediccion test es:\n",
    "precisionbclf=precision_score(y_true=y_test, y_pred=prediccionesbagging)\n",
    "bag_acc=metrics.accuracy_score(prediccionesbagging, y_test)\n",
    "print('Precision de la prediccion es: \\n', precisionbclf)\n",
    "\n",
    "# Metricas\n",
    "print('F1_Score: \\n', metrics.f1_score(prediccionesbagging, y_test), '\\n Accuracy: \\n',metrics.accuracy_score(prediccionesbagging, y_test))\n",
    "\n",
    "\n"
   ]
  },
  {
   "cell_type": "markdown",
   "metadata": {},
   "source": [
    "### Analísis\n",
    "\n",
    "Entrenamos uno modelo Bagging con la librería sklearn utilizando max_features igual al logaritmo del número de predictores. El accuacy del model fue 0.8455542725173211."
   ]
  },
  {
   "cell_type": "markdown",
   "metadata": {},
   "source": [
    "### Punto 4 - Random forest con librería\n",
    "\n",
    "En la celda 4, usando la librería sklearn entrenen un modelo de Randon Forest para clasificación y presenten el acurracy del modelo en el set de test y comenten sus resultados."
   ]
  },
  {
   "cell_type": "code",
   "execution_count": 42,
   "metadata": {},
   "outputs": [
    {
     "name": "stdout",
     "output_type": "stream",
     "text": [
      "El Accuracy para el modelo Random Forest es de: 0.8443995381062356\n"
     ]
    }
   ],
   "source": [
    "# Celda 4\n",
    "clf_rf = RandomForestClassifier(random_state=0)\n",
    "clf_rf.fit(X_train, y_train)\n",
    "\n",
    "# Predicción\n",
    "y_pred_RF=clf_rf.predict(X_test)\n",
    "\n",
    "# Cálculo del Accuracy\n",
    "acc_rf =  (accuracy_score(y_test, y_pred_RF))\n",
    "print('El Accuracy para el modelo Random Forest es de:', acc_rf)"
   ]
  },
  {
   "cell_type": "code",
   "execution_count": 43,
   "metadata": {},
   "outputs": [
    {
     "data": {
      "text/html": [
       "<div>\n",
       "<style scoped>\n",
       "    .dataframe tbody tr th:only-of-type {\n",
       "        vertical-align: middle;\n",
       "    }\n",
       "\n",
       "    .dataframe tbody tr th {\n",
       "        vertical-align: top;\n",
       "    }\n",
       "\n",
       "    .dataframe thead th {\n",
       "        text-align: right;\n",
       "    }\n",
       "</style>\n",
       "<table border=\"1\" class=\"dataframe\">\n",
       "  <thead>\n",
       "    <tr style=\"text-align: right;\">\n",
       "      <th></th>\n",
       "      <th>feature</th>\n",
       "      <th>importance</th>\n",
       "    </tr>\n",
       "  </thead>\n",
       "  <tbody>\n",
       "    <tr>\n",
       "      <th>1</th>\n",
       "      <td>Mileage</td>\n",
       "      <td>0.647270</td>\n",
       "    </tr>\n",
       "    <tr>\n",
       "      <th>0</th>\n",
       "      <td>Year</td>\n",
       "      <td>0.245373</td>\n",
       "    </tr>\n",
       "    <tr>\n",
       "      <th>3</th>\n",
       "      <td>M_Camry4dr</td>\n",
       "      <td>0.053479</td>\n",
       "    </tr>\n",
       "    <tr>\n",
       "      <th>7</th>\n",
       "      <td>M_CamrySE</td>\n",
       "      <td>0.021141</td>\n",
       "    </tr>\n",
       "    <tr>\n",
       "      <th>8</th>\n",
       "      <td>M_CamryXLE</td>\n",
       "      <td>0.011228</td>\n",
       "    </tr>\n",
       "    <tr>\n",
       "      <th>6</th>\n",
       "      <td>M_CamryLE</td>\n",
       "      <td>0.009429</td>\n",
       "    </tr>\n",
       "    <tr>\n",
       "      <th>2</th>\n",
       "      <td>M_Camry</td>\n",
       "      <td>0.005997</td>\n",
       "    </tr>\n",
       "    <tr>\n",
       "      <th>5</th>\n",
       "      <td>M_CamryL</td>\n",
       "      <td>0.003618</td>\n",
       "    </tr>\n",
       "    <tr>\n",
       "      <th>4</th>\n",
       "      <td>M_CamryBase</td>\n",
       "      <td>0.002464</td>\n",
       "    </tr>\n",
       "  </tbody>\n",
       "</table>\n",
       "</div>"
      ],
      "text/plain": [
       "       feature  importance\n",
       "1      Mileage    0.647270\n",
       "0         Year    0.245373\n",
       "3   M_Camry4dr    0.053479\n",
       "7    M_CamrySE    0.021141\n",
       "8   M_CamryXLE    0.011228\n",
       "6    M_CamryLE    0.009429\n",
       "2      M_Camry    0.005997\n",
       "5     M_CamryL    0.003618\n",
       "4  M_CamryBase    0.002464"
      ]
     },
     "execution_count": 43,
     "metadata": {},
     "output_type": "execute_result"
    }
   ],
   "source": [
    "feature_cols=X_train.columns\n",
    "desp_rf_clf=pd.DataFrame({'feature':feature_cols, 'importance':clf_rf.feature_importances_}).sort_values('importance', ascending=False)\n",
    "desp_rf_clf"
   ]
  },
  {
   "cell_type": "markdown",
   "metadata": {},
   "source": [
    "#### Análisis\n",
    "\n",
    "Se ajusta el modelo _Random Forest_ con los datos de entrenamiento utilizando la función _RandomForestClassifier_ sin incluir ningún parámetro de calibración. Como resultado, se obtiene un _Accuracy_ de 0.84439 sobre los datos de evaluación. Las variables más relevantes son _Mileage_ (millas recorridas), _Year_ (Modelo) y _M_Camry4dr_ (Modelo Camry 4dr)."
   ]
  },
  {
   "cell_type": "markdown",
   "metadata": {},
   "source": [
    "### Punto 5 - Calibración de parámetros Random forest\n",
    "\n",
    "En la celda 5, calibren los parámetros max_depth, max_features y n_estimators del modelo de Randon Forest para clasificación. Presenten el acurracy del modelo en el set de test, comenten sus resultados y análicen cómo cada parámetro afecta el modelo."
   ]
  },
  {
   "cell_type": "code",
   "execution_count": 44,
   "metadata": {},
   "outputs": [
    {
     "name": "stdout",
     "output_type": "stream",
     "text": [
      "Accuracy para modelo con n_estimator de 11 es de: 0.8439256788947118\n"
     ]
    },
    {
     "data": {
      "image/png": "[encoded data removed]",
      "text/plain": [
       "<Figure size 432x288 with 1 Axes>"
      ]
     },
     "metadata": {
      "needs_background": "light"
     },
     "output_type": "display_data"
    }
   ],
   "source": [
    "# Celda 5\n",
    "# Creación de lista de valores para iterar sobre diferentes valores de n_estimators\n",
    "estimator_range = range(1,15)\n",
    "\n",
    "# Definición de lista para almacenar la exactitud (accuracy) promedio para cada valor de n_estimators\n",
    "accuracy_scores = []\n",
    "\n",
    "# Uso de un 5-fold cross-validation para cada valor de n_estimators\n",
    "for estimator in estimator_range:\n",
    "    clf = RandomForestClassifier(n_estimators=estimator, random_state=1, n_jobs=-1)\n",
    "    accuracy_scores.append(cross_val_score(clf, X, y, cv=5, scoring='accuracy').mean())\n",
    "    \n",
    "\n",
    "# Gráfica del desempeño del modelo vs la cantidad de n_estimators\n",
    "plt.plot(estimator_range, accuracy_scores)\n",
    "plt.xlabel('n_estimators')\n",
    "plt.ylabel('Accuracy')\n",
    "\n",
    "max_value = max(accuracy_scores)\n",
    "max_index = accuracy_scores.index(max_value)\n",
    "print('Accuracy para modelo con n_estimator de', estimator_range[max_index], 'es de:',max_value)"
   ]
  },
  {
   "cell_type": "code",
   "execution_count": 45,
   "metadata": {},
   "outputs": [
    {
     "name": "stdout",
     "output_type": "stream",
     "text": [
      "Accuracy para modelo con max_features de 9 es de: 0.850976655550262\n"
     ]
    },
    {
     "data": {
      "image/png": "[encoded data removed]",
      "text/plain": [
       "<Figure size 432x288 with 1 Axes>"
      ]
     },
     "metadata": {
      "needs_background": "light"
     },
     "output_type": "display_data"
    }
   ],
   "source": [
    "feature_cols=X_train.columns\n",
    "\n",
    "# Creación de lista de valores para iterar sobre diferentes valores de max_features\n",
    "feature_range = range(1, len(feature_cols)+1)\n",
    "\n",
    "# Definición de lista para almacenar la exactitud (accuracy) promedio para cada valor de max_features\n",
    "accuracy_scores = []\n",
    "\n",
    "# Uso de un 10-fold cross-validation para cada valor de max_features\n",
    "for feature in feature_range:\n",
    "    clf = RandomForestClassifier(max_features=feature, random_state=1, n_jobs=-1)\n",
    "    accuracy_scores.append(cross_val_score(clf, X, y, cv=5, scoring='accuracy').mean())\n",
    "    \n",
    "# Gráfica del desempeño del modelo vs la cantidad de max_features\n",
    "plt.plot(feature_range, accuracy_scores)\n",
    "plt.xlabel('max_features')\n",
    "plt.ylabel('Accuracy')\n",
    "\n",
    "max_value = max(accuracy_scores)\n",
    "max_index = accuracy_scores.index(max_value)\n",
    "print('Accuracy para modelo con max_features de', feature_range[max_index], 'es de:',max_value)"
   ]
  },
  {
   "cell_type": "code",
   "execution_count": 46,
   "metadata": {},
   "outputs": [
    {
     "name": "stdout",
     "output_type": "stream",
     "text": [
      "Accuracy para modelo con profundidad de 6 es de: 0.8845165917654002\n"
     ]
    },
    {
     "data": {
      "image/png": "[encoded data removed]",
      "text/plain": [
       "<Figure size 432x288 with 1 Axes>"
      ]
     },
     "metadata": {
      "needs_background": "light"
     },
     "output_type": "display_data"
    }
   ],
   "source": [
    "# Celda 5\n",
    "# Creación de lista de valores para iterar sobre diferentes valores de n_estimators\n",
    "depth_range = range(1,15)\n",
    "\n",
    "# Definición de lista para almacenar la exactitud (accuracy) promedio para cada valor de n_estimators\n",
    "accuracy_scores = []\n",
    "\n",
    "# Uso de un 5-fold cross-validation para cada valor de n_estimators\n",
    "for depth in estimator_range:\n",
    "    clf = RandomForestClassifier(max_depth=depth, random_state=1, n_jobs=-1)\n",
    "    accuracy_scores.append(cross_val_score(clf, X, y, cv=10, scoring='accuracy').mean())\n",
    "    \n",
    "\n",
    "# Gráfica del desempeño del modelo vs la cantidad de n_estimators\n",
    "plt.plot(depth_range, accuracy_scores)\n",
    "plt.xlabel('max_depth')\n",
    "plt.ylabel('Accuracy')\n",
    "\n",
    "max_value = max(accuracy_scores)\n",
    "max_index = accuracy_scores.index(max_value)\n",
    "print('Accuracy para modelo con profundidad de', depth_range[max_index], 'es de:',max_value)"
   ]
  },
  {
   "cell_type": "code",
   "execution_count": 47,
   "metadata": {},
   "outputs": [
    {
     "name": "stdout",
     "output_type": "stream",
     "text": [
      "Accuracy para modelo con n_estimators de 14 es de: 0.8900115473441108\n"
     ]
    },
    {
     "data": {
      "image/png": "[encoded data removed]",
      "text/plain": [
       "<Figure size 432x288 with 1 Axes>"
      ]
     },
     "metadata": {
      "needs_background": "light"
     },
     "output_type": "display_data"
    }
   ],
   "source": [
    "# Creación de lista de valores para iterar sobre diferentes valores de n_estimators\n",
    "estimator_range = range(1,20)\n",
    "\n",
    "# Definición de lista para almacenar la exactitud (accuracy) promedio para cada valor de n_estimators\n",
    "accuracy_scores = []\n",
    "\n",
    "# Uso de un 5-fold cross-validation para cada valor de n_estimators\n",
    "for estimator in estimator_range:\n",
    "    clf_rf_calibrado = RandomForestClassifier(n_estimators=estimator, max_features=9,max_depth=6, random_state=0, n_jobs=-1)\n",
    "    clf_rf_calibrado.fit(X_train, y_train)\n",
    "    y_pred_RF_calibrado=clf_rf_calibrado.predict(X_test)\n",
    "    accuracy_scores.append(accuracy_score(y_test, y_pred_RF_calibrado))\n",
    "    \n",
    "\n",
    "# Gráfica del desempeño del modelo vs la cantidad de n_estimators\n",
    "plt.plot(estimator_range, accuracy_scores)\n",
    "plt.xlabel('n_estimators')\n",
    "plt.ylabel('Accuracy')\n",
    "\n",
    "max_value = max(accuracy_scores)\n",
    "max_index = accuracy_scores.index(max_value)\n",
    "print('Accuracy para modelo con n_estimators de', estimator_range[max_index], 'es de:',max_value)"
   ]
  },
  {
   "cell_type": "code",
   "execution_count": 48,
   "metadata": {},
   "outputs": [
    {
     "name": "stdout",
     "output_type": "stream",
     "text": [
      "El Accuracy para el modelo Random Forest es de: 0.8900115473441108\n"
     ]
    }
   ],
   "source": [
    "clf_rf_calibrado = RandomForestClassifier(n_estimators=14,max_features=9,max_depth=6, random_state=0, n_jobs=-1)\n",
    "clf_rf_calibrado.fit(X_train, y_train)\n",
    "\n",
    "# Predicción\n",
    "y_pred_RF_calibrado=clf_rf_calibrado.predict(X_test)\n",
    "\n",
    "# Cálculo del Accuracy\n",
    "acc_rf_cal =  (accuracy_score(y_test, y_pred_RF_calibrado))\n",
    "print('El Accuracy para el modelo Random Forest es de:', acc_rf_cal)"
   ]
  },
  {
   "cell_type": "code",
   "execution_count": 49,
   "metadata": {},
   "outputs": [
    {
     "data": {
      "text/html": [
       "<div>\n",
       "<style scoped>\n",
       "    .dataframe tbody tr th:only-of-type {\n",
       "        vertical-align: middle;\n",
       "    }\n",
       "\n",
       "    .dataframe tbody tr th {\n",
       "        vertical-align: top;\n",
       "    }\n",
       "\n",
       "    .dataframe thead th {\n",
       "        text-align: right;\n",
       "    }\n",
       "</style>\n",
       "<table border=\"1\" class=\"dataframe\">\n",
       "  <thead>\n",
       "    <tr style=\"text-align: right;\">\n",
       "      <th></th>\n",
       "      <th>feature</th>\n",
       "      <th>importance</th>\n",
       "    </tr>\n",
       "  </thead>\n",
       "  <tbody>\n",
       "    <tr>\n",
       "      <th>1</th>\n",
       "      <td>Mileage</td>\n",
       "      <td>0.666197</td>\n",
       "    </tr>\n",
       "    <tr>\n",
       "      <th>0</th>\n",
       "      <td>Year</td>\n",
       "      <td>0.296190</td>\n",
       "    </tr>\n",
       "    <tr>\n",
       "      <th>6</th>\n",
       "      <td>M_CamryLE</td>\n",
       "      <td>0.019110</td>\n",
       "    </tr>\n",
       "    <tr>\n",
       "      <th>8</th>\n",
       "      <td>M_CamryXLE</td>\n",
       "      <td>0.009113</td>\n",
       "    </tr>\n",
       "    <tr>\n",
       "      <th>2</th>\n",
       "      <td>M_Camry</td>\n",
       "      <td>0.007537</td>\n",
       "    </tr>\n",
       "    <tr>\n",
       "      <th>5</th>\n",
       "      <td>M_CamryL</td>\n",
       "      <td>0.001266</td>\n",
       "    </tr>\n",
       "    <tr>\n",
       "      <th>7</th>\n",
       "      <td>M_CamrySE</td>\n",
       "      <td>0.000541</td>\n",
       "    </tr>\n",
       "    <tr>\n",
       "      <th>3</th>\n",
       "      <td>M_Camry4dr</td>\n",
       "      <td>0.000046</td>\n",
       "    </tr>\n",
       "    <tr>\n",
       "      <th>4</th>\n",
       "      <td>M_CamryBase</td>\n",
       "      <td>0.000000</td>\n",
       "    </tr>\n",
       "  </tbody>\n",
       "</table>\n",
       "</div>"
      ],
      "text/plain": [
       "       feature  importance\n",
       "1      Mileage    0.666197\n",
       "0         Year    0.296190\n",
       "6    M_CamryLE    0.019110\n",
       "8   M_CamryXLE    0.009113\n",
       "2      M_Camry    0.007537\n",
       "5     M_CamryL    0.001266\n",
       "7    M_CamrySE    0.000541\n",
       "3   M_Camry4dr    0.000046\n",
       "4  M_CamryBase    0.000000"
      ]
     },
     "execution_count": 49,
     "metadata": {},
     "output_type": "execute_result"
    }
   ],
   "source": [
    "desp_rf_clf_cal=pd.DataFrame({'feature':feature_cols, 'importance':clf_rf_calibrado.feature_importances_}).sort_values('importance', ascending=False)\n",
    "desp_rf_clf_cal\n"
   ]
  },
  {
   "cell_type": "markdown",
   "metadata": {},
   "source": [
    "#### Procedimiento de calibración del modelo\n",
    "\n",
    "El procedimiento que arrojó el mejor valor de _Accuracy_ es el siguiente:\n",
    "\n",
    "1. **n_estimator**: inicialmente se define un rango amplio búsqueda entre 10 y 200 estimadores (con pasos intermedios de 10) donde se identifica que el mejor valor de _Accuracy_ se encuentra en el intervalo de valores menor a 40. Luego se hace una búsqueda detallada con un rango más estrecho (con pasos intermedios de 1) donde se encuentra que el mayor valor de _Accuracy_ está asociado a 11 estimadores.\n",
    "2. **max_features**: sin tener en cuenta el mejor valor obtenido para n_estimator en el paso anterior, se evalúa el _Accuracy_ para el rango de 1 a 9 variables. Se encuentra que el mayor resultado de _Accuracy_ está asociado a 9 variables, es decir, todas las variables de entrada.\n",
    "3. **max_depth**: sin tener en cuenta los mejores valores obtenidos en los pasos anteriores, se evalúa el _Accuracy_ para un rango de máxima profundidad entre 1 y 14. Se encuentra que el mayor resultado de _Accuracy_ está asociado a una máxima profundidad de 6.\n",
    "4. Luego, se evalúa el modelo con los parámetros de calibración obtenidos en los pasos anteriores (n_estimator = 11, max_features = 9, max_depth = 6) y se obtiene _Accuracy_ de 0.88827. A su vez, las variables más relevantes son Mileage (millas recorridas) y Year (Modelo).\n",
    "5. Por úlitmo, se itera de nuevo **n_estimators** con los valores de los demás parámetros obtenidos en el punto anterior obteniendo así un mejor valor de _Accuracy_ (0.8900) para los siguientes parámetros de calibración: n_estimators=14, max_features=9 y max_depth=6.\n",
    "\n",
    "#### Análisis\n",
    "\n",
    "- El _Accuracy_ del modelo calibrado es 0.8900 mientras que el _Accuracy_ del modelo sin calibrar es 0.8418. Esto indica que el resultado mejoró en 0.0482.\n",
    "- Ambos modelos coinciden en que las variables más relevantes son Mileage (millas recorridas) y Year (Modelo). En el modelo calibrado, estas varibles tienen más importancia (0.96) que en el modelo sin calibrar (0.85).\n",
    "- En otros procedimientos de calibración que se probaron, se obtuvo un _Accuracy_ ligeramente menor. En estos procedimientos se realizó la calibración secuencial de cada parámetro, es decir que se incluyó el mejor resultado del primer parámetro calibrado para hacer la calibración del segundo parámetro, y así sucesivamente."
   ]
  },
  {
   "cell_type": "markdown",
   "metadata": {},
   "source": [
    "### Punto 6 - XGBoost con librería\n",
    "\n",
    "En la celda 6 implementen un modelo XGBoost de clasificación con la librería sklearn, presenten el acurracy del modelo en el set de test y comenten sus resultados."
   ]
  },
  {
   "cell_type": "code",
   "execution_count": 18,
   "metadata": {},
   "outputs": [
    {
     "name": "stdout",
     "output_type": "stream",
     "text": [
      "El Accuracy para el modelo XGBoost calibrado es de: 0.8856812933025404\n"
     ]
    }
   ],
   "source": [
    "# Celda 6\n",
    "xgb_clf = XGBClassifier()\n",
    "# Entrenamiento (fit) y desempeño del modelo XGBClassifier\n",
    "xgb_clf.fit(X_train, y_train)\n",
    "y_pred_xgb = xgb_clf.predict(X_test)\n",
    "\n",
    "# Cálculo del Accuracy\n",
    "acc_xgb = (accuracy_score(y_test, y_pred_xgb))\n",
    "print('El Accuracy para el modelo XGBoost calibrado es de:', acc_xgb)"
   ]
  },
  {
   "cell_type": "code",
   "execution_count": 19,
   "metadata": {},
   "outputs": [
    {
     "data": {
      "text/html": [
       "<div>\n",
       "<style scoped>\n",
       "    .dataframe tbody tr th:only-of-type {\n",
       "        vertical-align: middle;\n",
       "    }\n",
       "\n",
       "    .dataframe tbody tr th {\n",
       "        vertical-align: top;\n",
       "    }\n",
       "\n",
       "    .dataframe thead th {\n",
       "        text-align: right;\n",
       "    }\n",
       "</style>\n",
       "<table border=\"1\" class=\"dataframe\">\n",
       "  <thead>\n",
       "    <tr style=\"text-align: right;\">\n",
       "      <th></th>\n",
       "      <th>feature</th>\n",
       "      <th>importance</th>\n",
       "    </tr>\n",
       "  </thead>\n",
       "  <tbody>\n",
       "    <tr>\n",
       "      <th>0</th>\n",
       "      <td>Year</td>\n",
       "      <td>0.469196</td>\n",
       "    </tr>\n",
       "    <tr>\n",
       "      <th>1</th>\n",
       "      <td>Mileage</td>\n",
       "      <td>0.147454</td>\n",
       "    </tr>\n",
       "    <tr>\n",
       "      <th>6</th>\n",
       "      <td>M_CamryLE</td>\n",
       "      <td>0.101129</td>\n",
       "    </tr>\n",
       "    <tr>\n",
       "      <th>8</th>\n",
       "      <td>M_CamryXLE</td>\n",
       "      <td>0.088409</td>\n",
       "    </tr>\n",
       "    <tr>\n",
       "      <th>2</th>\n",
       "      <td>M_Camry</td>\n",
       "      <td>0.074973</td>\n",
       "    </tr>\n",
       "    <tr>\n",
       "      <th>5</th>\n",
       "      <td>M_CamryL</td>\n",
       "      <td>0.066302</td>\n",
       "    </tr>\n",
       "    <tr>\n",
       "      <th>3</th>\n",
       "      <td>M_Camry4dr</td>\n",
       "      <td>0.027128</td>\n",
       "    </tr>\n",
       "    <tr>\n",
       "      <th>7</th>\n",
       "      <td>M_CamrySE</td>\n",
       "      <td>0.025409</td>\n",
       "    </tr>\n",
       "    <tr>\n",
       "      <th>4</th>\n",
       "      <td>M_CamryBase</td>\n",
       "      <td>0.000000</td>\n",
       "    </tr>\n",
       "  </tbody>\n",
       "</table>\n",
       "</div>"
      ],
      "text/plain": [
       "       feature  importance\n",
       "0         Year    0.469196\n",
       "1      Mileage    0.147454\n",
       "6    M_CamryLE    0.101129\n",
       "8   M_CamryXLE    0.088409\n",
       "2      M_Camry    0.074973\n",
       "5     M_CamryL    0.066302\n",
       "3   M_Camry4dr    0.027128\n",
       "7    M_CamrySE    0.025409\n",
       "4  M_CamryBase    0.000000"
      ]
     },
     "execution_count": 19,
     "metadata": {},
     "output_type": "execute_result"
    }
   ],
   "source": [
    "# Impresión de resultados de desemepeño del modelo\n",
    "desp_xgb_clf=pd.DataFrame({'feature':feature_cols, 'importance':xgb_clf.feature_importances_}).sort_values('importance', ascending=False)\n",
    "desp_xgb_clf"
   ]
  },
  {
   "cell_type": "markdown",
   "metadata": {},
   "source": [
    "#### Comentarios\n",
    "\n",
    "Por definicion desde su construccion, el algoritmo XGBoost es un ensamble de arboles de decision que usa diferentes tecnicas para mayor velocidad de entrenamiento y mejor desempeno.Se nota en el resultado del Accuracy que el ensamblaje de arboles de decision construidos secuencialmente con mejoras algoritmicas y optimizacion de sistemas para ejecucion, donde se puede ver que sin parametros supera a los algoritmos como bagging y random forest sin parametros, ubicandose muy cerca del desempeno de los arboles de decision.\n",
    "\n",
    "Por otro lado, uno de los puntos fuertes en el algoritmo XGboost, son sus parametros, por lo que no definirlos, implica desaprovechar las bondades del algoritmo, y teniendo este un comportamiento inferior a otro algoritmos. En este ejercicio podemos notarlo.\n",
    "\n",
    "Finalmente, la importancia de las caracteristicas del set de datos resalta notablemente el tiempo, siendo mas del doble de importante esta caracteristica con respecto a las demas, aunque el algoritmo por no usar parametros no esta optimizado para la flexibilidad y sobreajuste.\n"
   ]
  },
  {
   "cell_type": "markdown",
   "metadata": {},
   "source": [
    "### Punto 7 - Calibración de parámetros XGBoost\n",
    "\n",
    "En la celda 7 calibren los parámetros learning rate, gamma y colsample_bytree del modelo XGBoost para clasificación. Presenten el acurracy del modelo en el set de test, comenten sus resultados y análicen cómo cada parámetro afecta el modelo."
   ]
  },
  {
   "cell_type": "markdown",
   "metadata": {},
   "source": [
    "##### Calibracion de parametros de manera individual"
   ]
  },
  {
   "cell_type": "code",
   "execution_count": 20,
   "metadata": {},
   "outputs": [
    {
     "name": "stdout",
     "output_type": "stream",
     "text": [
      "Accuracy para modelo con profundidad de 0.1 es de: 0.8792524731669469\n"
     ]
    },
    {
     "data": {
      "image/png": "[encoded data removed]",
      "text/plain": [
       "<Figure size 432x288 with 1 Axes>"
      ]
     },
     "metadata": {
      "needs_background": "light"
     },
     "output_type": "display_data"
    }
   ],
   "source": [
    "# Celda 7\n",
    "# Creación de lista de valores para iterar sobre diferentes valores de n_estimators\n",
    "learning_rate_range = [0.0001,0.001,0.01,0.1,0.2,0.5,0.9,1,1.5]\n",
    "\n",
    "# Definición de lista para almacenar la exactitud (accuracy) promedio para cada valor de n_estimators\n",
    "accuracy_scores = []\n",
    "\n",
    "# Uso de un 5-fold cross-validation para cada valor de n_estimators\n",
    "for lr in learning_rate_range:\n",
    "    xgb_clf = XGBClassifier(learning_rate=lr)\n",
    "    accuracy_scores.append(cross_val_score(xgb_clf,X_train, y_train, cv=10, scoring='accuracy').mean())\n",
    "    \n",
    "\n",
    "# Gráfica del desempeño del modelo vs la cantidad de n_estimators\n",
    "plt.plot(learning_rate_range, accuracy_scores)\n",
    "plt.xlabel('n_estimators')\n",
    "plt.ylabel('Accuracy')\n",
    "\n",
    "max_value = max(accuracy_scores)\n",
    "max_index = accuracy_scores.index(max_value)\n",
    "print('Accuracy para modelo con profundidad de', learning_rate_range[max_index], 'es de:',max_value)"
   ]
  },
  {
   "cell_type": "code",
   "execution_count": 21,
   "metadata": {},
   "outputs": [
    {
     "name": "stdout",
     "output_type": "stream",
     "text": [
      "Accuracy para modelo con profundidad de 1 es de: 0.8795367661321608\n"
     ]
    },
    {
     "data": {
      "image/png": "[encoded data removed]",
      "text/plain": [
       "<Figure size 432x288 with 1 Axes>"
      ]
     },
     "metadata": {
      "needs_background": "light"
     },
     "output_type": "display_data"
    }
   ],
   "source": [
    "# Creación de lista de valores para iterar sobre diferentes valores de n_estimators\n",
    "gamma_range = [0.001, 0.2,  0.4,  0.6,  0.8, 1,40,50,70]\n",
    "\n",
    "# Definición de lista para almacenar la exactitud (accuracy) promedio para cada valor de n_estimators\n",
    "accuracy_scores = []\n",
    "\n",
    "# Uso de un 5-fold cross-validation para cada valor de n_estimators\n",
    "for g in gamma_range:\n",
    "    xgb_clf = XGBClassifier(gamma=g)\n",
    "    accuracy_scores.append(cross_val_score(xgb_clf, X_train, y_train, cv=10, scoring='accuracy').mean())\n",
    "    \n",
    "\n",
    "# Gráfica del desempeño del modelo vs la cantidad de n_estimators\n",
    "plt.plot(gamma_range, accuracy_scores)\n",
    "plt.xlabel('gamma')\n",
    "plt.ylabel('Accuracy')\n",
    "\n",
    "max_value = max(accuracy_scores)\n",
    "max_index = accuracy_scores.index(max_value)\n",
    "print('Accuracy para modelo con profundidad de', gamma_range[max_index], 'es de:',max_value)"
   ]
  },
  {
   "cell_type": "code",
   "execution_count": 22,
   "metadata": {},
   "outputs": [
    {
     "name": "stdout",
     "output_type": "stream",
     "text": [
      "Accuracy para modelo con profundidad de 0.4 es de: 0.8812431300918144\n"
     ]
    },
    {
     "data": {
      "image/png": "[encoded data removed]",
      "text/plain": [
       "<Figure size 432x288 with 1 Axes>"
      ]
     },
     "metadata": {
      "needs_background": "light"
     },
     "output_type": "display_data"
    }
   ],
   "source": [
    "# Creación de lista de valores para iterar sobre diferentes valores de n_estimators\n",
    "estimator_range = [0.1, 0.2, 0.3, 0.4, 0.5, 0.6, 0.7, 0.8, 0.9, 1]\n",
    "\n",
    "# Definición de lista para almacenar la exactitud (accuracy) promedio para cada valor de n_estimators\n",
    "accuracy_scores = []\n",
    "\n",
    "# Uso de un 5-fold cross-validation para cada valor de n_estimators\n",
    "for e in estimator_range:\n",
    "    xgb_clf = XGBClassifier(learning_rate=0.1,colsample_bytree=e)\n",
    "    accuracy_scores.append(cross_val_score(xgb_clf, X_train, y_train, cv=10, scoring='accuracy').mean())\n",
    "    \n",
    "\n",
    "# Gráfica del desempeño del modelo vs la cantidad de n_estimators\n",
    "plt.plot(estimator_range, accuracy_scores)\n",
    "plt.xlabel('gamma')\n",
    "plt.ylabel('Accuracy')\n",
    "\n",
    "max_value = max(accuracy_scores)\n",
    "max_index = accuracy_scores.index(max_value)\n",
    "print('Accuracy para modelo con profundidad de', estimator_range[max_index], 'es de:',max_value)"
   ]
  },
  {
   "cell_type": "markdown",
   "metadata": {},
   "source": [
    "##### Calibracion de parametros de manera grupal"
   ]
  },
  {
   "cell_type": "code",
   "execution_count": 23,
   "metadata": {},
   "outputs": [
    {
     "name": "stdout",
     "output_type": "stream",
     "text": [
      "El Accuracy para el modelo XGBoost calibrado es de: 0.8874133949191686\n"
     ]
    }
   ],
   "source": [
    "# Utilizando el valor de los parametros calibrados individualmente\n",
    "\n",
    "xgb_clf_cal = XGBClassifier(learning_rate=0.1,gamma=1,colsample_bytree=0.4)\n",
    "# Entrenamiento (fit) y desempeño del modelo XGBClassifier\n",
    "xgb_clf_cal.fit(X_train, y_train)\n",
    "y_pred_xgb_cal = xgb_clf_cal.predict(X_test)\n",
    "# metrics.f1_score(y_pred_xgb, y_test.values), metrics.accuracy_score(y_pred_xgb, y_test.values)\n",
    "\n",
    "# Cálculo del Accuracy\n",
    "acc_XGB_cal = (accuracy_score(y_test, y_pred_xgb_cal))\n",
    "print('El Accuracy para el modelo XGBoost calibrado es de:', acc_XGB_cal)"
   ]
  },
  {
   "cell_type": "code",
   "execution_count": 24,
   "metadata": {},
   "outputs": [
    {
     "name": "stdout",
     "output_type": "stream",
     "text": [
      "El mejor parametro es de para colsample_bytree es: 0.5 \n",
      "El Accuracy para el modelo XGBoost calibrado es de: 0.8894341801385681\n"
     ]
    },
    {
     "data": {
      "image/png": "[encoded data removed]",
      "text/plain": [
       "<Figure size 432x288 with 1 Axes>"
      ]
     },
     "metadata": {
      "needs_background": "light"
     },
     "output_type": "display_data"
    }
   ],
   "source": [
    "# calibrando Solo el parametro colsample_bytree, y dejando los valores obtenidos para learning_rate, gamma\n",
    "\n",
    "# Entrenamiento (fit) y desempeño del modelo XGBClassifier\n",
    "\n",
    "\n",
    "\n",
    "estimator_range = [0.1, 0.2, 0.3, 0.4, 0.5, 0.6, 0.7, 0.8, 0.9, 1]\n",
    "\n",
    "# Definición de lista para almacenar la exactitud (accuracy) promedio para cada valor de n_estimators\n",
    "accuracy_scores = []\n",
    "\n",
    "# Uso de un 5-fold cross-validation para cada valor de n_estimators\n",
    "for e in estimator_range:\n",
    "    xgb_clf_cal = XGBClassifier(learning_rate=0.1,gamma=1,colsample_bytree=e)\n",
    "    xgb_clf_cal.fit(X_train, y_train)\n",
    "    y_pred_xgb_cal = xgb_clf_cal.predict(X_test)\n",
    "    accuracy_scores.append((accuracy_score(y_test, y_pred_xgb_cal)))\n",
    "    \n",
    "\n",
    "# Gráfica del desempeño del modelo vs la cantidad de n_estimators\n",
    "plt.plot(estimator_range, accuracy_scores)\n",
    "plt.xlabel('gamma')\n",
    "plt.ylabel('Accuracy')\n",
    "\n",
    "max_value = max(accuracy_scores)\n",
    "max_index = accuracy_scores.index(max_value)\n",
    "print('El mejor parametro es de para colsample_bytree es:', estimator_range[max_index], '\\nEl Accuracy para el modelo XGBoost calibrado es de:',max_value)\n",
    "\n"
   ]
  },
  {
   "cell_type": "code",
   "execution_count": 25,
   "metadata": {},
   "outputs": [
    {
     "name": "stdout",
     "output_type": "stream",
     "text": [
      "El mejor parametro es de para gamma es: 0.2 \n",
      "El Accuracy para el modelo XGBoost calibrado es de: 0.8897228637413395\n"
     ]
    },
    {
     "data": {
      "image/png": "[encoded data removed]",
      "text/plain": [
       "<Figure size 432x288 with 1 Axes>"
      ]
     },
     "metadata": {
      "needs_background": "light"
     },
     "output_type": "display_data"
    }
   ],
   "source": [
    "# calibrando Solo el parametro gamma y dejando los valores obtenidos para learning_rate, colsample_bytree\n",
    "\n",
    "# Creación de lista de valores para iterar sobre diferentes valores de n_estimators\n",
    "gamma_range = [0.001, 0.2,  0.4,  0.6,  0.8, 1,40,50,70]\n",
    "\n",
    "# Definición de lista para almacenar la exactitud (accuracy) promedio para cada valor de n_estimators\n",
    "accuracy_scores = []\n",
    "\n",
    "# Uso de un 5-fold cross-validation para cada valor de n_estimators\n",
    "for g in gamma_range:\n",
    "    xgb_clf_cal = XGBClassifier(learning_rate=0.1,gamma=g,colsample_bytree=0.5)\n",
    "    xgb_clf_cal.fit(X_train, y_train)\n",
    "    y_pred_xgb_cal = xgb_clf_cal.predict(X_test)\n",
    "    accuracy_scores.append((accuracy_score(y_test, y_pred_xgb_cal)))\n",
    "    \n",
    "\n",
    "# Gráfica del desempeño del modelo vs la cantidad de n_estimators\n",
    "plt.plot(gamma_range, accuracy_scores)\n",
    "plt.xlabel('gamma')\n",
    "plt.ylabel('Accuracy')\n",
    "\n",
    "max_value = max(accuracy_scores)\n",
    "max_index = accuracy_scores.index(max_value)\n",
    "print('El mejor parametro es de para gamma es:', gamma_range[max_index], '\\nEl Accuracy para el modelo XGBoost calibrado es de:',max_value)\n"
   ]
  },
  {
   "cell_type": "code",
   "execution_count": 26,
   "metadata": {},
   "outputs": [
    {
     "name": "stdout",
     "output_type": "stream",
     "text": [
      "El mejor parametro es de para gamma es: 30 \n",
      "El Accuracy para el modelo XGBoost calibrado es de: 0.8914549653579676\n"
     ]
    },
    {
     "data": {
      "image/png": "[encoded data removed]",
      "text/plain": [
       "<Figure size 432x288 with 1 Axes>"
      ]
     },
     "metadata": {
      "needs_background": "light"
     },
     "output_type": "display_data"
    }
   ],
   "source": [
    "#Despues se realizaron iteraciones de los parametros learning_rate y colsample_bytree a la vez, \n",
    "# luego de llegar al mejor valor de esos dos parametros, se comenzo nuevamente la iteracion de gamma\n",
    "\n",
    "\n",
    "\n",
    "# Creación de lista de valores para iterar sobre diferentes valores de n_estimators\n",
    "gamma_range = [0.001, 0.2,  0.4,  0.6,  0.8, 1,10,20,30,40,50,70]\n",
    "\n",
    "# Definición de lista para almacenar la exactitud (accuracy) promedio para cada valor de n_estimators\n",
    "accuracy_scores = []\n",
    "\n",
    "# Uso de un 5-fold cross-validation para cada valor de n_estimators\n",
    "for g in gamma_range:\n",
    "    xgb_clf_cal = XGBClassifier(learning_rate=0.3,gamma=g,colsample_bytree=0.7)\n",
    "    xgb_clf_cal.fit(X_train, y_train)\n",
    "    y_pred_xgb_cal = xgb_clf_cal.predict(X_test)\n",
    "    accuracy_scores.append((accuracy_score(y_test, y_pred_xgb_cal)))\n",
    "    \n",
    "\n",
    "# Gráfica del desempeño del modelo vs la cantidad de n_estimators\n",
    "plt.plot(gamma_range, accuracy_scores)\n",
    "plt.xlabel('gamma')\n",
    "plt.ylabel('Accuracy')\n",
    "\n",
    "max_value = max(accuracy_scores)\n",
    "max_index = accuracy_scores.index(max_value)\n",
    "print('El mejor parametro es de para gamma es:', gamma_range[max_index], '\\nEl Accuracy para el modelo XGBoost calibrado es de:',max_value)\n"
   ]
  },
  {
   "cell_type": "code",
   "execution_count": 27,
   "metadata": {},
   "outputs": [
    {
     "name": "stdout",
     "output_type": "stream",
     "text": [
      "El Accuracy para el modelo XGBoost calibrado es de: 0.8914549653579676\n"
     ]
    }
   ],
   "source": [
    "#xgb_clf_cal = XGBClassifier(learning_rate=0.3,gamma=20,colsample_bytree=0.7)\n",
    "xgb_clf_cal = XGBClassifier(learning_rate=0.3,gamma=30,colsample_bytree=0.7)\n",
    "# Entrenamiento (fit) y desempeño del modelo XGBClassifier\n",
    "xgb_clf_cal.fit(X_train, y_train)\n",
    "y_pred_xgb_cal = xgb_clf_cal.predict(X_test)\n",
    "# metrics.f1_score(y_pred_xgb, y_test.values), metrics.accuracy_score(y_pred_xgb, y_test.values)\n",
    "\n",
    "# Cálculo del Accuracy\n",
    "acc_XGB_cal = (accuracy_score(y_test, y_pred_xgb_cal))\n",
    "print('El Accuracy para el modelo XGBoost calibrado es de:', acc_XGB_cal)"
   ]
  },
  {
   "cell_type": "code",
   "execution_count": 28,
   "metadata": {},
   "outputs": [
    {
     "data": {
      "text/html": [
       "<div>\n",
       "<style scoped>\n",
       "    .dataframe tbody tr th:only-of-type {\n",
       "        vertical-align: middle;\n",
       "    }\n",
       "\n",
       "    .dataframe tbody tr th {\n",
       "        vertical-align: top;\n",
       "    }\n",
       "\n",
       "    .dataframe thead th {\n",
       "        text-align: right;\n",
       "    }\n",
       "</style>\n",
       "<table border=\"1\" class=\"dataframe\">\n",
       "  <thead>\n",
       "    <tr style=\"text-align: right;\">\n",
       "      <th></th>\n",
       "      <th>feature</th>\n",
       "      <th>importance</th>\n",
       "    </tr>\n",
       "  </thead>\n",
       "  <tbody>\n",
       "    <tr>\n",
       "      <th>1</th>\n",
       "      <td>Mileage</td>\n",
       "      <td>0.472876</td>\n",
       "    </tr>\n",
       "    <tr>\n",
       "      <th>0</th>\n",
       "      <td>Year</td>\n",
       "      <td>0.272112</td>\n",
       "    </tr>\n",
       "    <tr>\n",
       "      <th>3</th>\n",
       "      <td>M_Camry4dr</td>\n",
       "      <td>0.110480</td>\n",
       "    </tr>\n",
       "    <tr>\n",
       "      <th>6</th>\n",
       "      <td>M_CamryLE</td>\n",
       "      <td>0.054892</td>\n",
       "    </tr>\n",
       "    <tr>\n",
       "      <th>8</th>\n",
       "      <td>M_CamryXLE</td>\n",
       "      <td>0.046704</td>\n",
       "    </tr>\n",
       "    <tr>\n",
       "      <th>2</th>\n",
       "      <td>M_Camry</td>\n",
       "      <td>0.042935</td>\n",
       "    </tr>\n",
       "    <tr>\n",
       "      <th>4</th>\n",
       "      <td>M_CamryBase</td>\n",
       "      <td>0.000000</td>\n",
       "    </tr>\n",
       "    <tr>\n",
       "      <th>5</th>\n",
       "      <td>M_CamryL</td>\n",
       "      <td>0.000000</td>\n",
       "    </tr>\n",
       "    <tr>\n",
       "      <th>7</th>\n",
       "      <td>M_CamrySE</td>\n",
       "      <td>0.000000</td>\n",
       "    </tr>\n",
       "  </tbody>\n",
       "</table>\n",
       "</div>"
      ],
      "text/plain": [
       "       feature  importance\n",
       "1      Mileage    0.472876\n",
       "0         Year    0.272112\n",
       "3   M_Camry4dr    0.110480\n",
       "6    M_CamryLE    0.054892\n",
       "8   M_CamryXLE    0.046704\n",
       "2      M_Camry    0.042935\n",
       "4  M_CamryBase    0.000000\n",
       "5     M_CamryL    0.000000\n",
       "7    M_CamrySE    0.000000"
      ]
     },
     "execution_count": 28,
     "metadata": {},
     "output_type": "execute_result"
    }
   ],
   "source": [
    "# Impresión de resultados de desemepeño del modelo\n",
    "desp_xgb_clf_cal=pd.DataFrame({'feature':feature_cols, 'importance':xgb_clf_cal.feature_importances_}).sort_values('importance', ascending=False)\n",
    "desp_xgb_clf_cal"
   ]
  },
  {
   "cell_type": "markdown",
   "metadata": {},
   "source": [
    "##### Comentarios\n",
    "El algoritmo XGBoost tiene 3 tipos de parametros: parametros generales, parametros de refuerzo y parametros de tareas.\n",
    "\n",
    "En este ejercicio se propone calibrar y usar los parametros: learning rate, gamma y colsample_bytree, los cuales hacen parte de los parametros de refuerzo, en este caso resuezo de arboles (Tree Booster), a continuacion se tiene una breve descripcion de cada uno de los parametros mencionados:\n",
    "\n",
    "learning rate: La reducción del tamaño del paso se utiliza en la actualización para evitar el sobreajuste. Después de cada paso de refuerzo, podemos obtener directamente los pesos de las nuevas características, y el learning rate reduce los pesos de las características para que el proceso de refuerzo sea más conservador. Su rango esta entre [0,1]\n",
    "\n",
    "gamma: Reducción mínima de pérdidas necesaria para realizar una nueva partición en un nodo hoja del árbol. Cuanto mayor sea gamma, más conservador será el algoritmo. su rango esta entre [0,inf]\n",
    "\n",
    "colsample_bytree: es la proporción de submuestreo de columnas al construir cada árbol. El submuestreo se realiza una vez por cada árbol construido.\n",
    "\n",
    "De acuerdo con la definicion anterior, y con el fin de contrastar en la practica el comportamiento de cada uno de los parametros y su influencia en el resultado del algoritmo, se procedio de la siguiente manera:\n",
    "\n",
    "1. Se calibraron los parametros por separado para observar su influencia en el resultado final.\n",
    "2. Luego, se unieron los tres parametros con sus resultados para observar el resultado final, 0.8874133949191686\n",
    "3. Luego, con los tres parametros juntos, se itero sobre el parametro colsample_bytree = 0.5, y un accuracy de 0.8894341801385681 obteniendo una mejora con el resultado anterior.\n",
    "4. Luego, se itero sobre el parametro gamma con el fin de reducir las perdidas en las nuevas particiones de arboles, obteniendo un gamma = 0.2 y un accuracy de 0.8897228637413395, encontrandose una leve mejoria con respecto al resultado anterior.\n",
    "5. Finalmente, con el fin de seguir experimentando con los parametros y obtener el mejor accuracy posible, se decidio iterar nuevamente en colsample_bytree = 0.7 y seguido en gamma, obteniendo el mejor comportamiento con un gamma=30 y un accuracy =0.8914549653579676\n",
    "\n",
    "Nota: para las iteraciones iniciales se uso el set de datos X_train, y_train, ya que no se evidencio diferencia con usar los set de datos mas grandes en este caso X y y.\n",
    "\n",
    "Con la optimizacion de parametros se encontro que la importancia de las caracteristicas cambio con respecto a el agoritmo sin parametros, siendo para este resultado la caracteristica mas importante Mileage con 0.47 seguido por Year con 0.27, lo que evidencia la influencia de los parametros en el sobreajuste de la muestra asi como en la rediccion minima de perdidas en las nuevas particiones, notando asi que el aspecto mas importante del XGBoost son sus variables y la correcta combinacion de estas."
   ]
  },
  {
   "cell_type": "markdown",
   "metadata": {},
   "source": [
    "### Punto 8 - Comparación y análisis de resultados\n",
    "En la celda 8 comparen los resultados obtenidos de los diferentes modelos (random forest y XGBoost) y comenten las ventajas del mejor modelo y las desventajas del modelo con el menor desempeño."
   ]
  },
  {
   "cell_type": "code",
   "execution_count": 29,
   "metadata": {},
   "outputs": [
    {
     "name": "stdout",
     "output_type": "stream",
     "text": [
      "\n",
      "Usando Random Forest sin variables\n",
      "       feature  importance\n",
      "1      Mileage    0.611990\n",
      "0         Year    0.246934\n",
      "3   M_Camry4dr    0.077561\n",
      "7    M_CamrySE    0.037222\n",
      "6    M_CamryLE    0.008447\n",
      "8   M_CamryXLE    0.008265\n",
      "2      M_Camry    0.004129\n",
      "5     M_CamryL    0.003582\n",
      "4  M_CamryBase    0.001870\n",
      "\n",
      "\n",
      "Usando Random Forest con los parámetros max_depth, max_features y n_estimators, calibrados\n",
      "       feature  importance\n",
      "1      Mileage    0.666197\n",
      "0         Year    0.296190\n",
      "6    M_CamryLE    0.019110\n",
      "8   M_CamryXLE    0.009113\n",
      "2      M_Camry    0.007537\n",
      "5     M_CamryL    0.001266\n",
      "7    M_CamrySE    0.000541\n",
      "3   M_Camry4dr    0.000046\n",
      "4  M_CamryBase    0.000000\n",
      "\n",
      "\n",
      "Usando XGBoost sin variables\n",
      "        feature  importance\n",
      "0         Year    0.469196\n",
      "1      Mileage    0.147454\n",
      "6    M_CamryLE    0.101129\n",
      "8   M_CamryXLE    0.088409\n",
      "2      M_Camry    0.074973\n",
      "5     M_CamryL    0.066302\n",
      "3   M_Camry4dr    0.027128\n",
      "7    M_CamrySE    0.025409\n",
      "4  M_CamryBase    0.000000\n",
      "\n",
      "\n",
      "Usando XGBoost con los parámetros learning rate, gamma y colsample_bytree, calibrados\n",
      "       feature  importance\n",
      "1      Mileage    0.472876\n",
      "0         Year    0.272112\n",
      "3   M_Camry4dr    0.110480\n",
      "6    M_CamryLE    0.054892\n",
      "8   M_CamryXLE    0.046704\n",
      "2      M_Camry    0.042935\n",
      "4  M_CamryBase    0.000000\n",
      "5     M_CamryL    0.000000\n",
      "7    M_CamrySE    0.000000\n",
      "\n"
     ]
    }
   ],
   "source": [
    "# Celda 8\n",
    "\n",
    "\n",
    "print(f\"\\nUsando Random Forest sin variables\\n{desp_rf_clf}\\n\")\n",
    "print(f\"\\nUsando Random Forest con los parámetros max_depth, max_features y n_estimators, calibrados\\n{desp_rf_clf_cal}\\n\")\n",
    "print(f\"\\nUsando XGBoost sin variables\\n {desp_xgb_clf}\\n\")\n",
    "print(f\"\\nUsando XGBoost con los parámetros learning rate, gamma y colsample_bytree, calibrados\\n{desp_xgb_clf_cal}\\n\")"
   ]
  },
  {
   "cell_type": "code",
   "execution_count": 34,
   "metadata": {},
   "outputs": [
    {
     "data": {
      "image/png": "[encoded data removed]",
      "text/plain": [
       "<Figure size 1080x504 with 1 Axes>"
      ]
     },
     "metadata": {
      "needs_background": "light"
     },
     "output_type": "display_data"
    }
   ],
   "source": [
    "\n",
    "# Comparación de todos los resultados\n",
    "\n",
    "fig = plt.figure(figsize=(15,7))\n",
    "ax1=plt.subplot(1,1,1)\n",
    "ax1.set_ylim(0.84,0.9)\n",
    "ax1.grid(axis='y',color='gray', linestyle='--', linewidth=0.3)\n",
    "\n",
    "ejeX = ['Decision Tree','Bagging','RF','RF calibrado', 'XGB','XGB calibrado']\n",
    "ejeY = [td_acc,acc_rf,bag_acc, acc_rf_cal , acc_xgb, acc_XGB_cal]\n",
    "plt.bar(ejeX,ejeY)\n",
    "ax1.plot(ejeX,ejeY,marker='o', color= 'red')\n",
    "def addlabels(x,y,plotP):\n",
    "    for i in range(len(x)):\n",
    "        plotP.text(i,y[i],y[i])\n",
    "addlabels(ejeX,ejeY,plt)\n",
    "\n",
    "plt.title(\"Comparación de modelos - Accuracy\")\n",
    "plt.show()"
   ]
  },
  {
   "cell_type": "markdown",
   "metadata": {},
   "source": [
    "\n",
    "### Comparación de los modelos Random Forest y XGBoost\n",
    "\n",
    "Utilizando el Accuracy para medir el desempeño de los modelos obtenemos que:\n",
    "- El modelo Random Forest sin calibrar dio como resultado un Accuracy de **0.84439**\n",
    "- El modelo Random Forest calibrado con los parámetros n_estimators=14,max_features=9,max_depth=6, random_state=0, n_jobs=-1 arrojó un *Accuracy* de **0.89001**\n",
    "- El modelo XGBoost son calibrar dio como resultado un Accuracy de **0.88568**\n",
    "- El modelo XGBoost calibrado con los parámetros learning_rate=0.3,gamma=30,colsample_bytree=0.7 arrojó un accuracy de **0. 89145**\n",
    "\n",
    "Por otro lado, al comparar la importancia de las variables se obtiene que:\n",
    "- El modelo Random Forest las variables Mileage y Year tienen una importancia conjunta del 0.858\n",
    "- El modelo Random Forest calibrado estas mismas variables tienen una importancia conjunta del 0.896 y la tercera variable importancia solo tiene un valor de 0.019, lo que muestra la concentración del modelo.\n",
    "- Para el modelo XGBoost las variables Mileage y Year tienen una importancia conjunta del 0.616, a pesar de verse una distribución mayor de la importancia de las variables, como se mencionó anteriormente este algoritmo no está optimizado para la flexibilidad y el sobreajuste.\n",
    "- El modelo XGBoost calibrado estas mismas variables tienen una importancia conjunta del 0.744, pero al contrario del anterior, si tiene parámetros que mejoran el sobreajuste y la flexibilidad del modelo.\n",
    "\n",
    "\n",
    "Según los resultados **el mejor modelo para la predicción es el XGBoost calibrado**, este modelo presenta ventajas debido principalmente a la calibración de sus parámetros, lo veremos a continuación:\n",
    "1.\tEl parámetro learning rate regula qué tan rápido aprende el modelo, mejorando uno de los principales problemas del Gradient Boosting, el sobreajuste. \n",
    "2.\tEl parámetro gamma por su parte ayuda a la interpretabilidad del modelo, ya que, a un número mayor de gamma, el modelo es más conservador.\n",
    "Además, la técnica XGBoost:\n",
    "3.\tPresenta mejoras en el rendimiento computacional\n",
    "4.\tPuede manejar grandes bases de datos y valores nulos o perdidos\n",
    "\n",
    "Según los resultados **el modelo con el peor desempeño es el Random Forest sin calibrar**, el modelo presenta las siguientes desventajas:\n",
    "1.\tSon modelos difíciles de interpretar y se pierde el control sobre lo que realiza el modelo (se asemejan a modelos de caja negra)\n",
    "2.\tEste en particular no posee ninguna calibración de parámetros, por lo que puede estar consumiendo recursos computacionales no necesarios, por ejemplo, realizando la máxima profundidad de los árboles cuando el aporte no es significativo o utilizando el total de variables de entrada del modelo.\n"
   ]
  }
 ],
 "metadata": {
  "kernelspec": {
   "display_name": "Python 3",
   "language": "python",
   "name": "python3"
  },
  "language_info": {
   "codemirror_mode": {
    "name": "ipython",
    "version": 3
   },
   "file_extension": ".py",
   "mimetype": "text/x-python",
   "name": "python",
   "nbconvert_exporter": "python",
   "pygments_lexer": "ipython3",
   "version": "3.8.3"
  }
 },
 "nbformat": 4,
 "nbformat_minor": 4
}
