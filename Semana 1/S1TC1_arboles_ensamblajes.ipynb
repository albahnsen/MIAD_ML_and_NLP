{
 "cells": [
  {
   "cell_type": "markdown",
   "metadata": {},
   "source": [
    "![image info](https://raw.githubusercontent.com/albahnsen/MIAD_ML_and_NLP/main/images/banner_1.png)"
   ]
  },
  {
   "cell_type": "markdown",
   "metadata": {},
   "source": [
    "# Taller: Construcción e implementación de árboles de decisión y métodos de ensamblaje\n",
    "\n",
    "En este taller podrá poner en práctica los sus conocimientos sobre construcción e implementación de árboles de decisión y métodos de ensamblajes. El taller está constituido por 9 puntos, 5 relacionados con árboles de decisión (parte A) y 4 con métodos de ensamblaje (parte B)."
   ]
  },
  {
   "cell_type": "markdown",
   "metadata": {},
   "source": [
    "## Parte A - Árboles de decisión\n",
    "\n",
    "En esta parte del taller se usará el conjunto de datos de Capital Bikeshare de Kaggle, donde cada observación representa el alquiler de una bicicleta durante una hora y día determinado. Para más detalles puede visitar los siguientes enlaces: [datos](https://github.com/justmarkham/DAT8/blob/master/data/bikeshare.csv), [dicccionario de datos](https://www.kaggle.com/c/bike-sharing-demand/data)."
   ]
  },
  {
   "cell_type": "markdown",
   "metadata": {},
   "source": [
    "### Datos prestamo de bicicletas"
   ]
  },
  {
   "cell_type": "code",
   "execution_count": 3,
   "metadata": {},
   "outputs": [],
   "source": [
    "import warnings\n",
    "warnings.filterwarnings('ignore')"
   ]
  },
  {
   "cell_type": "code",
   "execution_count": 143,
   "metadata": {},
   "outputs": [],
   "source": [
    "# Importación de librerías\n",
    "%matplotlib inline\n",
    "import pandas as pd\n",
    "import numpy as np\n",
    "from sklearn.model_selection import cross_val_score\n",
    "from sklearn.linear_model import LinearRegression\n",
    "from sklearn.tree import DecisionTreeRegressor, export_graphviz\n",
    "import matplotlib.pyplot as plt\n",
    "\n",
    "from sklearn import datasets\n",
    "from sklearn.model_selection import train_test_split\n",
    "from sklearn.tree import plot_tree\n",
    "\n",
    "from sklearn.linear_model import LogisticRegression\n",
    "from sklearn.ensemble import BaggingClassifier\n",
    "\n",
    "from sklearn import metrics\n",
    "from sklearn.metrics import accuracy_score\n",
    "from sklearn.metrics import precision_score\n",
    "from sklearn.metrics import confusion_matrix"
   ]
  },
  {
   "cell_type": "code",
   "execution_count": 5,
   "metadata": {},
   "outputs": [
    {
     "data": {
      "text/html": [
       "<div>\n",
       "<style scoped>\n",
       "    .dataframe tbody tr th:only-of-type {\n",
       "        vertical-align: middle;\n",
       "    }\n",
       "\n",
       "    .dataframe tbody tr th {\n",
       "        vertical-align: top;\n",
       "    }\n",
       "\n",
       "    .dataframe thead th {\n",
       "        text-align: right;\n",
       "    }\n",
       "</style>\n",
       "<table border=\"1\" class=\"dataframe\">\n",
       "  <thead>\n",
       "    <tr style=\"text-align: right;\">\n",
       "      <th></th>\n",
       "      <th>season</th>\n",
       "      <th>holiday</th>\n",
       "      <th>workingday</th>\n",
       "      <th>weather</th>\n",
       "      <th>temp</th>\n",
       "      <th>atemp</th>\n",
       "      <th>humidity</th>\n",
       "      <th>windspeed</th>\n",
       "      <th>casual</th>\n",
       "      <th>registered</th>\n",
       "      <th>total</th>\n",
       "      <th>hour</th>\n",
       "    </tr>\n",
       "    <tr>\n",
       "      <th>datetime</th>\n",
       "      <th></th>\n",
       "      <th></th>\n",
       "      <th></th>\n",
       "      <th></th>\n",
       "      <th></th>\n",
       "      <th></th>\n",
       "      <th></th>\n",
       "      <th></th>\n",
       "      <th></th>\n",
       "      <th></th>\n",
       "      <th></th>\n",
       "      <th></th>\n",
       "    </tr>\n",
       "  </thead>\n",
       "  <tbody>\n",
       "    <tr>\n",
       "      <th>2011-01-01 00:00:00</th>\n",
       "      <td>1</td>\n",
       "      <td>0</td>\n",
       "      <td>0</td>\n",
       "      <td>1</td>\n",
       "      <td>9.84</td>\n",
       "      <td>14.395</td>\n",
       "      <td>81</td>\n",
       "      <td>0.0</td>\n",
       "      <td>3</td>\n",
       "      <td>13</td>\n",
       "      <td>16</td>\n",
       "      <td>0</td>\n",
       "    </tr>\n",
       "    <tr>\n",
       "      <th>2011-01-01 01:00:00</th>\n",
       "      <td>1</td>\n",
       "      <td>0</td>\n",
       "      <td>0</td>\n",
       "      <td>1</td>\n",
       "      <td>9.02</td>\n",
       "      <td>13.635</td>\n",
       "      <td>80</td>\n",
       "      <td>0.0</td>\n",
       "      <td>8</td>\n",
       "      <td>32</td>\n",
       "      <td>40</td>\n",
       "      <td>1</td>\n",
       "    </tr>\n",
       "    <tr>\n",
       "      <th>2011-01-01 02:00:00</th>\n",
       "      <td>1</td>\n",
       "      <td>0</td>\n",
       "      <td>0</td>\n",
       "      <td>1</td>\n",
       "      <td>9.02</td>\n",
       "      <td>13.635</td>\n",
       "      <td>80</td>\n",
       "      <td>0.0</td>\n",
       "      <td>5</td>\n",
       "      <td>27</td>\n",
       "      <td>32</td>\n",
       "      <td>2</td>\n",
       "    </tr>\n",
       "    <tr>\n",
       "      <th>2011-01-01 03:00:00</th>\n",
       "      <td>1</td>\n",
       "      <td>0</td>\n",
       "      <td>0</td>\n",
       "      <td>1</td>\n",
       "      <td>9.84</td>\n",
       "      <td>14.395</td>\n",
       "      <td>75</td>\n",
       "      <td>0.0</td>\n",
       "      <td>3</td>\n",
       "      <td>10</td>\n",
       "      <td>13</td>\n",
       "      <td>3</td>\n",
       "    </tr>\n",
       "    <tr>\n",
       "      <th>2011-01-01 04:00:00</th>\n",
       "      <td>1</td>\n",
       "      <td>0</td>\n",
       "      <td>0</td>\n",
       "      <td>1</td>\n",
       "      <td>9.84</td>\n",
       "      <td>14.395</td>\n",
       "      <td>75</td>\n",
       "      <td>0.0</td>\n",
       "      <td>0</td>\n",
       "      <td>1</td>\n",
       "      <td>1</td>\n",
       "      <td>4</td>\n",
       "    </tr>\n",
       "  </tbody>\n",
       "</table>\n",
       "</div>"
      ],
      "text/plain": [
       "                     season  holiday  workingday  weather  temp   atemp  \\\n",
       "datetime                                                                  \n",
       "2011-01-01 00:00:00       1        0           0        1  9.84  14.395   \n",
       "2011-01-01 01:00:00       1        0           0        1  9.02  13.635   \n",
       "2011-01-01 02:00:00       1        0           0        1  9.02  13.635   \n",
       "2011-01-01 03:00:00       1        0           0        1  9.84  14.395   \n",
       "2011-01-01 04:00:00       1        0           0        1  9.84  14.395   \n",
       "\n",
       "                     humidity  windspeed  casual  registered  total  hour  \n",
       "datetime                                                                   \n",
       "2011-01-01 00:00:00        81        0.0       3          13     16     0  \n",
       "2011-01-01 01:00:00        80        0.0       8          32     40     1  \n",
       "2011-01-01 02:00:00        80        0.0       5          27     32     2  \n",
       "2011-01-01 03:00:00        75        0.0       3          10     13     3  \n",
       "2011-01-01 04:00:00        75        0.0       0           1      1     4  "
      ]
     },
     "execution_count": 5,
     "metadata": {},
     "output_type": "execute_result"
    }
   ],
   "source": [
    "# Lectura de la información de archivo .csv\n",
    "bikes = pd.read_csv('https://raw.githubusercontent.com/albahnsen/MIAD_ML_and_NLP/main/datasets/bikeshare.csv', index_col='datetime', parse_dates=True)\n",
    "# Renombrar variable \"count\" a \"total\"\n",
    "bikes.rename(columns={'count':'total'}, inplace=True)\n",
    "# Crear la hora como una variable \n",
    "bikes['hour'] = bikes.index.hour\n",
    "# Visualización\n",
    "bikes.head()"
   ]
  },
  {
   "cell_type": "markdown",
   "metadata": {},
   "source": [
    "### Punto 1 - Análisis descriptivo\n",
    "\n",
    "Ejecute las celdas 1.1 y 1.2. A partir de los resultados realice un análisis descriptivo sobre las variables hour y workingday, escriba sus inferencias sobre los datos. Para complementar su análisis puede usar métricas como máximo, mínimo, percentiles entre otros."
   ]
  },
  {
   "cell_type": "code",
   "execution_count": 6,
   "metadata": {},
   "outputs": [
    {
     "data": {
      "text/plain": [
       "workingday\n",
       "0    188.506621\n",
       "1    193.011873\n",
       "Name: total, dtype: float64"
      ]
     },
     "execution_count": 6,
     "metadata": {},
     "output_type": "execute_result"
    }
   ],
   "source": [
    "# Celda 1.1\n",
    "bikes.groupby('workingday').total.mean()\n"
   ]
  },
  {
   "cell_type": "code",
   "execution_count": 7,
   "metadata": {
    "scrolled": true
   },
   "outputs": [
    {
     "data": {
      "text/plain": [
       "hour\n",
       "0      55.138462\n",
       "1      33.859031\n",
       "2      22.899554\n",
       "3      11.757506\n",
       "4       6.407240\n",
       "5      19.767699\n",
       "6      76.259341\n",
       "7     213.116484\n",
       "8     362.769231\n",
       "9     221.780220\n",
       "10    175.092308\n",
       "11    210.674725\n",
       "12    256.508772\n",
       "13    257.787281\n",
       "14    243.442982\n",
       "15    254.298246\n",
       "16    316.372807\n",
       "17    468.765351\n",
       "18    430.859649\n",
       "19    315.278509\n",
       "20    228.517544\n",
       "21    173.370614\n",
       "22    133.576754\n",
       "23     89.508772\n",
       "Name: total, dtype: float64"
      ]
     },
     "execution_count": 7,
     "metadata": {},
     "output_type": "execute_result"
    }
   ],
   "source": [
    "# Celda 1.2\n",
    "bikes.groupby('hour').total.mean()"
   ]
  },
  {
   "cell_type": "code",
   "execution_count": 8,
   "metadata": {},
   "outputs": [
    {
     "data": {
      "text/html": [
       "<div>\n",
       "<style scoped>\n",
       "    .dataframe tbody tr th:only-of-type {\n",
       "        vertical-align: middle;\n",
       "    }\n",
       "\n",
       "    .dataframe tbody tr th {\n",
       "        vertical-align: top;\n",
       "    }\n",
       "\n",
       "    .dataframe thead th {\n",
       "        text-align: right;\n",
       "    }\n",
       "</style>\n",
       "<table border=\"1\" class=\"dataframe\">\n",
       "  <thead>\n",
       "    <tr style=\"text-align: right;\">\n",
       "      <th></th>\n",
       "      <th>workingday</th>\n",
       "      <th>hour</th>\n",
       "      <th>total</th>\n",
       "    </tr>\n",
       "  </thead>\n",
       "  <tbody>\n",
       "    <tr>\n",
       "      <th>count</th>\n",
       "      <td>10886.000000</td>\n",
       "      <td>10886.000000</td>\n",
       "      <td>10886.000000</td>\n",
       "    </tr>\n",
       "    <tr>\n",
       "      <th>mean</th>\n",
       "      <td>0.680875</td>\n",
       "      <td>11.541613</td>\n",
       "      <td>191.574132</td>\n",
       "    </tr>\n",
       "    <tr>\n",
       "      <th>std</th>\n",
       "      <td>0.466159</td>\n",
       "      <td>6.915838</td>\n",
       "      <td>181.144454</td>\n",
       "    </tr>\n",
       "    <tr>\n",
       "      <th>min</th>\n",
       "      <td>0.000000</td>\n",
       "      <td>0.000000</td>\n",
       "      <td>1.000000</td>\n",
       "    </tr>\n",
       "    <tr>\n",
       "      <th>25%</th>\n",
       "      <td>0.000000</td>\n",
       "      <td>6.000000</td>\n",
       "      <td>42.000000</td>\n",
       "    </tr>\n",
       "    <tr>\n",
       "      <th>50%</th>\n",
       "      <td>1.000000</td>\n",
       "      <td>12.000000</td>\n",
       "      <td>145.000000</td>\n",
       "    </tr>\n",
       "    <tr>\n",
       "      <th>75%</th>\n",
       "      <td>1.000000</td>\n",
       "      <td>18.000000</td>\n",
       "      <td>284.000000</td>\n",
       "    </tr>\n",
       "    <tr>\n",
       "      <th>max</th>\n",
       "      <td>1.000000</td>\n",
       "      <td>23.000000</td>\n",
       "      <td>977.000000</td>\n",
       "    </tr>\n",
       "  </tbody>\n",
       "</table>\n",
       "</div>"
      ],
      "text/plain": [
       "         workingday          hour         total\n",
       "count  10886.000000  10886.000000  10886.000000\n",
       "mean       0.680875     11.541613    191.574132\n",
       "std        0.466159      6.915838    181.144454\n",
       "min        0.000000      0.000000      1.000000\n",
       "25%        0.000000      6.000000     42.000000\n",
       "50%        1.000000     12.000000    145.000000\n",
       "75%        1.000000     18.000000    284.000000\n",
       "max        1.000000     23.000000    977.000000"
      ]
     },
     "execution_count": 8,
     "metadata": {},
     "output_type": "execute_result"
    }
   ],
   "source": [
    "bikes[['workingday','hour','total']].describe()"
   ]
  },
  {
   "cell_type": "code",
   "execution_count": 9,
   "metadata": {},
   "outputs": [
    {
     "data": {
      "text/plain": [
       "<bound method IndexOpsMixin.nunique of 1    7412\n",
       "0    3474\n",
       "Name: workingday, dtype: int64>"
      ]
     },
     "execution_count": 9,
     "metadata": {},
     "output_type": "execute_result"
    }
   ],
   "source": [
    "bikes.workingday.value_counts().nunique\n",
    "\n",
    "# '''\n",
    "# En los datos se evidencia que cuando workingday es 1 (no es ni fin de semana ni vacaciones) no hay una diferencia muy grande en cuanto al arriendo de motos  con los\n",
    "# dias en que son fines de semana y vacaciones hay una los dias habiles corresponden a 2.1 veces los dias no habiles, esto nos da un contexto para comprender bien los datos\n",
    "# '''"
   ]
  },
  {
   "cell_type": "code",
   "execution_count": 10,
   "metadata": {},
   "outputs": [
    {
     "data": {
      "text/plain": [
       "<bound method IndexOpsMixin.nunique of 12    456\n",
       "13    456\n",
       "22    456\n",
       "21    456\n",
       "20    456\n",
       "19    456\n",
       "18    456\n",
       "17    456\n",
       "16    456\n",
       "15    456\n",
       "14    456\n",
       "23    456\n",
       "11    455\n",
       "10    455\n",
       "9     455\n",
       "8     455\n",
       "7     455\n",
       "6     455\n",
       "0     455\n",
       "1     454\n",
       "5     452\n",
       "2     448\n",
       "4     442\n",
       "3     433\n",
       "Name: hour, dtype: int64>"
      ]
     },
     "execution_count": 10,
     "metadata": {},
     "output_type": "execute_result"
    }
   ],
   "source": [
    "bikes.hour.value_counts().nunique\n",
    "\n",
    "# '''\n",
    "# el segmento de horas mas frecuentes para renta de motos es entre las 12 y 23 horas\n",
    "# el segundo segmento mas frecuente es entre las 6 y las 11 horas, teniendo que la hora 0 tiene ma misma frecuencia\n",
    "# '''"
   ]
  },
  {
   "cell_type": "code",
   "execution_count": 11,
   "metadata": {},
   "outputs": [
    {
     "data": {
      "text/plain": [
       "5      169\n",
       "4      149\n",
       "3      144\n",
       "6      135\n",
       "2      132\n",
       "      ... \n",
       "801      1\n",
       "629      1\n",
       "825      1\n",
       "589      1\n",
       "636      1\n",
       "Name: total, Length: 822, dtype: int64"
      ]
     },
     "execution_count": 11,
     "metadata": {},
     "output_type": "execute_result"
    }
   ],
   "source": [
    "bikes.total.value_counts()\n",
    "\n",
    "# '''\n",
    "# La cantidad de veces que mas se renta una moto son 5 con 169 veces, seguido por 4, 3, 6, 2 veces, lo que \n",
    "# '''"
   ]
  },
  {
   "cell_type": "code",
   "execution_count": 12,
   "metadata": {},
   "outputs": [
    {
     "data": {
      "text/html": [
       "<div>\n",
       "<style scoped>\n",
       "    .dataframe tbody tr th:only-of-type {\n",
       "        vertical-align: middle;\n",
       "    }\n",
       "\n",
       "    .dataframe tbody tr th {\n",
       "        vertical-align: top;\n",
       "    }\n",
       "\n",
       "    .dataframe thead th {\n",
       "        text-align: right;\n",
       "    }\n",
       "</style>\n",
       "<table border=\"1\" class=\"dataframe\">\n",
       "  <thead>\n",
       "    <tr style=\"text-align: right;\">\n",
       "      <th>workingday</th>\n",
       "      <th>0</th>\n",
       "      <th>1</th>\n",
       "    </tr>\n",
       "    <tr>\n",
       "      <th>hour</th>\n",
       "      <th></th>\n",
       "      <th></th>\n",
       "    </tr>\n",
       "  </thead>\n",
       "  <tbody>\n",
       "    <tr>\n",
       "      <th>0</th>\n",
       "      <td>94.489655</td>\n",
       "      <td>36.732258</td>\n",
       "    </tr>\n",
       "    <tr>\n",
       "      <th>1</th>\n",
       "      <td>71.910345</td>\n",
       "      <td>16.003236</td>\n",
       "    </tr>\n",
       "    <tr>\n",
       "      <th>2</th>\n",
       "      <td>53.748252</td>\n",
       "      <td>8.436066</td>\n",
       "    </tr>\n",
       "    <tr>\n",
       "      <th>3</th>\n",
       "      <td>25.534722</td>\n",
       "      <td>4.892734</td>\n",
       "    </tr>\n",
       "    <tr>\n",
       "      <th>4</th>\n",
       "      <td>8.544828</td>\n",
       "      <td>5.363636</td>\n",
       "    </tr>\n",
       "    <tr>\n",
       "      <th>5</th>\n",
       "      <td>9.373239</td>\n",
       "      <td>24.529032</td>\n",
       "    </tr>\n",
       "    <tr>\n",
       "      <th>6</th>\n",
       "      <td>19.993103</td>\n",
       "      <td>102.577419</td>\n",
       "    </tr>\n",
       "    <tr>\n",
       "      <th>7</th>\n",
       "      <td>47.268966</td>\n",
       "      <td>290.690323</td>\n",
       "    </tr>\n",
       "    <tr>\n",
       "      <th>8</th>\n",
       "      <td>112.255172</td>\n",
       "      <td>479.945161</td>\n",
       "    </tr>\n",
       "    <tr>\n",
       "      <th>9</th>\n",
       "      <td>177.924138</td>\n",
       "      <td>242.293548</td>\n",
       "    </tr>\n",
       "    <tr>\n",
       "      <th>10</th>\n",
       "      <td>263.806897</td>\n",
       "      <td>133.596774</td>\n",
       "    </tr>\n",
       "    <tr>\n",
       "      <th>11</th>\n",
       "      <td>325.386207</td>\n",
       "      <td>157.019355</td>\n",
       "    </tr>\n",
       "    <tr>\n",
       "      <th>12</th>\n",
       "      <td>379.110345</td>\n",
       "      <td>199.347267</td>\n",
       "    </tr>\n",
       "    <tr>\n",
       "      <th>13</th>\n",
       "      <td>387.820690</td>\n",
       "      <td>197.160772</td>\n",
       "    </tr>\n",
       "    <tr>\n",
       "      <th>14</th>\n",
       "      <td>378.731034</td>\n",
       "      <td>180.366559</td>\n",
       "    </tr>\n",
       "    <tr>\n",
       "      <th>15</th>\n",
       "      <td>373.703448</td>\n",
       "      <td>198.627010</td>\n",
       "    </tr>\n",
       "    <tr>\n",
       "      <th>16</th>\n",
       "      <td>367.648276</td>\n",
       "      <td>292.466238</td>\n",
       "    </tr>\n",
       "    <tr>\n",
       "      <th>17</th>\n",
       "      <td>339.124138</td>\n",
       "      <td>529.209003</td>\n",
       "    </tr>\n",
       "    <tr>\n",
       "      <th>18</th>\n",
       "      <td>292.248276</td>\n",
       "      <td>495.485531</td>\n",
       "    </tr>\n",
       "    <tr>\n",
       "      <th>19</th>\n",
       "      <td>242.344828</td>\n",
       "      <td>349.282958</td>\n",
       "    </tr>\n",
       "    <tr>\n",
       "      <th>20</th>\n",
       "      <td>183.806897</td>\n",
       "      <td>249.363344</td>\n",
       "    </tr>\n",
       "    <tr>\n",
       "      <th>21</th>\n",
       "      <td>148.737931</td>\n",
       "      <td>184.855305</td>\n",
       "    </tr>\n",
       "    <tr>\n",
       "      <th>22</th>\n",
       "      <td>123.351724</td>\n",
       "      <td>138.344051</td>\n",
       "    </tr>\n",
       "    <tr>\n",
       "      <th>23</th>\n",
       "      <td>90.606897</td>\n",
       "      <td>88.996785</td>\n",
       "    </tr>\n",
       "  </tbody>\n",
       "</table>\n",
       "</div>"
      ],
      "text/plain": [
       "workingday           0           1\n",
       "hour                              \n",
       "0            94.489655   36.732258\n",
       "1            71.910345   16.003236\n",
       "2            53.748252    8.436066\n",
       "3            25.534722    4.892734\n",
       "4             8.544828    5.363636\n",
       "5             9.373239   24.529032\n",
       "6            19.993103  102.577419\n",
       "7            47.268966  290.690323\n",
       "8           112.255172  479.945161\n",
       "9           177.924138  242.293548\n",
       "10          263.806897  133.596774\n",
       "11          325.386207  157.019355\n",
       "12          379.110345  199.347267\n",
       "13          387.820690  197.160772\n",
       "14          378.731034  180.366559\n",
       "15          373.703448  198.627010\n",
       "16          367.648276  292.466238\n",
       "17          339.124138  529.209003\n",
       "18          292.248276  495.485531\n",
       "19          242.344828  349.282958\n",
       "20          183.806897  249.363344\n",
       "21          148.737931  184.855305\n",
       "22          123.351724  138.344051\n",
       "23           90.606897   88.996785"
      ]
     },
     "execution_count": 12,
     "metadata": {},
     "output_type": "execute_result"
    }
   ],
   "source": [
    "bikes.pivot_table(columns=['workingday'],index='hour',values='total', aggfunc=np.mean)\n",
    "\n",
    "# A continuacion se evidencia que en general los dias no habiles hay un numero mayor de renta en los segmentos entre las 0 y 4 horas, las 10 y 16 horas, 23 y 0 horas, con respecto a \n",
    "# los mismos segmentos en los dias habiles, sin embargo, se nota que, en los segmentos de alto flujo de personas en en horario donde normalmente se toma horarios laborales o actividad\n",
    "# desplazamientos por actividad social hay unos picos muy alto de rentas de motos, los segmentos de 5 a 9, y de 17 a 22\n",
    "\n",
    "# Las horas donde se tiene una relacion con respecto a los dias habiles de 4.2754, a la hora 8\n",
    "# En el segmento de la tarde la hora con mayor pico en los dias habiles tiene una relacion de de 1.56 a favor de la renta en los dias habiles con respecto a los dias no habiles"
   ]
  },
  {
   "cell_type": "code",
   "execution_count": 13,
   "metadata": {},
   "outputs": [
    {
     "data": {
      "text/plain": [
       "workingday\n",
       "0    4517.470007\n",
       "1    4605.584366\n",
       "dtype: float64"
      ]
     },
     "execution_count": 13,
     "metadata": {},
     "output_type": "execute_result"
    }
   ],
   "source": [
    "bikes.pivot_table(columns=['workingday'],index='hour',values='total', aggfunc=np.mean).sum()\n",
    "\n",
    "# La diferencia las rentas totales de los dias habiles con respecto a los no habiles es 88.114359, \n",
    "# y teniendo encuenta la cantidad dias no habiles vs los habiles (siendo los habiles 2.1 veces superior en cantidad de dias)\n",
    "# no es una diferencia significante. "
   ]
  },
  {
   "cell_type": "code",
   "execution_count": 14,
   "metadata": {},
   "outputs": [
    {
     "data": {
      "text/html": [
       "<div>\n",
       "<style scoped>\n",
       "    .dataframe tbody tr th:only-of-type {\n",
       "        vertical-align: middle;\n",
       "    }\n",
       "\n",
       "    .dataframe tbody tr th {\n",
       "        vertical-align: top;\n",
       "    }\n",
       "\n",
       "    .dataframe thead th {\n",
       "        text-align: right;\n",
       "    }\n",
       "</style>\n",
       "<table border=\"1\" class=\"dataframe\">\n",
       "  <thead>\n",
       "    <tr style=\"text-align: right;\">\n",
       "      <th>workingday</th>\n",
       "      <th>0</th>\n",
       "      <th>1</th>\n",
       "    </tr>\n",
       "  </thead>\n",
       "  <tbody>\n",
       "    <tr>\n",
       "      <th>count</th>\n",
       "      <td>24.000000</td>\n",
       "      <td>24.000000</td>\n",
       "    </tr>\n",
       "    <tr>\n",
       "      <th>mean</th>\n",
       "      <td>188.227917</td>\n",
       "      <td>191.899349</td>\n",
       "    </tr>\n",
       "    <tr>\n",
       "      <th>std</th>\n",
       "      <td>138.425065</td>\n",
       "      <td>154.949456</td>\n",
       "    </tr>\n",
       "    <tr>\n",
       "      <th>min</th>\n",
       "      <td>8.544828</td>\n",
       "      <td>4.892734</td>\n",
       "    </tr>\n",
       "    <tr>\n",
       "      <th>25%</th>\n",
       "      <td>67.369822</td>\n",
       "      <td>75.930653</td>\n",
       "    </tr>\n",
       "    <tr>\n",
       "      <th>50%</th>\n",
       "      <td>163.331034</td>\n",
       "      <td>182.610932</td>\n",
       "    </tr>\n",
       "    <tr>\n",
       "      <th>75%</th>\n",
       "      <td>328.820690</td>\n",
       "      <td>259.695089</td>\n",
       "    </tr>\n",
       "    <tr>\n",
       "      <th>max</th>\n",
       "      <td>387.820690</td>\n",
       "      <td>529.209003</td>\n",
       "    </tr>\n",
       "  </tbody>\n",
       "</table>\n",
       "</div>"
      ],
      "text/plain": [
       "workingday           0           1\n",
       "count        24.000000   24.000000\n",
       "mean        188.227917  191.899349\n",
       "std         138.425065  154.949456\n",
       "min           8.544828    4.892734\n",
       "25%          67.369822   75.930653\n",
       "50%         163.331034  182.610932\n",
       "75%         328.820690  259.695089\n",
       "max         387.820690  529.209003"
      ]
     },
     "execution_count": 14,
     "metadata": {},
     "output_type": "execute_result"
    }
   ],
   "source": [
    "bikes.pivot_table(columns=['workingday'],index='hour',values='total').describe()\n",
    "\n",
    "# Se nota un comportamiento o tendencia uniforme en los dias no habiles, por otra parte, la renta en los dias habiles es superion en el 25% , sin embargo, en los quartiles 50% y 75%\n",
    "# la renta en los dias habiles presenta picos superiores, terminado con el maximo que en los dias habiles esta un 1.3 por encima de los dias habiles, a pesar de esto, y como se menciono\n",
    "# anteriormente, el total de rentas entre los dos tipos de dias, no son significantemente diferentes, siendo superio los dias habiles con en promedio 88 rentas por encima"
   ]
  },
  {
   "cell_type": "code",
   "execution_count": 15,
   "metadata": {},
   "outputs": [
    {
     "data": {
      "text/html": [
       "<div>\n",
       "<style scoped>\n",
       "    .dataframe tbody tr th:only-of-type {\n",
       "        vertical-align: middle;\n",
       "    }\n",
       "\n",
       "    .dataframe tbody tr th {\n",
       "        vertical-align: top;\n",
       "    }\n",
       "\n",
       "    .dataframe thead th {\n",
       "        text-align: right;\n",
       "    }\n",
       "</style>\n",
       "<table border=\"1\" class=\"dataframe\">\n",
       "  <thead>\n",
       "    <tr style=\"text-align: right;\">\n",
       "      <th>hour</th>\n",
       "      <th>0</th>\n",
       "      <th>1</th>\n",
       "      <th>2</th>\n",
       "      <th>3</th>\n",
       "      <th>4</th>\n",
       "      <th>5</th>\n",
       "      <th>6</th>\n",
       "      <th>7</th>\n",
       "      <th>8</th>\n",
       "      <th>9</th>\n",
       "      <th>...</th>\n",
       "      <th>14</th>\n",
       "      <th>15</th>\n",
       "      <th>16</th>\n",
       "      <th>17</th>\n",
       "      <th>18</th>\n",
       "      <th>19</th>\n",
       "      <th>20</th>\n",
       "      <th>21</th>\n",
       "      <th>22</th>\n",
       "      <th>23</th>\n",
       "    </tr>\n",
       "  </thead>\n",
       "  <tbody>\n",
       "    <tr>\n",
       "      <th>count</th>\n",
       "      <td>2.000000</td>\n",
       "      <td>2.000000</td>\n",
       "      <td>2.000000</td>\n",
       "      <td>2.000000</td>\n",
       "      <td>2.000000</td>\n",
       "      <td>2.000000</td>\n",
       "      <td>2.000000</td>\n",
       "      <td>2.000000</td>\n",
       "      <td>2.000000</td>\n",
       "      <td>2.000000</td>\n",
       "      <td>...</td>\n",
       "      <td>2.000000</td>\n",
       "      <td>2.000000</td>\n",
       "      <td>2.000000</td>\n",
       "      <td>2.000000</td>\n",
       "      <td>2.000000</td>\n",
       "      <td>2.000000</td>\n",
       "      <td>2.000000</td>\n",
       "      <td>2.000000</td>\n",
       "      <td>2.000000</td>\n",
       "      <td>2.000000</td>\n",
       "    </tr>\n",
       "    <tr>\n",
       "      <th>mean</th>\n",
       "      <td>65.610957</td>\n",
       "      <td>43.956791</td>\n",
       "      <td>31.092159</td>\n",
       "      <td>15.213728</td>\n",
       "      <td>6.954232</td>\n",
       "      <td>16.951136</td>\n",
       "      <td>61.285261</td>\n",
       "      <td>168.979644</td>\n",
       "      <td>296.100167</td>\n",
       "      <td>210.108843</td>\n",
       "      <td>...</td>\n",
       "      <td>279.548797</td>\n",
       "      <td>286.165229</td>\n",
       "      <td>330.057257</td>\n",
       "      <td>434.166571</td>\n",
       "      <td>393.866903</td>\n",
       "      <td>295.813893</td>\n",
       "      <td>216.585120</td>\n",
       "      <td>166.796618</td>\n",
       "      <td>130.847888</td>\n",
       "      <td>89.801841</td>\n",
       "    </tr>\n",
       "    <tr>\n",
       "      <th>std</th>\n",
       "      <td>40.840647</td>\n",
       "      <td>39.532296</td>\n",
       "      <td>32.040554</td>\n",
       "      <td>14.596090</td>\n",
       "      <td>2.249442</td>\n",
       "      <td>10.716764</td>\n",
       "      <td>58.395930</td>\n",
       "      <td>172.124892</td>\n",
       "      <td>259.996085</td>\n",
       "      <td>45.516047</td>\n",
       "      <td>...</td>\n",
       "      <td>140.264865</td>\n",
       "      <td>123.797737</td>\n",
       "      <td>53.161729</td>\n",
       "      <td>134.410297</td>\n",
       "      <td>143.710441</td>\n",
       "      <td>75.616677</td>\n",
       "      <td>46.355409</td>\n",
       "      <td>25.538840</td>\n",
       "      <td>10.601176</td>\n",
       "      <td>1.138521</td>\n",
       "    </tr>\n",
       "    <tr>\n",
       "      <th>min</th>\n",
       "      <td>36.732258</td>\n",
       "      <td>16.003236</td>\n",
       "      <td>8.436066</td>\n",
       "      <td>4.892734</td>\n",
       "      <td>5.363636</td>\n",
       "      <td>9.373239</td>\n",
       "      <td>19.993103</td>\n",
       "      <td>47.268966</td>\n",
       "      <td>112.255172</td>\n",
       "      <td>177.924138</td>\n",
       "      <td>...</td>\n",
       "      <td>180.366559</td>\n",
       "      <td>198.627010</td>\n",
       "      <td>292.466238</td>\n",
       "      <td>339.124138</td>\n",
       "      <td>292.248276</td>\n",
       "      <td>242.344828</td>\n",
       "      <td>183.806897</td>\n",
       "      <td>148.737931</td>\n",
       "      <td>123.351724</td>\n",
       "      <td>88.996785</td>\n",
       "    </tr>\n",
       "    <tr>\n",
       "      <th>25%</th>\n",
       "      <td>51.171607</td>\n",
       "      <td>29.980013</td>\n",
       "      <td>19.764112</td>\n",
       "      <td>10.053231</td>\n",
       "      <td>6.158934</td>\n",
       "      <td>13.162188</td>\n",
       "      <td>40.639182</td>\n",
       "      <td>108.124305</td>\n",
       "      <td>204.177670</td>\n",
       "      <td>194.016491</td>\n",
       "      <td>...</td>\n",
       "      <td>229.957678</td>\n",
       "      <td>242.396119</td>\n",
       "      <td>311.261747</td>\n",
       "      <td>386.645354</td>\n",
       "      <td>343.057590</td>\n",
       "      <td>269.079360</td>\n",
       "      <td>200.196008</td>\n",
       "      <td>157.767275</td>\n",
       "      <td>127.099806</td>\n",
       "      <td>89.399313</td>\n",
       "    </tr>\n",
       "    <tr>\n",
       "      <th>50%</th>\n",
       "      <td>65.610957</td>\n",
       "      <td>43.956791</td>\n",
       "      <td>31.092159</td>\n",
       "      <td>15.213728</td>\n",
       "      <td>6.954232</td>\n",
       "      <td>16.951136</td>\n",
       "      <td>61.285261</td>\n",
       "      <td>168.979644</td>\n",
       "      <td>296.100167</td>\n",
       "      <td>210.108843</td>\n",
       "      <td>...</td>\n",
       "      <td>279.548797</td>\n",
       "      <td>286.165229</td>\n",
       "      <td>330.057257</td>\n",
       "      <td>434.166571</td>\n",
       "      <td>393.866903</td>\n",
       "      <td>295.813893</td>\n",
       "      <td>216.585120</td>\n",
       "      <td>166.796618</td>\n",
       "      <td>130.847888</td>\n",
       "      <td>89.801841</td>\n",
       "    </tr>\n",
       "    <tr>\n",
       "      <th>75%</th>\n",
       "      <td>80.050306</td>\n",
       "      <td>57.933568</td>\n",
       "      <td>42.420205</td>\n",
       "      <td>20.374225</td>\n",
       "      <td>7.749530</td>\n",
       "      <td>20.740084</td>\n",
       "      <td>81.931340</td>\n",
       "      <td>229.834983</td>\n",
       "      <td>388.022664</td>\n",
       "      <td>226.201196</td>\n",
       "      <td>...</td>\n",
       "      <td>329.139916</td>\n",
       "      <td>329.934339</td>\n",
       "      <td>348.852766</td>\n",
       "      <td>481.687787</td>\n",
       "      <td>444.676217</td>\n",
       "      <td>322.548426</td>\n",
       "      <td>232.974232</td>\n",
       "      <td>175.825962</td>\n",
       "      <td>134.595970</td>\n",
       "      <td>90.204369</td>\n",
       "    </tr>\n",
       "    <tr>\n",
       "      <th>max</th>\n",
       "      <td>94.489655</td>\n",
       "      <td>71.910345</td>\n",
       "      <td>53.748252</td>\n",
       "      <td>25.534722</td>\n",
       "      <td>8.544828</td>\n",
       "      <td>24.529032</td>\n",
       "      <td>102.577419</td>\n",
       "      <td>290.690323</td>\n",
       "      <td>479.945161</td>\n",
       "      <td>242.293548</td>\n",
       "      <td>...</td>\n",
       "      <td>378.731034</td>\n",
       "      <td>373.703448</td>\n",
       "      <td>367.648276</td>\n",
       "      <td>529.209003</td>\n",
       "      <td>495.485531</td>\n",
       "      <td>349.282958</td>\n",
       "      <td>249.363344</td>\n",
       "      <td>184.855305</td>\n",
       "      <td>138.344051</td>\n",
       "      <td>90.606897</td>\n",
       "    </tr>\n",
       "  </tbody>\n",
       "</table>\n",
       "<p>8 rows × 24 columns</p>\n",
       "</div>"
      ],
      "text/plain": [
       "hour          0          1          2          3         4          5   \\\n",
       "count   2.000000   2.000000   2.000000   2.000000  2.000000   2.000000   \n",
       "mean   65.610957  43.956791  31.092159  15.213728  6.954232  16.951136   \n",
       "std    40.840647  39.532296  32.040554  14.596090  2.249442  10.716764   \n",
       "min    36.732258  16.003236   8.436066   4.892734  5.363636   9.373239   \n",
       "25%    51.171607  29.980013  19.764112  10.053231  6.158934  13.162188   \n",
       "50%    65.610957  43.956791  31.092159  15.213728  6.954232  16.951136   \n",
       "75%    80.050306  57.933568  42.420205  20.374225  7.749530  20.740084   \n",
       "max    94.489655  71.910345  53.748252  25.534722  8.544828  24.529032   \n",
       "\n",
       "hour           6           7           8           9   ...          14  \\\n",
       "count    2.000000    2.000000    2.000000    2.000000  ...    2.000000   \n",
       "mean    61.285261  168.979644  296.100167  210.108843  ...  279.548797   \n",
       "std     58.395930  172.124892  259.996085   45.516047  ...  140.264865   \n",
       "min     19.993103   47.268966  112.255172  177.924138  ...  180.366559   \n",
       "25%     40.639182  108.124305  204.177670  194.016491  ...  229.957678   \n",
       "50%     61.285261  168.979644  296.100167  210.108843  ...  279.548797   \n",
       "75%     81.931340  229.834983  388.022664  226.201196  ...  329.139916   \n",
       "max    102.577419  290.690323  479.945161  242.293548  ...  378.731034   \n",
       "\n",
       "hour           15          16          17          18          19          20  \\\n",
       "count    2.000000    2.000000    2.000000    2.000000    2.000000    2.000000   \n",
       "mean   286.165229  330.057257  434.166571  393.866903  295.813893  216.585120   \n",
       "std    123.797737   53.161729  134.410297  143.710441   75.616677   46.355409   \n",
       "min    198.627010  292.466238  339.124138  292.248276  242.344828  183.806897   \n",
       "25%    242.396119  311.261747  386.645354  343.057590  269.079360  200.196008   \n",
       "50%    286.165229  330.057257  434.166571  393.866903  295.813893  216.585120   \n",
       "75%    329.934339  348.852766  481.687787  444.676217  322.548426  232.974232   \n",
       "max    373.703448  367.648276  529.209003  495.485531  349.282958  249.363344   \n",
       "\n",
       "hour           21          22         23  \n",
       "count    2.000000    2.000000   2.000000  \n",
       "mean   166.796618  130.847888  89.801841  \n",
       "std     25.538840   10.601176   1.138521  \n",
       "min    148.737931  123.351724  88.996785  \n",
       "25%    157.767275  127.099806  89.399313  \n",
       "50%    166.796618  130.847888  89.801841  \n",
       "75%    175.825962  134.595970  90.204369  \n",
       "max    184.855305  138.344051  90.606897  \n",
       "\n",
       "[8 rows x 24 columns]"
      ]
     },
     "execution_count": 15,
     "metadata": {},
     "output_type": "execute_result"
    }
   ],
   "source": [
    "bikes.pivot_table(index=['workingday'],columns='hour',values='total', aggfunc=np.mean).describe()\n",
    "\n",
    "# Las horas que pressentan valores pico mas alto son las 8 con 479.945161 y las 17 con 529.209003"
   ]
  },
  {
   "cell_type": "markdown",
   "metadata": {},
   "source": [
    "### Punto 2 - Análisis de gráficos\n",
    "\n",
    "Primero ejecute la celda 2.1 y asegúrese de comprender el código y el resultado. Luego, en cada una de celdas 2.2 y 2.3 escriba un código que genere una gráfica de las rentas promedio por hora cuando la variable \"workingday\" es igual a 0 e igual a 1, respectivamente. Analice y escriba sus hallazgos."
   ]
  },
  {
   "cell_type": "code",
   "execution_count": 16,
   "metadata": {},
   "outputs": [
    {
     "data": {
      "text/plain": [
       "<AxesSubplot:xlabel='hour'>"
      ]
     },
     "execution_count": 16,
     "metadata": {},
     "output_type": "execute_result"
    },
    {
     "data": {
      "image/png": "[encoded data removed]",
      "text/plain": [
       "<Figure size 432x288 with 1 Axes>"
      ]
     },
     "metadata": {
      "needs_background": "light"
     },
     "output_type": "display_data"
    }
   ],
   "source": [
    "# Celda 2.1 - rentas promedio para cada valor de la variable \"hour\"\n",
    "bikes.groupby('hour').total.mean().plot()"
   ]
  },
  {
   "cell_type": "code",
   "execution_count": 22,
   "metadata": {},
   "outputs": [
    {
     "data": {
      "text/plain": [
       "<AxesSubplot:xlabel='hour'>"
      ]
     },
     "execution_count": 22,
     "metadata": {},
     "output_type": "execute_result"
    },
    {
     "data": {
      "image/png": "[encoded data removed]",
      "text/plain": [
       "<Figure size 432x288 with 1 Axes>"
      ]
     },
     "metadata": {
      "needs_background": "light"
     },
     "output_type": "display_data"
    }
   ],
   "source": [
    "# Celda 2.2 - \"workingday\"=0 escriba su código y hallazgos \n",
    "bikes[bikes['workingday']==0].groupby('hour').total.mean().plot()\n",
    "\n",
    "# Cuando \"workingday\"=0 que equivale a dias no habiles se evidencia un mayor flujo de rentas en el segmento comprendido entre las 11 horas y las 17 horas, \n",
    "# manteniendose en dicho segmento por encima de 300 rentas, y ya para los demas segmentos el numero de rentas baja dramaticamente, lo que nos dice del comportamiento\n",
    "# de los usuarios en sus dias libres, usando las motos en todo el transcurso de la tarde, mostrnado menos interes en la noche y madrugada"
   ]
  },
  {
   "cell_type": "code",
   "execution_count": 23,
   "metadata": {},
   "outputs": [
    {
     "data": {
      "text/plain": [
       "<AxesSubplot:xlabel='hour'>"
      ]
     },
     "execution_count": 23,
     "metadata": {},
     "output_type": "execute_result"
    },
    {
     "data": {
      "image/png": "[encoded data removed]",
      "text/plain": [
       "<Figure size 432x288 with 1 Axes>"
      ]
     },
     "metadata": {
      "needs_background": "light"
     },
     "output_type": "display_data"
    }
   ],
   "source": [
    "# Celda 2.3 - \"workingday\"=1 escriba su código y hallazgos \n",
    "bikes[bikes['workingday']==1].groupby('hour').total.mean().plot()\n",
    "# esta grafica es un reflejo del comportamiento de la grafica completa, pues to que se mantinen los dos picos maximos en la jornada de la manana llegando a su pico a las 8 horas\n",
    "# con un valor total de rentas de 479.945161, donde antes de esa hora sube dramaticamnte y despues baja dramaticamente, siendo asi las 8 horas el momento en que la mayoria de los\n",
    "# usuarios comienzan su jornada laboral, por otro lado, en las horas de la tarde se tiene que, se tiene un pico maxmimo a las 17 529.209003 y una leve caida a las 18 495.485531, \n",
    "# luego a las 19 horas baja hasta 349.282958 y despues de eso se da un bajon dramatico en la cantidad de ususarios, manteniendose en general debajo de 200 rentas durante el resto del dia"
   ]
  },
  {
   "cell_type": "markdown",
   "metadata": {},
   "source": [
    "### Punto 3 - Regresión lineal\n",
    "En la celda 3 ajuste un modelo de regresión lineal a todo el conjunto de datos, utilizando \"total\" como variable de respuesta y \"hour\" y \"workingday\" como las únicas variables predictoras. Luego, imprima los coeficientes e interprételos. ¿Cuáles son las limitaciones de la regresión lineal en este caso?"
   ]
  },
  {
   "cell_type": "code",
   "execution_count": 63,
   "metadata": {},
   "outputs": [
    {
     "name": "stdout",
     "output_type": "stream",
     "text": [
      "Coeficientes: \n",
      " [[10.55099422  6.770441  ]] \n",
      "\n",
      "Predicciones: \n",
      " [[291.86827302]\n",
      " [239.11330194]\n",
      " [239.11330194]\n",
      " ...\n",
      " [228.56230772]\n",
      " [312.97026145]\n",
      " [196.90932507]] \n",
      "\n",
      "Error cuadratico Medio: \n",
      " 27657.435595059633 \n",
      "\n"
     ]
    }
   ],
   "source": [
    "# Celda 3\n",
    "X_df=bikes[['hour','workingday']]\n",
    "y_df=bikes[['total']]\n",
    "\n",
    "XTotal=X_df.to_numpy()\n",
    "yTotal=y_df.to_numpy()\n",
    "\n",
    "XTrain, XTest, yTrain, yTest = train_test_split(XTotal, yTotal, test_size=0.33, random_state=0)\n",
    "\n",
    "regLin = LinearRegression()\n",
    "regLin.fit(XTrain,yTrain)\n",
    "regLin.score(XTrain,yTrain)\n",
    "prediccion_Lin=regLin.predict(XTest)\n",
    "MSE_Lin=np.average(np.square(prediccion_Lin-yTest))\n",
    "print('Coeficientes: \\n', regLin.coef_,'\\n')\n",
    "print('Predicciones: \\n', prediccion_Lin,'\\n')\n",
    "print('Error cuadratico Medio: \\n', MSE_Lin,'\\n')"
   ]
  },
  {
   "cell_type": "markdown",
   "metadata": {},
   "source": [
    "##### En este caso la regresion lineal puede presentar varias limitaciones, este modelo se ve afectado por los datos atipicos y los valores nulos."
   ]
  },
  {
   "cell_type": "markdown",
   "metadata": {},
   "source": [
    "### Punto 4 - Árbol de decisión manual\n",
    "En la celda 4 cree un árbol de decisiones para pronosticar la variable \"total\" iterando **manualmente** sobre las variables \"hour\" y  \"workingday\". El árbol debe tener al menos 6 nodos finales."
   ]
  },
  {
   "cell_type": "code",
   "execution_count": 80,
   "metadata": {},
   "outputs": [],
   "source": [
    "# Celda 4\n",
    "\n",
    "# Separación de variables predictoras (X) y variable de interes (y)\n",
    "X = bikes[['hour','workingday']]\n",
    "y = (bikes.total > 145).astype(int)\n",
    "\n",
    "# Definición de parámetros y criterios de parada\n",
    "max_depth = 6\n",
    "num_pct = 10\n",
    "max_features = None\n",
    "min_gain=0.001\n",
    "\n",
    "# Definición de la función que calcula el gini index\n",
    "def gini(y):\n",
    "    if y.shape[0] == 0:\n",
    "        return 0\n",
    "    else:\n",
    "        return 1 - (y.mean()**2 + (1 - y.mean())**2)\n",
    "\n",
    "# Definición de la función gini_imputiry para calular la ganancia de una variable predictora j dado el punto de corte k\n",
    "def gini_impurity(X_col, y, split):\n",
    "    \n",
    "    filter_l = X_col < split\n",
    "    y_l = y.loc[filter_l]\n",
    "    y_r = y.loc[~filter_l]\n",
    "    \n",
    "    n_l = y_l.shape[0]\n",
    "    n_r = y_r.shape[0]\n",
    "    \n",
    "    gini_y = gini(y)\n",
    "    gini_l = gini(y_l)\n",
    "    gini_r = gini(y_r)\n",
    "    \n",
    "    gini_impurity_ = gini_y - (n_l / (n_l + n_r) * gini_l + n_r / (n_l + n_r) * gini_r)\n",
    "    \n",
    "    return gini_impurity_\n",
    "\n",
    "# Definición de la función best_split para calcular cuál es la mejor variable y punto de cortepara hacer la bifurcación del árbol\n",
    "def best_split(X, y, num_pct=10):\n",
    "    \n",
    "    features = range(X.shape[1])\n",
    "    \n",
    "    best_split = [0, 0, 0]  # j, split, gain\n",
    "    \n",
    "    # Para todas las varibles \n",
    "    for j in features:\n",
    "        \n",
    "        splits = np.percentile(X.iloc[:, j], np.arange(0, 100, 100.0 / (num_pct+1)).tolist())\n",
    "        splits = np.unique(splits)[1:]\n",
    "        \n",
    "        # Para cada partición\n",
    "        for split in splits:\n",
    "            gain = gini_impurity(X.iloc[:, j], y, split)\n",
    "                        \n",
    "            if gain > best_split[2]:\n",
    "                best_split = [j, split, gain]\n",
    "    \n",
    "    return best_split\n",
    "\n",
    "\n",
    "# Definición de la función tree_grow para hacer un crecimiento recursivo del árbol\n",
    "def tree_grow(X, y, level=0, min_gain=0.001, max_depth=None, num_pct=10):\n",
    "    \n",
    "    # Si solo es una observación\n",
    "    if X.shape[0] == 1:\n",
    "        tree = dict(y_pred=y.iloc[:1].values[0], y_prob=0.5, level=level, split=-1, n_samples=1, gain=0)\n",
    "        return tree\n",
    "    \n",
    "    # Calcular la mejor división\n",
    "    j, split, gain = best_split(X, y, num_pct)\n",
    "    \n",
    "    # Guardar el árbol y estimar la predicción\n",
    "    y_pred = int(y.mean() >= 0.5) \n",
    "    y_prob = (y.sum() + 1.0) / (y.shape[0] + 2.0)  # Corrección Laplace \n",
    "    \n",
    "    tree = dict(y_pred=y_pred, y_prob=y_prob, level=level, split=-1, n_samples=X.shape[0], gain=gain)\n",
    "    # Revisar el criterio de parada \n",
    "    if gain < min_gain:\n",
    "        return tree\n",
    "    if max_depth is not None:\n",
    "        if level >= max_depth:\n",
    "            return tree   \n",
    "    \n",
    "    # Continuar creando la partición\n",
    "    filter_l = X.iloc[:, j] < split\n",
    "    X_l, y_l = X.loc[filter_l], y.loc[filter_l]\n",
    "    X_r, y_r = X.loc[~filter_l], y.loc[~filter_l]\n",
    "    tree['split'] = [j, split]\n",
    "\n",
    "    # Siguiente iteración para cada partición\n",
    "    \n",
    "    tree['sl'] = tree_grow(X_l, y_l, level + 1, min_gain=min_gain, max_depth=max_depth, num_pct=num_pct)\n",
    "    tree['sr'] = tree_grow(X_r, y_r, level + 1, min_gain=min_gain, max_depth=max_depth, num_pct=num_pct)\n",
    "    \n",
    "    return tree"
   ]
  },
  {
   "cell_type": "code",
   "execution_count": 87,
   "metadata": {},
   "outputs": [
    {
     "data": {
      "text/plain": [
       "array([ 0.,  2.,  4.,  7.,  9., 12., 14., 16., 19., 21.])"
      ]
     },
     "execution_count": 87,
     "metadata": {},
     "output_type": "execute_result"
    }
   ],
   "source": [
    "splits = np.percentile(X.iloc[:, 0], np.arange(0, 100, 100.0 / num_pct).tolist())\n",
    "splits = np.unique(splits)\n",
    "splits"
   ]
  },
  {
   "cell_type": "code",
   "execution_count": 88,
   "metadata": {},
   "outputs": [
    {
     "data": {
      "text/plain": [
       "(0, 8.0, 0.16178755449047394)"
      ]
     },
     "execution_count": 88,
     "metadata": {},
     "output_type": "execute_result"
    }
   ],
   "source": [
    "# Obtención de la variable 'j', su punto de corte 'split' y su ganancia 'gain'\n",
    "j, split, gain = best_split(X, y, 5)\n",
    "j, split, gain"
   ]
  },
  {
   "cell_type": "code",
   "execution_count": 90,
   "metadata": {},
   "outputs": [
    {
     "data": {
      "text/plain": [
       "(10886, 3594, 7292)"
      ]
     },
     "execution_count": 90,
     "metadata": {},
     "output_type": "execute_result"
    }
   ],
   "source": [
    "# División de las observaciones usando la mejor variable 'j' y su punto de corte 'split'\n",
    "filter_l = X.iloc[:, j] < split\n",
    "\n",
    "y_l = y.loc[filter_l]\n",
    "y_r = y.loc[~filter_l]\n",
    "\n",
    "y.shape[0], y_l.shape[0], y_r.shape[0]"
   ]
  },
  {
   "cell_type": "code",
   "execution_count": 91,
   "metadata": {},
   "outputs": [
    {
     "data": {
      "text/plain": [
       "(0.49917325004593055, 0.09404563160823595, 0.6988480526604498)"
      ]
     },
     "execution_count": 91,
     "metadata": {},
     "output_type": "execute_result"
    }
   ],
   "source": [
    "y.mean(), y_l.mean(), y_r.mean()"
   ]
  },
  {
   "cell_type": "code",
   "execution_count": 92,
   "metadata": {},
   "outputs": [
    {
     "data": {
      "text/plain": [
       "{'y_pred': 0,\n",
       " 'y_prob': 0.49917340191036,\n",
       " 'level': 0,\n",
       " 'split': [0, 8.0],\n",
       " 'n_samples': 10886,\n",
       " 'gain': 0.16178755449047394,\n",
       " 'sl': {'y_pred': 0,\n",
       "  'y_prob': 0.0942714126807564,\n",
       "  'level': 1,\n",
       "  'split': [0, 7.0],\n",
       "  'n_samples': 3594,\n",
       "  'gain': 0.06425451863089747,\n",
       "  'sl': {'y_pred': 0,\n",
       "   'y_prob': 0.026106335561922954,\n",
       "   'level': 2,\n",
       "   'split': [0, 6.0],\n",
       "   'n_samples': 3139,\n",
       "   'gain': 0.0027878761479700337,\n",
       "   'sl': {'y_pred': 0,\n",
       "    'y_prob': 0.010796723752792257,\n",
       "    'level': 3,\n",
       "    'split': -1,\n",
       "    'n_samples': 2684,\n",
       "    'gain': 0.0008089140964271449},\n",
       "   'sr': {'y_pred': 0,\n",
       "    'y_prob': 0.11816192560175055,\n",
       "    'level': 3,\n",
       "    'split': [1, 1.0],\n",
       "    'n_samples': 455,\n",
       "    'gain': 0.012693028347051799,\n",
       "    'sl': {'y_pred': 0,\n",
       "     'y_prob': 0.006802721088435374,\n",
       "     'level': 4,\n",
       "     'split': -1,\n",
       "     'n_samples': 145,\n",
       "     'gain': 0},\n",
       "    'sr': {'y_pred': 0,\n",
       "     'y_prob': 0.17307692307692307,\n",
       "     'level': 4,\n",
       "     'split': -1,\n",
       "     'n_samples': 310,\n",
       "     'gain': 0}}},\n",
       "  'sr': {'y_pred': 1,\n",
       "   'y_prob': 0.5645514223194749,\n",
       "   'level': 2,\n",
       "   'split': [1, 1.0],\n",
       "   'n_samples': 455,\n",
       "   'gain': 0.27001473681863364,\n",
       "   'sl': {'y_pred': 0,\n",
       "    'y_prob': 0.034013605442176874,\n",
       "    'level': 3,\n",
       "    'split': -1,\n",
       "    'n_samples': 145,\n",
       "    'gain': 0},\n",
       "   'sr': {'y_pred': 1,\n",
       "    'y_prob': 0.8141025641025641,\n",
       "    'level': 3,\n",
       "    'split': -1,\n",
       "    'n_samples': 310,\n",
       "    'gain': 0}}},\n",
       " 'sr': {'y_pred': 1,\n",
       "  'y_prob': 0.6987935289278859,\n",
       "  'level': 1,\n",
       "  'split': [0, 22.0],\n",
       "  'n_samples': 7292,\n",
       "  'gain': 0.048169131630109496,\n",
       "  'sl': {'y_pred': 1,\n",
       "   'y_prob': 0.7574428078972109,\n",
       "   'level': 2,\n",
       "   'split': [0, 13.0],\n",
       "   'n_samples': 6380,\n",
       "   'gain': 0.00450947453998729,\n",
       "   'sl': {'y_pred': 1,\n",
       "    'y_prob': 0.6935908691834943,\n",
       "    'level': 3,\n",
       "    'split': [0, 10.0],\n",
       "    'n_samples': 2276,\n",
       "    'gain': 0.005539635290121914,\n",
       "    'sl': {'y_pred': 1,\n",
       "     'y_prob': 0.7576754385964912,\n",
       "     'level': 4,\n",
       "     'split': [1, 1.0],\n",
       "     'n_samples': 910,\n",
       "     'gain': 0.10877924175837611,\n",
       "     'sl': {'y_pred': 0,\n",
       "      'y_prob': 0.4178082191780822,\n",
       "      'level': 5,\n",
       "      'split': [0, 9.0],\n",
       "      'n_samples': 290,\n",
       "      'gain': 0.07726516052318666,\n",
       "      'sl': {'y_pred': 0,\n",
       "       'y_prob': 0.22448979591836735,\n",
       "       'level': 6,\n",
       "       'split': -1,\n",
       "       'n_samples': 145,\n",
       "       'gain': 0},\n",
       "      'sr': {'y_pred': 1,\n",
       "       'y_prob': 0.6122448979591837,\n",
       "       'level': 6,\n",
       "       'split': -1,\n",
       "       'n_samples': 145,\n",
       "       'gain': 0}},\n",
       "     'sr': {'y_pred': 1,\n",
       "      'y_prob': 0.9163987138263665,\n",
       "      'level': 5,\n",
       "      'split': [0, 9.0],\n",
       "      'n_samples': 620,\n",
       "      'gain': 0.0063735691987513166,\n",
       "      'sl': {'y_pred': 1,\n",
       "       'y_prob': 0.9711538461538461,\n",
       "       'level': 6,\n",
       "       'split': -1,\n",
       "       'n_samples': 310,\n",
       "       'gain': 0},\n",
       "      'sr': {'y_pred': 1,\n",
       "       'y_prob': 0.8589743589743589,\n",
       "       'level': 6,\n",
       "       'split': -1,\n",
       "       'n_samples': 310,\n",
       "       'gain': 0}}},\n",
       "    'sr': {'y_pred': 1,\n",
       "     'y_prob': 0.6505847953216374,\n",
       "     'level': 4,\n",
       "     'split': [1, 1.0],\n",
       "     'n_samples': 1366,\n",
       "     'gain': 0.0417079950057877,\n",
       "     'sl': {'y_pred': 1,\n",
       "      'y_prob': 0.8604118993135011,\n",
       "      'level': 5,\n",
       "      'split': [0, 12.0],\n",
       "      'n_samples': 435,\n",
       "      'gain': 0.0023305588585019466,\n",
       "      'sl': {'y_pred': 1,\n",
       "       'y_prob': 0.8356164383561644,\n",
       "       'level': 6,\n",
       "       'split': -1,\n",
       "       'n_samples': 290,\n",
       "       'gain': 0.0011652794292507096},\n",
       "      'sr': {'y_pred': 1,\n",
       "       'y_prob': 0.9047619047619048,\n",
       "       'level': 6,\n",
       "       'split': -1,\n",
       "       'n_samples': 145,\n",
       "       'gain': 0}},\n",
       "     'sr': {'y_pred': 1,\n",
       "      'y_prob': 0.5519828510182208,\n",
       "      'level': 5,\n",
       "      'split': [0, 12.0],\n",
       "      'n_samples': 931,\n",
       "      'gain': 0.031718033044907834,\n",
       "      'sl': {'y_pred': 0,\n",
       "       'y_prob': 0.4630225080385852,\n",
       "       'level': 6,\n",
       "       'split': -1,\n",
       "       'n_samples': 620,\n",
       "       'gain': 0.014614984391259134},\n",
       "      'sr': {'y_pred': 1,\n",
       "       'y_prob': 0.7284345047923323,\n",
       "       'level': 6,\n",
       "       'split': -1,\n",
       "       'n_samples': 311,\n",
       "       'gain': 0}}}},\n",
       "   'sr': {'y_pred': 1,\n",
       "    'y_prob': 0.7927423283000488,\n",
       "    'level': 3,\n",
       "    'split': [0, 20.0],\n",
       "    'n_samples': 4104,\n",
       "    'gain': 0.00817918876680529,\n",
       "    'sl': {'y_pred': 1,\n",
       "     'y_prob': 0.8268628678772699,\n",
       "     'level': 4,\n",
       "     'split': [0, 16.0],\n",
       "     'n_samples': 3192,\n",
       "     'gain': 0.006700125417972713,\n",
       "     'sl': {'y_pred': 1,\n",
       "      'y_prob': 0.7598540145985402,\n",
       "      'level': 5,\n",
       "      'split': [1, 1.0],\n",
       "      'n_samples': 1368,\n",
       "      'gain': 0.021660235165263164,\n",
       "      'sl': {'y_pred': 1,\n",
       "       'y_prob': 0.9107551487414187,\n",
       "       'level': 6,\n",
       "       'split': -1,\n",
       "       'n_samples': 435,\n",
       "       'gain': 8.455542343765998e-05},\n",
       "      'sr': {'y_pred': 1,\n",
       "       'y_prob': 0.6887700534759358,\n",
       "       'level': 6,\n",
       "       'split': -1,\n",
       "       'n_samples': 933,\n",
       "       'gain': 0.0003319973026656431}},\n",
       "     'sr': {'y_pred': 1,\n",
       "      'y_prob': 0.8767798466593647,\n",
       "      'level': 5,\n",
       "      'split': [1, 1.0],\n",
       "      'n_samples': 1824,\n",
       "      'gain': 0.002624769001906585,\n",
       "      'sl': {'y_pred': 1,\n",
       "       'y_prob': 0.8230240549828178,\n",
       "       'level': 6,\n",
       "       'split': -1,\n",
       "       'n_samples': 580,\n",
       "       'gain': 0.005778834720570669},\n",
       "      'sr': {'y_pred': 1,\n",
       "       'y_prob': 0.9012841091492777,\n",
       "       'level': 6,\n",
       "       'split': -1,\n",
       "       'n_samples': 1244,\n",
       "       'gain': 0.005998352650062044}}},\n",
       "    'sr': {'y_pred': 1,\n",
       "     'y_prob': 0.6728665207877462,\n",
       "     'level': 4,\n",
       "     'split': [1, 1.0],\n",
       "     'n_samples': 912,\n",
       "     'gain': 0.013770308857901259,\n",
       "     'sl': {'y_pred': 1,\n",
       "      'y_prob': 0.5513698630136986,\n",
       "      'level': 5,\n",
       "      'split': [0, 21.0],\n",
       "      'n_samples': 290,\n",
       "      'gain': 0.0046611177170036155,\n",
       "      'sl': {'y_pred': 1,\n",
       "       'y_prob': 0.5986394557823129,\n",
       "       'level': 6,\n",
       "       'split': -1,\n",
       "       'n_samples': 145,\n",
       "       'gain': 0},\n",
       "      'sr': {'y_pred': 1,\n",
       "       'y_prob': 0.5034013605442177,\n",
       "       'level': 6,\n",
       "       'split': -1,\n",
       "       'n_samples': 145,\n",
       "       'gain': 0}},\n",
       "     'sr': {'y_pred': 1,\n",
       "      'y_prob': 0.7291666666666666,\n",
       "      'level': 5,\n",
       "      'split': [0, 21.0],\n",
       "      'n_samples': 622,\n",
       "      'gain': 0.007464769801801108,\n",
       "      'sl': {'y_pred': 1,\n",
       "       'y_prob': 0.7891373801916933,\n",
       "       'level': 6,\n",
       "       'split': -1,\n",
       "       'n_samples': 311,\n",
       "       'gain': 0},\n",
       "      'sr': {'y_pred': 1,\n",
       "       'y_prob': 0.6677316293929713,\n",
       "       'level': 6,\n",
       "       'split': -1,\n",
       "       'n_samples': 311,\n",
       "       'gain': 0}}}}},\n",
       "  'sr': {'y_pred': 0,\n",
       "   'y_prob': 0.2888402625820569,\n",
       "   'level': 2,\n",
       "   'split': [0, 23.0],\n",
       "   'n_samples': 912,\n",
       "   'gain': 0.038783568020929415,\n",
       "   'sl': {'y_pred': 0,\n",
       "    'y_prob': 0.4279475982532751,\n",
       "    'level': 3,\n",
       "    'split': [1, 1.0],\n",
       "    'n_samples': 456,\n",
       "    'gain': 0.004440919047784209,\n",
       "    'sl': {'y_pred': 0,\n",
       "     'y_prob': 0.36054421768707484,\n",
       "     'level': 4,\n",
       "     'split': -1,\n",
       "     'n_samples': 145,\n",
       "     'gain': 0},\n",
       "    'sr': {'y_pred': 0,\n",
       "     'y_prob': 0.46006389776357826,\n",
       "     'level': 4,\n",
       "     'split': -1,\n",
       "     'n_samples': 311,\n",
       "     'gain': 0}},\n",
       "   'sr': {'y_pred': 0,\n",
       "    'y_prob': 0.15065502183406113,\n",
       "    'level': 3,\n",
       "    'split': -1,\n",
       "    'n_samples': 456,\n",
       "    'gain': 0.0005058402235615378}}}}"
      ]
     },
     "execution_count": 92,
     "metadata": {},
     "output_type": "execute_result"
    }
   ],
   "source": [
    "\n",
    "tree=tree_grow(X, y, level=0, min_gain=0.001, max_depth=6, num_pct=10)\n",
    "tree"
   ]
  },
  {
   "cell_type": "code",
   "execution_count": 93,
   "metadata": {},
   "outputs": [],
   "source": [
    "# Definición de la función tree_predict para hacer predicciones según las variables 'X' y el árbol 'tree'\n",
    "\n",
    "def tree_predict(X, tree, proba=False):\n",
    "    \n",
    "    predicted = np.ones(X.shape[0])\n",
    "\n",
    "    # Revisar si es el nodo final\n",
    "    if tree['split'] == -1:\n",
    "        if not proba:\n",
    "            predicted = predicted * tree['y_pred']\n",
    "        else:\n",
    "            predicted = predicted * tree['y_prob']\n",
    "            \n",
    "    else:\n",
    "        \n",
    "        j, split = tree['split']\n",
    "        filter_l = (X.iloc[:, j] < split)\n",
    "        X_l = X.loc[filter_l]\n",
    "        X_r = X.loc[~filter_l]\n",
    "\n",
    "        if X_l.shape[0] == 0:  # Si el nodo izquierdo está vacio solo continua con el derecho \n",
    "            predicted[~filter_l] = tree_predict(X_r, tree['sr'], proba)\n",
    "        elif X_r.shape[0] == 0:  #  Si el nodo derecho está vacio solo continua con el izquierdo\n",
    "            predicted[filter_l] = tree_predict(X_l, tree['sl'], proba)\n",
    "        else:\n",
    "            predicted[filter_l] = tree_predict(X_l, tree['sl'], proba)\n",
    "            predicted[~filter_l] = tree_predict(X_r, tree['sr'], proba)\n",
    "\n",
    "    return predicted"
   ]
  },
  {
   "cell_type": "code",
   "execution_count": 105,
   "metadata": {},
   "outputs": [
    {
     "data": {
      "text/plain": [
       "array([0., 0., 0., ..., 1., 0., 0.])"
      ]
     },
     "execution_count": 105,
     "metadata": {},
     "output_type": "execute_result"
    }
   ],
   "source": [
    "# Ejecución de función tree_predict\n",
    "predicion_arbol=tree_predict(X, tree)\n",
    "predicion_arbol"
   ]
  },
  {
   "cell_type": "markdown",
   "metadata": {},
   "source": [
    "### Punto 5 - Árbol de decisión con librería\n",
    "En la celda 5 entrene un árbol de decisiones con la **librería sklearn**, usando las variables predictoras \"hour\" y \"workingday\" y calibre los parámetros que considere conveniente para obtener un mejor desempeño. Comente el desempeño del modelo con alguna métrica de desempeño de modelos de regresión y compare desempeño con el modelo del punto 3."
   ]
  },
  {
   "cell_type": "code",
   "execution_count": 113,
   "metadata": {},
   "outputs": [
    {
     "data": {
      "text/plain": [
       "DecisionTreeClassifier(max_depth=20, random_state=1)"
      ]
     },
     "execution_count": 113,
     "metadata": {},
     "output_type": "execute_result"
    }
   ],
   "source": [
    "# Celda 5\n",
    "\n",
    "# Lista de valores para calibrar el criterio de parada de máxima profundidad (max_depth)\n",
    "max_depth_range = range(1, 21)\n",
    "\n",
    "# Lista para guardar los valores del RMSE para cada valor de máxima profundidad (max_depth)\n",
    "accuracy_scores = []\n",
    "\n",
    "# Importación de modelos de sklearn \n",
    "from sklearn.model_selection import cross_val_score\n",
    "from sklearn.tree import DecisionTreeClassifier\n",
    "\n",
    "# Loop para obtener el desempeño del modelo de acuerdo con la máxima profundidad\n",
    "for depth in max_depth_range:\n",
    "    # Definición del árbol de decisión usando DecisionTreeClassifier de la libreria sklearn\n",
    "    clf = DecisionTreeClassifier(max_depth=depth, random_state=1)\n",
    "    accuracy_scores.append(cross_val_score(clf, X, y, cv=10, scoring='accuracy').mean())\n",
    "clf.fit(X, y)"
   ]
  },
  {
   "cell_type": "code",
   "execution_count": 116,
   "metadata": {},
   "outputs": [
    {
     "data": {
      "text/plain": [
       "[Text(0.41964285714285715, 0.9375, 'X[0] <= 6.5\\ngini = 0.5\\nsamples = 10886\\nvalue = [5452, 5434]'),\n",
       " Text(0.1326530612244898, 0.8125, 'X[0] <= 5.5\\ngini = 0.05\\nsamples = 3139\\nvalue = [3058, 81]'),\n",
       " Text(0.08163265306122448, 0.6875, 'X[0] <= 0.5\\ngini = 0.021\\nsamples = 2684\\nvalue = [2656, 28]'),\n",
       " Text(0.04081632653061224, 0.5625, 'X[1] <= 0.5\\ngini = 0.104\\nsamples = 455\\nvalue = [430, 25]'),\n",
       " Text(0.02040816326530612, 0.4375, 'gini = 0.267\\nsamples = 145\\nvalue = [122, 23]'),\n",
       " Text(0.061224489795918366, 0.4375, 'gini = 0.013\\nsamples = 310\\nvalue = [308, 2]'),\n",
       " Text(0.12244897959183673, 0.5625, 'X[0] <= 1.5\\ngini = 0.003\\nsamples = 2229\\nvalue = [2226, 3]'),\n",
       " Text(0.10204081632653061, 0.4375, 'X[1] <= 0.5\\ngini = 0.013\\nsamples = 454\\nvalue = [451, 3]'),\n",
       " Text(0.08163265306122448, 0.3125, 'gini = 0.041\\nsamples = 145\\nvalue = [142, 3]'),\n",
       " Text(0.12244897959183673, 0.3125, 'gini = 0.0\\nsamples = 309\\nvalue = [309, 0]'),\n",
       " Text(0.14285714285714285, 0.4375, 'gini = 0.0\\nsamples = 1775\\nvalue = [1775, 0]'),\n",
       " Text(0.1836734693877551, 0.6875, 'X[1] <= 0.5\\ngini = 0.206\\nsamples = 455\\nvalue = [402, 53]'),\n",
       " Text(0.16326530612244897, 0.5625, 'gini = 0.0\\nsamples = 145\\nvalue = [145, 0]'),\n",
       " Text(0.20408163265306123, 0.5625, 'gini = 0.283\\nsamples = 310\\nvalue = [257, 53]'),\n",
       " Text(0.7066326530612245, 0.8125, 'X[0] <= 21.5\\ngini = 0.427\\nsamples = 7747\\nvalue = [2394, 5353]'),\n",
       " Text(0.49489795918367346, 0.6875, 'X[0] <= 11.5\\ngini = 0.38\\nsamples = 6835\\nvalue = [1745, 5090]'),\n",
       " Text(0.2857142857142857, 0.5625, 'X[1] <= 0.5\\ngini = 0.455\\nsamples = 2275\\nvalue = [798, 1477]'),\n",
       " Text(0.20408163265306123, 0.4375, 'X[0] <= 8.5\\ngini = 0.5\\nsamples = 725\\nvalue = [357, 368]'),\n",
       " Text(0.16326530612244897, 0.3125, 'X[0] <= 7.5\\ngini = 0.217\\nsamples = 290\\nvalue = [254, 36]'),\n",
       " Text(0.14285714285714285, 0.1875, 'gini = 0.054\\nsamples = 145\\nvalue = [141, 4]'),\n",
       " Text(0.1836734693877551, 0.1875, 'gini = 0.344\\nsamples = 145\\nvalue = [113, 32]'),\n",
       " Text(0.24489795918367346, 0.3125, 'X[0] <= 9.5\\ngini = 0.361\\nsamples = 435\\nvalue = [103, 332]'),\n",
       " Text(0.22448979591836735, 0.1875, 'gini = 0.474\\nsamples = 145\\nvalue = [56, 89]'),\n",
       " Text(0.2653061224489796, 0.1875, 'X[0] <= 10.5\\ngini = 0.272\\nsamples = 290\\nvalue = [47, 243]'),\n",
       " Text(0.24489795918367346, 0.0625, '\\n  (...)  \\n'),\n",
       " Text(0.2857142857142857, 0.0625, '\\n  (...)  \\n'),\n",
       " Text(0.3673469387755102, 0.4375, 'X[0] <= 9.5\\ngini = 0.407\\nsamples = 1550\\nvalue = [441, 1109]'),\n",
       " Text(0.32653061224489793, 0.3125, 'X[0] <= 7.5\\ngini = 0.205\\nsamples = 930\\nvalue = [108, 822]'),\n",
       " Text(0.30612244897959184, 0.1875, 'gini = 0.3\\nsamples = 310\\nvalue = [57, 253]'),\n",
       " Text(0.3469387755102041, 0.1875, 'X[0] <= 8.5\\ngini = 0.151\\nsamples = 620\\nvalue = [51, 569]'),\n",
       " Text(0.32653061224489793, 0.0625, '\\n  (...)  \\n'),\n",
       " Text(0.3673469387755102, 0.0625, '\\n  (...)  \\n'),\n",
       " Text(0.40816326530612246, 0.3125, 'X[0] <= 10.5\\ngini = 0.497\\nsamples = 620\\nvalue = [333, 287]'),\n",
       " Text(0.3877551020408163, 0.1875, 'gini = 0.47\\nsamples = 310\\nvalue = [193, 117]'),\n",
       " Text(0.42857142857142855, 0.1875, 'gini = 0.495\\nsamples = 310\\nvalue = [140, 170]'),\n",
       " Text(0.7040816326530612, 0.5625, 'X[0] <= 19.5\\ngini = 0.329\\nsamples = 4560\\nvalue = [947, 3613]'),\n",
       " Text(0.5918367346938775, 0.4375, 'X[0] <= 15.5\\ngini = 0.293\\nsamples = 3648\\nvalue = [649, 2999]'),\n",
       " Text(0.5102040816326531, 0.3125, 'X[1] <= 0.5\\ngini = 0.357\\nsamples = 1824\\nvalue = [425, 1399]'),\n",
       " Text(0.46938775510204084, 0.1875, 'X[0] <= 13.5\\ngini = 0.16\\nsamples = 580\\nvalue = [51, 529]'),\n",
       " Text(0.4489795918367347, 0.0625, '\\n  (...)  \\n'),\n",
       " Text(0.4897959183673469, 0.0625, '\\n  (...)  \\n'),\n",
       " Text(0.5510204081632653, 0.1875, 'X[0] <= 13.5\\ngini = 0.421\\nsamples = 1244\\nvalue = [374, 870]'),\n",
       " Text(0.5306122448979592, 0.0625, '\\n  (...)  \\n'),\n",
       " Text(0.5714285714285714, 0.0625, '\\n  (...)  \\n'),\n",
       " Text(0.673469387755102, 0.3125, 'X[1] <= 0.5\\ngini = 0.215\\nsamples = 1824\\nvalue = [224, 1600]'),\n",
       " Text(0.6326530612244898, 0.1875, 'X[0] <= 18.5\\ngini = 0.29\\nsamples = 580\\nvalue = [102, 478]'),\n",
       " Text(0.6122448979591837, 0.0625, '\\n  (...)  \\n'),\n",
       " Text(0.6530612244897959, 0.0625, '\\n  (...)  \\n'),\n",
       " Text(0.7142857142857143, 0.1875, 'X[0] <= 16.5\\ngini = 0.177\\nsamples = 1244\\nvalue = [122, 1122]'),\n",
       " Text(0.6938775510204082, 0.0625, '\\n  (...)  \\n'),\n",
       " Text(0.7346938775510204, 0.0625, '\\n  (...)  \\n'),\n",
       " Text(0.8163265306122449, 0.4375, 'X[1] <= 0.5\\ngini = 0.44\\nsamples = 912\\nvalue = [298, 614]'),\n",
       " Text(0.7755102040816326, 0.3125, 'X[0] <= 20.5\\ngini = 0.495\\nsamples = 290\\nvalue = [130, 160]'),\n",
       " Text(0.7551020408163265, 0.1875, 'gini = 0.48\\nsamples = 145\\nvalue = [58, 87]'),\n",
       " Text(0.7959183673469388, 0.1875, 'gini = 0.5\\nsamples = 145\\nvalue = [72, 73]'),\n",
       " Text(0.8571428571428571, 0.3125, 'X[0] <= 20.5\\ngini = 0.394\\nsamples = 622\\nvalue = [168, 454]'),\n",
       " Text(0.8367346938775511, 0.1875, 'gini = 0.331\\nsamples = 311\\nvalue = [65, 246]'),\n",
       " Text(0.8775510204081632, 0.1875, 'gini = 0.443\\nsamples = 311\\nvalue = [103, 208]'),\n",
       " Text(0.9183673469387755, 0.6875, 'X[0] <= 22.5\\ngini = 0.41\\nsamples = 912\\nvalue = [649, 263]'),\n",
       " Text(0.8775510204081632, 0.5625, 'X[1] <= 0.5\\ngini = 0.49\\nsamples = 456\\nvalue = [261, 195]'),\n",
       " Text(0.8571428571428571, 0.4375, 'gini = 0.46\\nsamples = 145\\nvalue = [93, 52]'),\n",
       " Text(0.8979591836734694, 0.4375, 'gini = 0.497\\nsamples = 311\\nvalue = [168, 143]'),\n",
       " Text(0.9591836734693877, 0.5625, 'X[1] <= 0.5\\ngini = 0.254\\nsamples = 456\\nvalue = [388, 68]'),\n",
       " Text(0.9387755102040817, 0.4375, 'gini = 0.285\\nsamples = 145\\nvalue = [120, 25]'),\n",
       " Text(0.9795918367346939, 0.4375, 'gini = 0.238\\nsamples = 311\\nvalue = [268, 43]')]"
      ]
     },
     "execution_count": 116,
     "metadata": {},
     "output_type": "execute_result"
    },
    {
     "data": {
      "image/png": "[encoded data removed]",
      "text/plain": [
       "<Figure size 432x288 with 1 Axes>"
      ]
     },
     "metadata": {
      "needs_background": "light"
     },
     "output_type": "display_data"
    },
    {
     "data": {
      "image/png": "[encoded data removed]",
      "text/plain": [
       "<Figure size 2160x1080 with 1 Axes>"
      ]
     },
     "metadata": {
      "needs_background": "light"
     },
     "output_type": "display_data"
    }
   ],
   "source": [
    "# Gráfica max_depth versus RMSE (error del modelo)\n",
    "plt.plot(max_depth_range, accuracy_scores)\n",
    "plt.xlabel('max_depth')\n",
    "plt.ylabel('Accuracy')\n",
    "plt.figure(figsize=(30, 15)) \n",
    "plot_tree(clf,max_depth=6)"
   ]
  },
  {
   "cell_type": "code",
   "execution_count": 117,
   "metadata": {},
   "outputs": [
    {
     "data": {
      "text/plain": [
       "(0.8334654195700318, 20)"
      ]
     },
     "execution_count": 117,
     "metadata": {},
     "output_type": "execute_result"
    }
   ],
   "source": [
    "# Mejor accuracy (desempeño del modelo) y su correspondiente max_depth\n",
    "sorted(zip(accuracy_scores, max_depth_range))[::-1][0]"
   ]
  },
  {
   "cell_type": "code",
   "execution_count": 118,
   "metadata": {},
   "outputs": [
    {
     "data": {
      "text/plain": [
       "DecisionTreeClassifier(max_depth=20, random_state=1)"
      ]
     },
     "execution_count": 118,
     "metadata": {},
     "output_type": "execute_result"
    }
   ],
   "source": [
    "# max_depth=20 fue el mejor, se ajusta un árbol usando este valor \n",
    "clf = DecisionTreeClassifier(max_depth=20, random_state=1)\n",
    "clf.fit(X, y)"
   ]
  },
  {
   "cell_type": "code",
   "execution_count": 120,
   "metadata": {},
   "outputs": [
    {
     "data": {
      "text/html": [
       "<div>\n",
       "<style scoped>\n",
       "    .dataframe tbody tr th:only-of-type {\n",
       "        vertical-align: middle;\n",
       "    }\n",
       "\n",
       "    .dataframe tbody tr th {\n",
       "        vertical-align: top;\n",
       "    }\n",
       "\n",
       "    .dataframe thead th {\n",
       "        text-align: right;\n",
       "    }\n",
       "</style>\n",
       "<table border=\"1\" class=\"dataframe\">\n",
       "  <thead>\n",
       "    <tr style=\"text-align: right;\">\n",
       "      <th></th>\n",
       "      <th>feature</th>\n",
       "      <th>importance</th>\n",
       "    </tr>\n",
       "  </thead>\n",
       "  <tbody>\n",
       "    <tr>\n",
       "      <th>1</th>\n",
       "      <td>workingday</td>\n",
       "      <td>0.037248</td>\n",
       "    </tr>\n",
       "    <tr>\n",
       "      <th>0</th>\n",
       "      <td>hour</td>\n",
       "      <td>0.962752</td>\n",
       "    </tr>\n",
       "  </tbody>\n",
       "</table>\n",
       "</div>"
      ],
      "text/plain": [
       "      feature  importance\n",
       "1  workingday    0.037248\n",
       "0        hour    0.962752"
      ]
     },
     "execution_count": 120,
     "metadata": {},
     "output_type": "execute_result"
    }
   ],
   "source": [
    "# Uso de la función .feature_importances_ para obtener la importancia de cada variable\n",
    "pd.DataFrame({'feature':['hour','workingday'], 'importance':clf.feature_importances_}).sort_values('importance')"
   ]
  },
  {
   "cell_type": "code",
   "execution_count": 121,
   "metadata": {},
   "outputs": [
    {
     "data": {
      "text/plain": [
       "count    10.000000\n",
       "mean      0.833465\n",
       "std       0.086944\n",
       "min       0.700643\n",
       "25%       0.770495\n",
       "50%       0.847963\n",
       "75%       0.900342\n",
       "max       0.941230\n",
       "dtype: float64"
      ]
     },
     "execution_count": 121,
     "metadata": {},
     "output_type": "execute_result"
    }
   ],
   "source": [
    "# Impresión de resultados de desemepeño del árbol de decisión\n",
    "pd.Series(cross_val_score(clf, X, y, cv=10)).describe()"
   ]
  },
  {
   "cell_type": "markdown",
   "metadata": {},
   "source": [
    "## Parte B - Métodos de ensamblajes\n",
    "En esta parte del taller se usará el conjunto de datos de Popularidad de Noticias Online. El objetivo es predecir si la notica es popular o no, la populridad esta dada por la cantidad de reacciones en redes sociales. Para más detalles puede visitar el sigueinte enlace: [datos](https://archive.ics.uci.edu/ml/datasets/online+news+popularity)."
   ]
  },
  {
   "cell_type": "markdown",
   "metadata": {},
   "source": [
    "### Datos popularidad de noticias"
   ]
  },
  {
   "cell_type": "code",
   "execution_count": 122,
   "metadata": {},
   "outputs": [
    {
     "data": {
      "text/html": [
       "<div>\n",
       "<style scoped>\n",
       "    .dataframe tbody tr th:only-of-type {\n",
       "        vertical-align: middle;\n",
       "    }\n",
       "\n",
       "    .dataframe tbody tr th {\n",
       "        vertical-align: top;\n",
       "    }\n",
       "\n",
       "    .dataframe thead th {\n",
       "        text-align: right;\n",
       "    }\n",
       "</style>\n",
       "<table border=\"1\" class=\"dataframe\">\n",
       "  <thead>\n",
       "    <tr style=\"text-align: right;\">\n",
       "      <th></th>\n",
       "      <th>url</th>\n",
       "      <th>timedelta</th>\n",
       "      <th>n_tokens_title</th>\n",
       "      <th>n_tokens_content</th>\n",
       "      <th>n_unique_tokens</th>\n",
       "      <th>n_non_stop_words</th>\n",
       "      <th>n_non_stop_unique_tokens</th>\n",
       "      <th>num_hrefs</th>\n",
       "      <th>num_self_hrefs</th>\n",
       "      <th>num_imgs</th>\n",
       "      <th>...</th>\n",
       "      <th>min_positive_polarity</th>\n",
       "      <th>max_positive_polarity</th>\n",
       "      <th>avg_negative_polarity</th>\n",
       "      <th>min_negative_polarity</th>\n",
       "      <th>max_negative_polarity</th>\n",
       "      <th>title_subjectivity</th>\n",
       "      <th>title_sentiment_polarity</th>\n",
       "      <th>abs_title_subjectivity</th>\n",
       "      <th>abs_title_sentiment_polarity</th>\n",
       "      <th>Popular</th>\n",
       "    </tr>\n",
       "  </thead>\n",
       "  <tbody>\n",
       "    <tr>\n",
       "      <th>0</th>\n",
       "      <td>http://mashable.com/2014/12/10/cia-torture-rep...</td>\n",
       "      <td>28.0</td>\n",
       "      <td>9.0</td>\n",
       "      <td>188.0</td>\n",
       "      <td>0.732620</td>\n",
       "      <td>1.0</td>\n",
       "      <td>0.844262</td>\n",
       "      <td>5.0</td>\n",
       "      <td>1.0</td>\n",
       "      <td>1.0</td>\n",
       "      <td>...</td>\n",
       "      <td>0.200000</td>\n",
       "      <td>0.80</td>\n",
       "      <td>-0.487500</td>\n",
       "      <td>-0.60</td>\n",
       "      <td>-0.250000</td>\n",
       "      <td>0.9</td>\n",
       "      <td>0.8</td>\n",
       "      <td>0.4</td>\n",
       "      <td>0.8</td>\n",
       "      <td>1</td>\n",
       "    </tr>\n",
       "    <tr>\n",
       "      <th>1</th>\n",
       "      <td>http://mashable.com/2013/10/18/bitlock-kicksta...</td>\n",
       "      <td>447.0</td>\n",
       "      <td>7.0</td>\n",
       "      <td>297.0</td>\n",
       "      <td>0.653199</td>\n",
       "      <td>1.0</td>\n",
       "      <td>0.815789</td>\n",
       "      <td>9.0</td>\n",
       "      <td>4.0</td>\n",
       "      <td>1.0</td>\n",
       "      <td>...</td>\n",
       "      <td>0.160000</td>\n",
       "      <td>0.50</td>\n",
       "      <td>-0.135340</td>\n",
       "      <td>-0.40</td>\n",
       "      <td>-0.050000</td>\n",
       "      <td>0.1</td>\n",
       "      <td>-0.1</td>\n",
       "      <td>0.4</td>\n",
       "      <td>0.1</td>\n",
       "      <td>0</td>\n",
       "    </tr>\n",
       "    <tr>\n",
       "      <th>2</th>\n",
       "      <td>http://mashable.com/2013/07/24/google-glass-po...</td>\n",
       "      <td>533.0</td>\n",
       "      <td>11.0</td>\n",
       "      <td>181.0</td>\n",
       "      <td>0.660377</td>\n",
       "      <td>1.0</td>\n",
       "      <td>0.775701</td>\n",
       "      <td>4.0</td>\n",
       "      <td>3.0</td>\n",
       "      <td>1.0</td>\n",
       "      <td>...</td>\n",
       "      <td>0.136364</td>\n",
       "      <td>1.00</td>\n",
       "      <td>0.000000</td>\n",
       "      <td>0.00</td>\n",
       "      <td>0.000000</td>\n",
       "      <td>0.3</td>\n",
       "      <td>1.0</td>\n",
       "      <td>0.2</td>\n",
       "      <td>1.0</td>\n",
       "      <td>0</td>\n",
       "    </tr>\n",
       "    <tr>\n",
       "      <th>3</th>\n",
       "      <td>http://mashable.com/2013/11/21/these-are-the-m...</td>\n",
       "      <td>413.0</td>\n",
       "      <td>12.0</td>\n",
       "      <td>781.0</td>\n",
       "      <td>0.497409</td>\n",
       "      <td>1.0</td>\n",
       "      <td>0.677350</td>\n",
       "      <td>10.0</td>\n",
       "      <td>3.0</td>\n",
       "      <td>1.0</td>\n",
       "      <td>...</td>\n",
       "      <td>0.100000</td>\n",
       "      <td>1.00</td>\n",
       "      <td>-0.195701</td>\n",
       "      <td>-0.40</td>\n",
       "      <td>-0.071429</td>\n",
       "      <td>0.0</td>\n",
       "      <td>0.0</td>\n",
       "      <td>0.5</td>\n",
       "      <td>0.0</td>\n",
       "      <td>0</td>\n",
       "    </tr>\n",
       "    <tr>\n",
       "      <th>4</th>\n",
       "      <td>http://mashable.com/2014/02/11/parking-ticket-...</td>\n",
       "      <td>331.0</td>\n",
       "      <td>8.0</td>\n",
       "      <td>177.0</td>\n",
       "      <td>0.685714</td>\n",
       "      <td>1.0</td>\n",
       "      <td>0.830357</td>\n",
       "      <td>3.0</td>\n",
       "      <td>2.0</td>\n",
       "      <td>1.0</td>\n",
       "      <td>...</td>\n",
       "      <td>0.100000</td>\n",
       "      <td>0.55</td>\n",
       "      <td>-0.175000</td>\n",
       "      <td>-0.25</td>\n",
       "      <td>-0.100000</td>\n",
       "      <td>0.0</td>\n",
       "      <td>0.0</td>\n",
       "      <td>0.5</td>\n",
       "      <td>0.0</td>\n",
       "      <td>0</td>\n",
       "    </tr>\n",
       "  </tbody>\n",
       "</table>\n",
       "<p>5 rows × 61 columns</p>\n",
       "</div>"
      ],
      "text/plain": [
       "                                                 url  timedelta  \\\n",
       "0  http://mashable.com/2014/12/10/cia-torture-rep...       28.0   \n",
       "1  http://mashable.com/2013/10/18/bitlock-kicksta...      447.0   \n",
       "2  http://mashable.com/2013/07/24/google-glass-po...      533.0   \n",
       "3  http://mashable.com/2013/11/21/these-are-the-m...      413.0   \n",
       "4  http://mashable.com/2014/02/11/parking-ticket-...      331.0   \n",
       "\n",
       "   n_tokens_title  n_tokens_content  n_unique_tokens  n_non_stop_words  \\\n",
       "0             9.0             188.0         0.732620               1.0   \n",
       "1             7.0             297.0         0.653199               1.0   \n",
       "2            11.0             181.0         0.660377               1.0   \n",
       "3            12.0             781.0         0.497409               1.0   \n",
       "4             8.0             177.0         0.685714               1.0   \n",
       "\n",
       "   n_non_stop_unique_tokens  num_hrefs  num_self_hrefs  num_imgs  ...  \\\n",
       "0                  0.844262        5.0             1.0       1.0  ...   \n",
       "1                  0.815789        9.0             4.0       1.0  ...   \n",
       "2                  0.775701        4.0             3.0       1.0  ...   \n",
       "3                  0.677350       10.0             3.0       1.0  ...   \n",
       "4                  0.830357        3.0             2.0       1.0  ...   \n",
       "\n",
       "   min_positive_polarity  max_positive_polarity  avg_negative_polarity  \\\n",
       "0               0.200000                   0.80              -0.487500   \n",
       "1               0.160000                   0.50              -0.135340   \n",
       "2               0.136364                   1.00               0.000000   \n",
       "3               0.100000                   1.00              -0.195701   \n",
       "4               0.100000                   0.55              -0.175000   \n",
       "\n",
       "   min_negative_polarity  max_negative_polarity  title_subjectivity  \\\n",
       "0                  -0.60              -0.250000                 0.9   \n",
       "1                  -0.40              -0.050000                 0.1   \n",
       "2                   0.00               0.000000                 0.3   \n",
       "3                  -0.40              -0.071429                 0.0   \n",
       "4                  -0.25              -0.100000                 0.0   \n",
       "\n",
       "   title_sentiment_polarity  abs_title_subjectivity  \\\n",
       "0                       0.8                     0.4   \n",
       "1                      -0.1                     0.4   \n",
       "2                       1.0                     0.2   \n",
       "3                       0.0                     0.5   \n",
       "4                       0.0                     0.5   \n",
       "\n",
       "   abs_title_sentiment_polarity  Popular  \n",
       "0                           0.8        1  \n",
       "1                           0.1        0  \n",
       "2                           1.0        0  \n",
       "3                           0.0        0  \n",
       "4                           0.0        0  \n",
       "\n",
       "[5 rows x 61 columns]"
      ]
     },
     "execution_count": 122,
     "metadata": {},
     "output_type": "execute_result"
    }
   ],
   "source": [
    "# Lectura de la información de archivo .csv\n",
    "df = pd.read_csv('https://raw.githubusercontent.com/albahnsen/MIAD_ML_and_NLP/main/datasets/mashable.csv', index_col=0)\n",
    "df.head()"
   ]
  },
  {
   "cell_type": "code",
   "execution_count": 123,
   "metadata": {},
   "outputs": [
    {
     "data": {
      "text/plain": [
       "0.5"
      ]
     },
     "execution_count": 123,
     "metadata": {},
     "output_type": "execute_result"
    }
   ],
   "source": [
    "# Definición variable de interes y variables predictoras\n",
    "X = df.drop(['url', 'Popular'], axis=1)\n",
    "y = df['Popular']\n",
    "y.mean()"
   ]
  },
  {
   "cell_type": "code",
   "execution_count": 131,
   "metadata": {},
   "outputs": [],
   "source": [
    "# División de la muestra en set de entrenamiento y prueba\n",
    "from sklearn.model_selection import train_test_split\n",
    "X_train, X_test, y_train, y_test = train_test_split(X, y, random_state=1)"
   ]
  },
  {
   "cell_type": "markdown",
   "metadata": {},
   "source": [
    "### Punto 6 - Árbol de decisión y regresión logística\n",
    "En la celda 6 construya un árbol de decisión y una regresión logística. Para el árbol calibre al menos un parámetro y evalúe el desempeño de cada modelo usando las métricas de Accuracy y F1-Score."
   ]
  },
  {
   "cell_type": "code",
   "execution_count": 154,
   "metadata": {},
   "outputs": [
    {
     "name": "stdout",
     "output_type": "stream",
     "text": [
      "La matriz de predicciones para el arbol de decision es: \n",
      "\n",
      "[[402 342]\n",
      " [347 409]]\n",
      "Precision de la prediccion el arbol de decision es: \n",
      " 0.5446071904127829\n",
      "F1_Score: \n",
      " 0.5428002654280026 \n",
      " Accuracy: \n",
      " 0.5406666666666666\n"
     ]
    },
    {
     "data": {
      "image/png": "[encoded data removed]",
      "text/plain": [
       "<Figure size 432x288 with 1 Axes>"
      ]
     },
     "metadata": {
      "needs_background": "light"
     },
     "output_type": "display_data"
    },
    {
     "name": "stdout",
     "output_type": "stream",
     "text": [
      "La matriz de predicciones para la regresion logistica es: \n",
      "\n",
      "[[483 261]\n",
      " [309 447]]\n",
      "Precision de la prediccion la regresion logistica es: \n",
      " 0.6313559322033898\n",
      "F1_Score: \n",
      " 0.610655737704918 \n",
      " Accuracy: \n",
      " 0.62\n"
     ]
    },
    {
     "data": {
      "image/png": "[encoded data removed]",
      "text/plain": [
       "<Figure size 432x288 with 1 Axes>"
      ]
     },
     "metadata": {
      "needs_background": "light"
     },
     "output_type": "display_data"
    }
   ],
   "source": [
    "# Celda 6\n",
    "\n",
    "# Arbol de decision\n",
    "# Definición del modelo usando DecisionTreeRegressor de sklearn\n",
    "treeclf = DecisionTreeClassifier(max_depth=None, random_state=123)\n",
    "treeclf.fit(X_train, y_train)\n",
    "\n",
    "prediccionestreeclf=treeclf.predict(X_test)\n",
    "prediccionesProbtreeclf=treeclf.predict_proba(X_test)\n",
    "\n",
    "# Matriz de prediccion correspondiente a la prediccion en test\n",
    "pred_matrix_treeclf=confusion_matrix(y_true=y_test, y_pred=prediccionestreeclf)\n",
    "print('La matriz de predicciones para el arbol de decision es: \\n')\n",
    "print(pred_matrix_treeclf)\n",
    "\n",
    "# Precision: la precision de la prediccion test es:\n",
    "precisiontreeclf=precision_score(y_true=y_test, y_pred=prediccionestreeclf)\n",
    "print('Precision de la prediccion el arbol de decision es: \\n', precisiontreeclf)\n",
    "\n",
    "# Metricas\n",
    "print('F1_Score: \\n', metrics.f1_score(prediccionestreeclf, y_test), '\\n Accuracy: \\n',metrics.accuracy_score(prediccionestreeclf, y_test))\n",
    "\n",
    "# La curva ROC y AUC son:\n",
    "fpr, tpr, thresholds = metrics.roc_curve(y_test, prediccionesProbtreeclf[:,1], pos_label=1)\n",
    "AUCtreeclf=metrics.auc(fpr, tpr)\n",
    "\n",
    "plt.title('Receiver Operating Characteristic')\n",
    "plt.plot(fpr, tpr, 'b', label = 'AUC = %0.2f' % AUCtreeclf)\n",
    "plt.legend(loc = 'lower right')\n",
    "plt.plot([0, 1], [0, 1],'r--')\n",
    "plt.xlim([-0.01, 1])\n",
    "plt.ylim([0, 1.05])\n",
    "plt.ylabel('True Positive Rate')\n",
    "plt.xlabel('False Positive Rate')\n",
    "plt.show()\n",
    "\n",
    "\n",
    "\n",
    "# Regresion logistica\n",
    "\n",
    "RegLog= LogisticRegression(random_state=0,max_iter=10000)\n",
    "RegLog.fit(X_train,y_train)\n",
    "\n",
    "prediccionesRegLog=RegLog.predict(X_test)\n",
    "prediccionesProbRegLog=RegLog.predict_proba(X_test)\n",
    "\n",
    "\n",
    "# Matriz de prediccion correspondiente a la prediccion en test\n",
    "pred_matrix=confusion_matrix(y_true=y_test, y_pred=prediccionesRegLog)\n",
    "print('La matriz de predicciones para la regresion logistica es: \\n')\n",
    "print(pred_matrix)\n",
    "\n",
    "\n",
    "# Precision: la precision de la prediccion test es:\n",
    "precisionRegLog=precision_score(y_true=y_test, y_pred=prediccionesRegLog)\n",
    "print('Precision de la prediccion la regresion logistica es: \\n', precisionRegLog)\n",
    "\n",
    "# Metricas\n",
    "print('F1_Score: \\n', metrics.f1_score(prediccionesRegLog, y_test), '\\n Accuracy: \\n',metrics.accuracy_score(prediccionesRegLog, y_test))\n",
    "\n",
    "# La curva ROC y AUC son:\n",
    "fpr, tpr, thresholds = metrics.roc_curve(y_test, prediccionesProbRegLog[:,1], pos_label=1)\n",
    "AUCRegLog=metrics.auc(fpr, tpr)\n",
    "\n",
    "plt.title('Receiver Operating Characteristic')\n",
    "plt.plot(fpr, tpr, 'b', label = 'AUC = %0.2f' % AUCRegLog)\n",
    "plt.legend(loc = 'lower right')\n",
    "plt.plot([0, 1], [0, 1],'r--')\n",
    "plt.xlim([-0.01, 1])\n",
    "plt.ylim([0, 1.05])\n",
    "plt.ylabel('True Positive Rate')\n",
    "plt.xlabel('False Positive Rate')\n",
    "plt.show()"
   ]
  },
  {
   "cell_type": "markdown",
   "metadata": {},
   "source": [
    "### Punto 7 - Votación Mayoritaria\n",
    "En la celda 7 elabore un esamble con la metodología de **Votación mayoritaria** compuesto por 300 muestras bagged para cada uno de los siguientes escenarios:\n",
    "\n",
    "-100 árboles de decisión donde max_depth = None\\\n",
    "-100 árboles de decisión donde max_depth = 2\\\n",
    "-100 regresiones logísticas\n",
    "\n",
    "Evalúe los modelos utilizando las métricas de Accuracy y F1-Score."
   ]
  },
  {
   "cell_type": "code",
   "execution_count": 160,
   "metadata": {},
   "outputs": [
    {
     "name": "stdout",
     "output_type": "stream",
     "text": [
      "F1 Score \n",
      " 0.642384105960265 \n",
      "Accuracy \n",
      " 0.64\n"
     ]
    }
   ],
   "source": [
    "# Celda 7\n",
    "# 100 árboles de decisión donde max_depth = None\n",
    "clf = BaggingClassifier(base_estimator=DecisionTreeClassifier(max_depth = None), n_estimators=100, bootstrap=True,\n",
    "                        random_state=42, n_jobs=-1, oob_score=True)\n",
    "\n",
    "# Predicción y desempeño al hacer votación mayoritaria\n",
    "clf.fit(X_train, y_train)\n",
    "y_pred = clf.predict(X_test)\n",
    "print('F1 Score \\n',metrics.f1_score(y_pred, y_test), '\\nAccuracy \\n',metrics.accuracy_score(y_pred, y_test))\n"
   ]
  },
  {
   "cell_type": "code",
   "execution_count": 161,
   "metadata": {},
   "outputs": [
    {
     "name": "stdout",
     "output_type": "stream",
     "text": [
      "F1 Score \n",
      " 0.6439545758183033 \n",
      "Accuracy \n",
      " 0.6446666666666667\n"
     ]
    }
   ],
   "source": [
    "# 100 árboles de decisión donde max_depth = 2\n",
    "clf = BaggingClassifier(base_estimator=DecisionTreeClassifier(max_depth = 2), n_estimators=100, bootstrap=True,\n",
    "                        random_state=42, n_jobs=-1, oob_score=True)\n",
    "\n",
    "# Predicción y desempeño al hacer votación mayoritaria\n",
    "clf.fit(X_train, y_train)\n",
    "y_pred = clf.predict(X_test)\n",
    "print('F1 Score \\n',metrics.f1_score(y_pred, y_test), '\\nAccuracy \\n',metrics.accuracy_score(y_pred, y_test))"
   ]
  },
  {
   "cell_type": "code",
   "execution_count": 162,
   "metadata": {},
   "outputs": [
    {
     "name": "stdout",
     "output_type": "stream",
     "text": [
      "F1 Score \n",
      " 0.6136210384356034 \n",
      "Accuracy \n",
      " 0.618\n"
     ]
    }
   ],
   "source": [
    "# 100 regresiones logísticas\n",
    "clf = BaggingClassifier(base_estimator=LogisticRegression(), n_estimators=100, bootstrap=True,\n",
    "                        random_state=42, n_jobs=-1, oob_score=True)\n",
    "\n",
    "# Predicción y desempeño al hacer votación mayoritaria\n",
    "clf.fit(X_train, y_train)\n",
    "y_pred = clf.predict(X_test)\n",
    "print('F1 Score \\n',metrics.f1_score(y_pred, y_test), '\\nAccuracy \\n',metrics.accuracy_score(y_pred, y_test))"
   ]
  },
  {
   "cell_type": "markdown",
   "metadata": {},
   "source": [
    "### Punto 8 - Votación Ponderada\n",
    "En la celda 8 elabore un ensamble con la metodología de **Votación ponderada** compuesto por 300 muestras bagged para los mismos tres escenarios del punto 7. Evalúe los modelos utilizando las métricas de Accuracy y F1-Score"
   ]
  },
  {
   "cell_type": "code",
   "execution_count": 246,
   "metadata": {},
   "outputs": [
    {
     "name": "stdout",
     "output_type": "stream",
     "text": [
      "F1 Score \n",
      " 0.642384105960265 \n",
      "Accuracy \n",
      " 0.64\n",
      "\n",
      "Desempeno por votacion ponderada, \n",
      "F1 Score: \n",
      " 0.6513761467889909 \n",
      "Accuracy:\n",
      " 0.6453333333333333\n"
     ]
    }
   ],
   "source": [
    "# Celda 8\n",
    "# 100 árboles de decisión donde max_depth = None\n",
    "clf = BaggingClassifier(base_estimator=DecisionTreeClassifier(max_depth = None), n_estimators=100, bootstrap=True,\n",
    "                        random_state=42, n_jobs=-1, oob_score=True)\n",
    "\n",
    "# Predicción y desempeño al hacer votación mayoritaria\n",
    "clf.fit(X_train, y_train)\n",
    "y_pred = clf.predict(X_test)\n",
    "f1_1=metrics.f1_score(y_pred, y_test)\n",
    "a_1=metrics.accuracy_score(y_pred, y_test)\n",
    "\n",
    "print('F1 Score \\n',f1_1, '\\nAccuracy \\n',a_1)\n",
    "\n",
    "# Obtención de los pesos alpha de cada modelo de acuerdo al error OOB\n",
    "errors = np.zeros(clf.n_estimators)\n",
    "y_pred_all_ = np.zeros((X_test.shape[0], clf.n_estimators))\n",
    "\n",
    "for i in range(clf.n_estimators):\n",
    "    oob_sample = ~clf.estimators_samples_[i]\n",
    "    y_pred_ = clf.estimators_[i].predict(X_train.values[oob_sample])\n",
    "    errors[i] = metrics.accuracy_score(y_pred_, y_train.values[oob_sample])\n",
    "    y_pred_all_[:, i] = clf.estimators_[i].predict(X_test)\n",
    "    \n",
    "alpha = (1 - errors) / (1 - errors).sum()\n",
    "y_pred = (np.sum(y_pred_all_ * alpha, axis=1) >= 0.5).astype(np.int)\n",
    "F1_vp_1=metrics.f1_score(y_pred, y_test)\n",
    "a_vp_1=metrics.accuracy_score(y_pred, y_test)\n",
    "# Desempeño al hacer votación ponderada\n",
    "print('\\nDesempeno por votacion ponderada, \\nF1 Score: \\n',F1_vp_1,'\\nAccuracy:\\n', a_vp_1)"
   ]
  },
  {
   "cell_type": "code",
   "execution_count": 247,
   "metadata": {},
   "outputs": [
    {
     "name": "stdout",
     "output_type": "stream",
     "text": [
      "F1 Score \n",
      " 0.6439545758183033 \n",
      "Accuracy \n",
      " 0.6446666666666667\n",
      "\n",
      "Desempeno por votacion ponderada, \n",
      "F1 Score: \n",
      " 0.6448598130841121 \n",
      "Accuracy:\n",
      " 0.6453333333333333\n"
     ]
    }
   ],
   "source": [
    "# 100 árboles de decisión donde max_depth = 2\n",
    "clf = BaggingClassifier(base_estimator=DecisionTreeClassifier(max_depth = 2), n_estimators=100, bootstrap=True,\n",
    "                        random_state=42, n_jobs=-1, oob_score=True)\n",
    "\n",
    "# Predicción y desempeño al hacer votación mayoritaria\n",
    "clf.fit(X_train, y_train)\n",
    "y_pred = clf.predict(X_test)\n",
    "f1_2=metrics.f1_score(y_pred, y_test)\n",
    "a_2=metrics.accuracy_score(y_pred, y_test)\n",
    "\n",
    "print('F1 Score \\n',f1_2, '\\nAccuracy \\n',a_2)\n",
    "\n",
    "# Obtención de los pesos alpha de cada modelo de acuerdo al error OOB\n",
    "errors = np.zeros(clf.n_estimators)\n",
    "y_pred_all_ = np.zeros((X_test.shape[0], clf.n_estimators))\n",
    "\n",
    "for i in range(clf.n_estimators):\n",
    "    oob_sample = ~clf.estimators_samples_[i]\n",
    "    y_pred_ = clf.estimators_[i].predict(X_train.values[oob_sample])\n",
    "    errors[i] = metrics.accuracy_score(y_pred_, y_train.values[oob_sample])\n",
    "    y_pred_all_[:, i] = clf.estimators_[i].predict(X_test)\n",
    "    \n",
    "alpha = (1 - errors) / (1 - errors).sum()\n",
    "y_pred = (np.sum(y_pred_all_ * alpha, axis=1) >= 0.5).astype(np.int)\n",
    "F1_vp_2=metrics.f1_score(y_pred, y_test)\n",
    "a_vp_2=metrics.accuracy_score(y_pred, y_test)\n",
    "# Desempeño al hacer votación ponderada\n",
    "print('\\nDesempeno por votacion ponderada, \\nF1 Score: \\n',F1_vp_2,'\\nAccuracy:\\n', a_vp_2)"
   ]
  },
  {
   "cell_type": "code",
   "execution_count": 248,
   "metadata": {},
   "outputs": [
    {
     "name": "stdout",
     "output_type": "stream",
     "text": [
      "F1 Score \n",
      " 0.6136210384356034 \n",
      "Accuracy \n",
      " 0.618\n",
      "\n",
      "Desempeno por votacion ponderada, \n",
      "F1 Score: \n",
      " 0.6141414141414142 \n",
      "Accuracy:\n",
      " 0.618\n"
     ]
    }
   ],
   "source": [
    "# 100 regresiones logísticas\n",
    "clf = BaggingClassifier(base_estimator=LogisticRegression(), n_estimators=100, bootstrap=True,\n",
    "                        random_state=42, n_jobs=-1, oob_score=True)\n",
    "\n",
    "# Predicción y desempeño al hacer votación mayoritaria\n",
    "clf.fit(X_train, y_train)\n",
    "y_pred = clf.predict(X_test)\n",
    "f1_3=metrics.f1_score(y_pred, y_test)\n",
    "a_3=metrics.accuracy_score(y_pred, y_test)\n",
    "\n",
    "print('F1 Score \\n',f1_3, '\\nAccuracy \\n',a_3)\n",
    "\n",
    "# Obtención de los pesos alpha de cada modelo de acuerdo al error OOB\n",
    "errors = np.zeros(clf.n_estimators)\n",
    "y_pred_all_ = np.zeros((X_test.shape[0], clf.n_estimators))\n",
    "\n",
    "for i in range(clf.n_estimators):\n",
    "    oob_sample = ~clf.estimators_samples_[i]\n",
    "    y_pred_ = clf.estimators_[i].predict(X_train.values[oob_sample])\n",
    "    errors[i] = metrics.accuracy_score(y_pred_, y_train.values[oob_sample])\n",
    "    y_pred_all_[:, i] = clf.estimators_[i].predict(X_test)\n",
    "    \n",
    "alpha = (1 - errors) / (1 - errors).sum()\n",
    "y_pred = (np.sum(y_pred_all_ * alpha, axis=1) >= 0.5).astype(np.int)\n",
    "F1_vp_3=metrics.f1_score(y_pred, y_test)\n",
    "a_vp_3=metrics.accuracy_score(y_pred, y_test)\n",
    "# Desempeño al hacer votación ponderada\n",
    "print('\\nDesempeno por votacion ponderada, \\nF1 Score: \\n',F1_vp_3,'\\nAccuracy:\\n', a_vp_3)"
   ]
  },
  {
   "cell_type": "markdown",
   "metadata": {},
   "source": [
    "### Punto 9 - Comparación y análisis de resultados\n",
    "En la celda 9 comente sobre los resultados obtenidos con las metodologías usadas en los puntos 7 y 8, compare los resultados y enuncie posibles ventajas o desventajas de cada una de ellas."
   ]
  },
  {
   "cell_type": "code",
   "execution_count": 249,
   "metadata": {},
   "outputs": [
    {
     "data": {
      "image/png": "[encoded data removed]",
      "text/plain": [
       "<Figure size 1440x1080 with 3 Axes>"
      ]
     },
     "metadata": {
      "needs_background": "light"
     },
     "output_type": "display_data"
    }
   ],
   "source": [
    "# Celda 9\n",
    "\n",
    "# Para el caso 1 se tiene que:\n",
    "\n",
    "fig = plt.figure(figsize=(20,15))\n",
    "ax1=plt.subplot(3,1,1)\n",
    "\n",
    "\n",
    "ejeX = ['Votacion Mayoritaria F1_score','Votacion Mayoritaria Accuracy', 'Votacion Ponderada F1_score', 'Votacion Ponderada Accuracy']\n",
    "ejeY = [f1_1,a_1,F1_vp_1,a_vp_1]\n",
    "plt.bar(ejeX,ejeY)\n",
    "ax1.plot(ejeX,ejeY,marker='o', color= 'red')\n",
    "def addlabels(x,y,plotP):\n",
    "    for i in range(len(x)):\n",
    "        plotP.text(i,y[i],y[i])\n",
    "addlabels(ejeX,ejeY,plt)\n",
    "\n",
    "plt.title(\"ensamble con: 100 árboles de decisión donde max_depth = None\")\n",
    "\n",
    "ax2=plt.subplot(3,1,2)\n",
    "\n",
    "\n",
    "ejeX = ['Votacion Mayoritaria F1_score','Votacion Mayoritaria Accuracy', 'Votacion Ponderada F1_score', 'Votacion Ponderada Accuracy']\n",
    "ejeY = [f1_2,a_2,F1_vp_2,a_vp_2]\n",
    "plt.bar(ejeX,ejeY)\n",
    "ax2.bar(ejeX,ejeY,color='orange')\n",
    "ax2.plot(ejeX,ejeY,marker='o', color= 'red')\n",
    "\n",
    "def addlabels(x,y,plotP):\n",
    "    for i in range(len(x)):\n",
    "        plotP.text(i,y[i],y[i])\n",
    "addlabels(ejeX,ejeY,plt)\n",
    "\n",
    "plt.title(\"100 árboles de decisión donde max_depth = 2\")\n",
    "\n",
    "ax3=plt.subplot(3,1,3)\n",
    "\n",
    "\n",
    "ejeX = ['Votacion Mayoritaria F1_score','Votacion Mayoritaria Accuracy', 'Votacion Ponderada F1_score', 'Votacion Ponderada Accuracy']\n",
    "ejeY = [f1_3,a_3,F1_vp_3,a_vp_3]\n",
    "plt.bar(ejeX,ejeY)\n",
    "ax3.bar(ejeX,ejeY,color='green')\n",
    "ax3.plot(ejeX,ejeY,marker='o', color= 'red')\n",
    "\n",
    "def addlabels(x,y,plotP):\n",
    "    for i in range(len(x)):\n",
    "        plotP.text(i,y[i],y[i])\n",
    "addlabels(ejeX,ejeY,plt)\n",
    "\n",
    "plt.title(\"100 regresiones logísticas\")\n",
    "\n",
    "plt.show()"
   ]
  },
  {
   "cell_type": "code",
   "execution_count": null,
   "metadata": {},
   "outputs": [],
   "source": [
    "# Para el caso 1 ensamble con: 100 árboles de decisión donde max_depth = None, se encontro que con la votacion ponderada se mejoraron las metricas F1 Score y Acuracy, \n",
    "# obteniendo asilas mejores metricas de todos los casos, ya que a esta se le debe agregar que el max_depth=None influyo en el desempeno del modelo, en general este \n",
    "# comportamiento de la votacion ponderada se mantuvo en los demas casos, lo que cambio para tener un mejor score en general, fue la configuracion del estimador base del \n",
    "# bagging, ya que para el segundo caso max_depth = 2, y para el tercer caso el estimador base fue la regresion logistica.\n",
    "# Cabe mencionar, que para el emsable bagging los estimadores base que tiene mejor comportamiento son los arboles y sus derivados, ya que permite que los arboles crezcan profundamente\n",
    "# para obtener un sesgo bajo y una varianza alta. Por otra parte, el metodo bagging no es tan efectivo con modelos de baja varianza, en este caso la regresion logistica tiene varianza\n",
    "# menor que el arbol de decision. \n",
    "\n",
    "# La razon mas importante de usar un arbol de decision con bagging es por Una ventaja que ya sabemos que tienen los árboles de decisión es su fácil interpretabilidad. \n",
    "# En un árbol resulta evidente cuales son los predictores más influyentes. Al utilizar bagging se mejora (mucho) la predicción, pero se pierde la interpretabilidad. \n",
    "\n",
    "# Con respecto a la mejor forma de combinar las predicciones de los modelos utilizados, tuvo un mejor comportamiento la votacion ponderada\n",
    "\n",
    "# Una de las ventajas en usar un arbol de decision en los Bagging es que no se ven muy afectados po datos atipicos en la informacion.\n",
    "# Si no existe varianza en el conjunto de datos, la tecninca bagging no mejora significativamente el modelo\n",
    "# Minestras mas inestable sea el modelo, mejor la prediccion al usar Bagging\n",
    "# Mejora la predicción, ya que lo que no detecta un modelo lo detectan los otros. *No mejora significativamente las funciones lineales, \n",
    "# ya que el ensamble de una función lineal da como resultado otra función lineal\n",
    "# Una ventaja adicional del bagging es que permite estimar el error de la predicción de forma directa, \n",
    "# sin necesidad de utilizar una muestra de test o de aplicar validación cruzada u, otra vez, remuestreo, y se obtiene un resultado similar al que obtendríamos con estos métodos.\n",
    "\n",
    "# Una desventaja es que Una desventaja del bagging es que introduce una pérdida de interpretabilidad de un modelo. \n",
    "# El modelo resultante puede experimentar muchos sesgos cuando se ignora el procedimiento adecuado. \n",
    "# A pesar de que el bagging es muy preciso, puede ser costoso desde el punto de vista computacional, lo que puede desaconsejar su uso en determinados casos."
   ]
  }
 ],
 "metadata": {
  "kernelspec": {
   "display_name": "Python 3",
   "language": "python",
   "name": "python3"
  },
  "language_info": {
   "codemirror_mode": {
    "name": "ipython",
    "version": 3
   },
   "file_extension": ".py",
   "mimetype": "text/x-python",
   "name": "python",
   "nbconvert_exporter": "python",
   "pygments_lexer": "ipython3",
   "version": "3.8.3"
  }
 },
 "nbformat": 4,
 "nbformat_minor": 4
}
