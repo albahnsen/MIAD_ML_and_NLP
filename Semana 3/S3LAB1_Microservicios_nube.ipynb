{
 "cells": [
  {
   "cell_type": "markdown",
   "metadata": {},
   "source": [
    "![image info](https://raw.githubusercontent.com/albahnsen/MIAD_ML_and_NLP/main/images/banner_1.png)"
   ]
  },
  {
   "cell_type": "markdown",
   "metadata": {},
   "source": [
    "# Disponibilización de modelos en la nube\n",
    "\n",
    "En este notebook encontrará un tutorial con el que aprenderá a disponibilizar un modelo en una API alojada en un servicio en la nube. Los servicios de nube son plataformas de software que ofrecen servicios informáticos a través de Internet. Particularmente, en este notebook se usara Amazon Web Services (AWS), que es una plataforma de computación en la nube integral creada por Amazon que ofrece servicios como almacenamiento, redes, computación remota, correo electrónico, desarrollo móvil, servidores y seguridad."
   ]
  },
  {
   "cell_type": "markdown",
   "metadata": {},
   "source": [
    "Este notebook esta bajo la licencia de [Creative Commons Attribution-ShareAlike 3.0 Unported License](http://creativecommons.org/licenses/by-sa/3.0/deed.en_US)."
   ]
  },
  {
   "cell_type": "markdown",
   "metadata": {},
   "source": [
    "## Instrucciones Generales:\n",
    "\n",
    "Este notebook esta compuesto por cuatro secciones. En la primera sección, usted aprenderá a crear su cuenta de AWS, y en la segunda, a crear la instancia de EC2 (un servidor virtual) en AWS para disponibilizar el modelo en la nube. Luego, en la tercera sección aprenderá a conectarse con instacia creada, y finalmente en la ultima sección, a implementar la API de Flask.\n",
    "  \n",
    "Para realizar la actividad, solo siga las indicaciones asociadas a cada celda del notebook. \n"
   ]
  },
  {
   "cell_type": "markdown",
   "metadata": {},
   "source": [
    "## Ingreso a AWS\n",
    "En esta sección se indica cómo crear una cuenta nueva y cómo ingresar a AWS."
   ]
  },
  {
   "cell_type": "markdown",
   "metadata": {},
   "source": [
    "### Crear cuenta en AWS\n",
    "Ingrese al portal de [AWS](https://portal.aws.amazon.com/billing/signup) y cree una cuenta propia siguendo los pasos indicados en la página. Si ya tiene una cuenta inicie sesión.\n",
    "\n",
    "![](https://raw.githubusercontent.com/albahnsen/MIAD_ML_and_NLP/main/images/AWS/img001.PNG)"
   ]
  },
  {
   "cell_type": "markdown",
   "metadata": {},
   "source": [
    "![](https://raw.githubusercontent.com/albahnsen/MIAD_ML_and_NLP/main/images/AWS/img001B.PNG)"
   ]
  },
  {
   "cell_type": "markdown",
   "metadata": {},
   "source": [
    "### Esperar hasta que la cuenta este activa\n",
    "Una vez haya creado su cuenta, espere que esta sea activada. Esto suele demorarse varios minutos.\n",
    "\n",
    "![](https://raw.githubusercontent.com/albahnsen/MIAD_ML_and_NLP/main/images/AWS/img003.PNG)"
   ]
  },
  {
   "cell_type": "markdown",
   "metadata": {},
   "source": [
    "### Inicie sesión en la consola de administración de AWS\n",
    "Con su cuenta activa, podrá ingresar a la consola de admisnitración (management console) donde podrá encontrar los diferentes servicios que ofrece AWS.\n",
    "![](https://raw.githubusercontent.com/albahnsen/MIAD_ML_and_NLP/main/images/AWS/img002.GIF)"
   ]
  },
  {
   "cell_type": "markdown",
   "metadata": {},
   "source": [
    "## Crear instancia de EC2\n",
    "En esta sección se indica cómo crear una instancia de EC2. Una instancia de Elastic Compute Cloud (EC2) es un servidor virtual para ejecutar aplicaciones en la infraestructura de Amazon Web Services (AWS). La instancia se crean a partir de Amazon Machine Images (AMI), ya que estas ultimas incluyen los requerimientos para crear la instancia, por ejemplo capacidad y sistema operativo. Para más detalles de este servicio y sus caracteristicas, puede visitar el siguiente enlace: [link](https://aws.amazon.com/es/ec2/?ec2-whats-new.sort-by=item.additionalFields.postDateTime&ec2-whats-new.sort-order=desc)\n",
    "\n",
    "![](https://raw.githubusercontent.com/albahnsen/MIAD_ML_and_NLP/main/images/AWS/img003A.PNG)"
   ]
  },
  {
   "cell_type": "markdown",
   "metadata": {},
   "source": [
    "### Seleccionar AMI\n",
    "Primero busque en la consola de administración el servicio de EC2 y selecciónelo. A continuación, seleccione la AMI (que se ve en la imagen) a usar en la instancia.\n",
    "![](https://raw.githubusercontent.com/albahnsen/MIAD_ML_and_NLP/main/images/AWS/img004.PNG)"
   ]
  },
  {
   "cell_type": "markdown",
   "metadata": {},
   "source": [
    "### Seleccionar tipo de instancia\n",
    "Luego seleccione el tipo de instancia. En este caso se usará una t2.micro, tal y como muestra la imagen, y se continúa dando click al botón *Revisar y lanzar*.\n",
    "![](https://raw.githubusercontent.com/albahnsen/MIAD_ML_and_NLP/main/images/AWS/img005.PNG)"
   ]
  },
  {
   "cell_type": "markdown",
   "metadata": {},
   "source": [
    "### Configurar seguridad\n",
    "Ahora, configure el grupo de seguridad (Security Group) que, de manera general, es un firewall virtual para las instancias EC2 que controla el tráfico entrante y saliente. Agregue la regla de tipo *SSH* que se ve en la imagen. Para más detalles, puede visitar el siguiente enlace: [link](https://docs.aws.amazon.com/es_es/AWSEC2/latest/UserGuide/ec2-security-groups.html)\n",
    "![](https://raw.githubusercontent.com/albahnsen/MIAD_ML_and_NLP/main/images/AWS/img006.PNG)"
   ]
  },
  {
   "cell_type": "markdown",
   "metadata": {},
   "source": [
    "A continuación, agregue otra regla de tipo Custom TCP con puerto 5000. Este será el que se usará para conectar con Falsk.\n",
    "![](https://raw.githubusercontent.com/albahnsen/MIAD_ML_and_NLP/main/images/AWS/img007.PNG)"
   ]
  },
  {
   "cell_type": "markdown",
   "metadata": {},
   "source": [
    "### Lanzamineto de la instancia\n",
    "Antes de hacer el 'lanzamiento' o 'launch' de la instancia revise los parámetros y detalles de cada componente. Una vez haya validado, de click en el botón *lanzar*.\n",
    "![](https://raw.githubusercontent.com/albahnsen/MIAD_ML_and_NLP/main/images/AWS/img008.PNG)"
   ]
  },
  {
   "cell_type": "markdown",
   "metadata": {},
   "source": [
    "### Descargar Key de seguridad de la instancia\n",
    "Por último, debe generar un *key pair* selecionando *Create a new key pair* y asignando el nombre de *temp_key_aws*. Luego de click en *Download Key Pair* y asegurese de guardar el archivo (.pem), pues no podrá descargarlo después de creada la instancia. Esta llave o Key le permitirá conectarse a la instancia luego, ya que son las credenciales para demostrar su identidad cuando se conecta a una instancia de Amazon EC2.\n",
    "![](https://raw.githubusercontent.com/albahnsen/MIAD_ML_and_NLP/main/images/AWS/img009.PNG)"
   ]
  },
  {
   "cell_type": "markdown",
   "metadata": {},
   "source": [
    "### Instancia creada\n",
    "Una vez hya guardado deberá poder ver en la consola una unstancia creada.....\n",
    "![](https://raw.githubusercontent.com/albahnsen/MIAD_ML_and_NLP/main/images/AWS/img010.PNG)"
   ]
  },
  {
   "cell_type": "markdown",
   "metadata": {},
   "source": [
    "## Conectarse a la instancia de AWS\n",
    "\n",
    "Para conectarse a la instancia que acaba de crear, siga el sigueinte [tutorial](https://docs.aws.amazon.com/AWSEC2/latest/UserGuide/AccessingInstancesLinux.html). Una vez lo haya hecho, desde su consola local podrá ver el siguiente contenido.\n",
    "\n",
    "![](https://raw.githubusercontent.com/albahnsen/MIAD_ML_and_NLP/main/images/AWS/img011.PNG)"
   ]
  },
  {
   "cell_type": "markdown",
   "metadata": {},
   "source": [
    "## Implementar la API de Flask\n",
    "En esta sección se indica cómo implementar la API de flask para desplegar el modelo trabajado en el laboratorio anterior donde disponibilizo un modelo de manera local."
   ]
  },
  {
   "cell_type": "markdown",
   "metadata": {},
   "source": [
    "### Instalar Anaconda\n",
    "\n",
    "Instale Anaconda con los siguientes comandos:\n",
    "\n",
    "`wget https://repo.anaconda.com/archive/Anaconda3-2018.12-Linux-x86_64.sh`\n",
    "\n",
    "![](https://raw.githubusercontent.com/albahnsen/MIAD_ML_and_NLP/main/images/AWS/img011B.png)\n",
    "\n",
    "`bash Anaconda3-2018.12-Linux-x86_64.sh`\n",
    "\n",
    "![](https://raw.githubusercontent.com/albahnsen/MIAD_ML_and_NLP/main/images/AWS/img011C.png)\n",
    "\n",
    "\n",
    "Para validar que haya quedado instalado corra el comando *python* en la consola y para salir presione las teclas `ctrl + z`.\n",
    "\n",
    "![](https://raw.githubusercontent.com/albahnsen/MIAD_ML_and_NLP/main/images/AWS/img011A.PNG)"
   ]
  },
  {
   "cell_type": "markdown",
   "metadata": {},
   "source": [
    "### Clonar repositorio\n",
    "Clone el repositorio del curso en la consola con el comando:\n",
    "`git clone https://github.com/albahnsen/MIAD_ML_and_NLP.git`\n",
    "\n",
    "![](https://raw.githubusercontent.com/albahnsen/MIAD_ML_and_NLP/main/images/AWS/img012.PNG)\n",
    "\n",
    "Una vez clonado, dirigase a la carpeta 'model_deployment' con el comando:\n",
    "`cd MIAD_AND_NLP/model_deployment/`\n",
    "\n",
    "![](https://raw.githubusercontent.com/albahnsen/MIAD_ML_and_NLP/main/images/AWS/img012A.PNG)"
   ]
  },
  {
   "cell_type": "markdown",
   "metadata": {},
   "source": [
    "### Instalar librerías adicionales\n",
    "\n",
    "Instale la librería Flask en la consola con el comando:\n",
    "`pip install flask-restplus`"
   ]
  },
  {
   "cell_type": "markdown",
   "metadata": {},
   "source": [
    "Corra el siguiente comando para finalizar el desplegue de la API usando flask\n",
    "\n",
    "`nohup python api.py &`"
   ]
  },
  {
   "cell_type": "markdown",
   "metadata": {},
   "source": [
    "## Validar API en AWS\n",
    "Diríjase al portal de -ec2-machine-ip-:5000 para acceder en la dirección. En el caso ejemplo corresponde a http://54.175.140.184:5000/, sin embargo esta puede variar.\n",
    "\n",
    "![](https://raw.githubusercontent.com/albahnsen/MIAD_ML_and_NLP/main/images/AWS/img015.PNG)"
   ]
  },
  {
   "cell_type": "markdown",
   "metadata": {},
   "source": [
    "### Comando para terminar el proceso\n",
    "Use el siguente comando **ps -ef |grep jupyter** para para terminar proceso, luego use **kill -9 xxxx** donde xxxx es el numero de proceso.\n"
   ]
  }
 ],
 "metadata": {
  "kernelspec": {
   "display_name": "Python 3",
   "language": "python",
   "name": "python3"
  },
  "language_info": {
   "codemirror_mode": {
    "name": "ipython",
    "version": 3
   },
   "file_extension": ".py",
   "mimetype": "text/x-python",
   "name": "python",
   "nbconvert_exporter": "python",
   "pygments_lexer": "ipython3",
   "version": "3.7.6"
  }
 },
 "nbformat": 4,
 "nbformat_minor": 4
}
